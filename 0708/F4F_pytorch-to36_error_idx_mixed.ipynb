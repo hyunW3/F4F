{
 "cells": [
  {
   "cell_type": "code",
   "execution_count": 1,
   "metadata": {},
   "outputs": [
    {
     "name": "stdout",
     "output_type": "stream",
     "text": [
      "1.8.0 0.2.2\n",
      "TITAN RTX\n"
     ]
    }
   ],
   "source": [
    "import os\n",
    "os.environ[\"CUDA_DEVICE_ORDER\"] = \"PCI_BUS_ID\"\n",
    "os.environ['CUDA_VISIBLE_DEVICES'] = '2'\n",
    "os.environ[\"TF_CPP_MIN_LOG_LEVEL\"] = '3'\n",
    "import torch\n",
    "import torchvision\n",
    "import torchvision.transforms as transforms\n",
    "import torchvision.datasets as dataset\n",
    "from torch.autograd import Variable\n",
    "import torch.nn as nn\n",
    "import torch.nn.functional as F\n",
    "import matplotlib.pyplot as plt\n",
    "import numpy as np\n",
    "from copy import deepcopy as d_copy\n",
    "import random\n",
    "\n",
    "print(torch.__version__, torchvision.__version__)\n",
    "print(torch.cuda.get_device_name(0))"
   ]
  },
  {
   "cell_type": "code",
   "execution_count": 2,
   "metadata": {},
   "outputs": [
    {
     "name": "stdout",
     "output_type": "stream",
     "text": [
      "cuda\n"
     ]
    }
   ],
   "source": [
    "device = torch.device(\"cuda\" if torch.cuda.is_available() else \"cpu\")\n",
    "#error_index = 0\n",
    "vgg16_bn = torchvision.models.vgg16_bn(pretrained=True)#.to(device)\n",
    "print(device)"
   ]
  },
  {
   "cell_type": "code",
   "execution_count": 3,
   "metadata": {},
   "outputs": [],
   "source": [
    "In_layer_number = 34 # 34 conv5_1 convolution\n",
    "Out_layer_number = 36 # 36 conv5_1 relu \n",
    "error_index=0\n",
    "max_epochs = 30\n",
    "num_error = 128"
   ]
  },
  {
   "cell_type": "code",
   "execution_count": 4,
   "metadata": {},
   "outputs": [],
   "source": [
    "# randomness 제어 \n",
    "# https://hoya012.github.io/blog/reproducible_pytorch/\n",
    "def set_randomness(seed=0):\n",
    "    torch.manual_seed(seed)\n",
    "    torch.cuda.manual_seed(seed)\n",
    "    torch.cuda.manual_seed_all(seed)\n",
    "    torch.backends.cudnn.deterministic = True\n",
    "    torch.backends.cudnn.benchmark = False\n",
    "    np.random.seed(seed)\n",
    "    random.seed(seed)\n",
    "# func\n",
    "\n",
    "# only apply for feature part (not pooling, classfier)\n",
    "# because of layers.feature \n",
    "def split_layer(model,start,end):\n",
    "    ct = 0\n",
    "    split_model=[] # from start to Conv5_1(include ReLU)\n",
    "    for name,layers in model.named_modules():\n",
    "        #print(name,layer)\n",
    "        #print(layers.features)\n",
    "        for idx,layer in enumerate(layers.features):\n",
    "            #print(idx,layer)\n",
    "            if start <=idx and idx <=end :\n",
    "                split_model.append(layer)\n",
    "        break\n",
    "    return nn.Sequential(*split_model)\n",
    "\n",
    "def error_injection(name,num_error,start_index):\n",
    "    def hook(model,input):\n",
    "        start = start_index\n",
    "        end = start_index + num_error\n",
    "        input[0][:, start:end]=0\n",
    "        print(\"shape :\",input[0][:, start:end].size())\n",
    "    return hook\n"
   ]
  },
  {
   "cell_type": "code",
   "execution_count": 5,
   "metadata": {},
   "outputs": [
    {
     "name": "stdout",
     "output_type": "stream",
     "text": [
      "acc_log_to34.txt  F4F_pytorch-to36_error_idx_mixed.ipynb\n"
     ]
    }
   ],
   "source": [
    "!ls /media/2/hwbae0326/F4F/0708"
   ]
  },
  {
   "cell_type": "code",
   "execution_count": 6,
   "metadata": {},
   "outputs": [
    {
     "name": "stdout",
     "output_type": "stream",
     "text": [
      "8000 3125\n"
     ]
    }
   ],
   "source": [
    "# dataset load\n",
    "batch_size = 16 # 32~ out of memory in 3080\n",
    "num_train = 128000\n",
    "#num_train = 128\n",
    "transform = transforms.Compose([\n",
    "    transforms.Resize(256),\n",
    "    transforms.CenterCrop(224),\n",
    "    transforms.ToTensor(),\n",
    "    transforms.Normalize(mean=[0.485, 0.456, 0.406],\n",
    "                         std=[0.229, 0.224, 0.225])\n",
    "])\n",
    "\n",
    "dataset_path = \"/media/2/Network/Imagenet_dup/\"\n",
    "retrain_model_path = \"/media/0/Network/0708_to_34models/\"\n",
    "# imagenet data load\n",
    "train_dataset = dataset.ImageFolder(root=dataset_path+\"train\",\n",
    "                                       transform=transform)\n",
    "subset_train_dataset,_ = torch.utils.data.random_split(train_dataset, [num_train,len(train_dataset)-num_train])\n",
    "\n",
    "test_dataset = dataset.ImageFolder(root=dataset_path+\"val\",\n",
    "                                       transform=transform)\n",
    "'''\n",
    "train_dataloader = torch.utils.data.DataLoader(train_dataset,\n",
    "                                        batch_size=64,\n",
    "                                        shuffle=False,\n",
    "                                        num_workers=4)\n",
    "'''\n",
    "\n",
    "train_dataloader = torch.utils.data.DataLoader(subset_train_dataset,\n",
    "                                        batch_size=batch_size,\n",
    "                                        shuffle=True,\n",
    "                                        num_workers=4) # for using subset\n",
    "test_dataloader = torch.utils.data.DataLoader(test_dataset,\n",
    "                                        batch_size=batch_size,\n",
    "                                        shuffle=True,\n",
    "                                        num_workers=4)\n",
    "print(len(train_dataloader),len(test_dataloader))"
   ]
  },
  {
   "cell_type": "code",
   "execution_count": 7,
   "metadata": {},
   "outputs": [],
   "source": [
    "if os.path.isdir(retrain_model_path) is False:\n",
    "    os.mkdir(retrain_model_path)\n",
    "    "
   ]
  },
  {
   "cell_type": "code",
   "execution_count": 8,
   "metadata": {},
   "outputs": [
    {
     "data": {
      "text/plain": [
       "['make_F4F_pytorch-to34_F4Famended.ipynb',\n",
       " '.ipynb_checkpoints',\n",
       " 'extracted_feature',\n",
       " 'VGG16',\n",
       " 'start.py',\n",
       " 'acc_log_to34.txt',\n",
       " 'make_F4F_pytorch-to34.ipynb',\n",
       " '0708_to_34models',\n",
       " '0624_to_34models']"
      ]
     },
     "execution_count": 8,
     "metadata": {},
     "output_type": "execute_result"
    }
   ],
   "source": [
    "os.listdir(retrain_model_path+\"../\")"
   ]
  },
  {
   "cell_type": "code",
   "execution_count": 9,
   "metadata": {
    "scrolled": true,
    "tags": []
   },
   "outputs": [],
   "source": [
    "seed = 0\n",
    "set_randomness(seed)"
   ]
  },
  {
   "cell_type": "code",
   "execution_count": 10,
   "metadata": {},
   "outputs": [],
   "source": [
    "# external variable in error_index, num_error\n",
    "\n",
    "def make_error_info(error_index, num_error):\n",
    "    data = []\n",
    "    for i in range(511,-1,-1):\n",
    "        if error_index <= i and i < error_index+num_error:\n",
    "            data.append(1)\n",
    "        else :\n",
    "            data.append(0)\n",
    "        #print(data)\n",
    "    error_info = torch.Tensor(data)\n",
    "    error_info  = error_info.unsqueeze(0).repeat(512,1)\n",
    "    #print(\"error_info :\",error_info)\n",
    "    return error_info # 512,521\n",
    "class F4F(nn.Module):\n",
    "    def __init__(self):\n",
    "        super().__init__()\n",
    "        self.f4f = nn.Linear(3*3*512+512,3*3*512) # 4167,4608 filter which change feature.34 (Conv5_1)\n",
    "        # 512 x5120 사이즈로 batch 저장\n",
    "    def get_f4f_weight(self):\n",
    "        # fc.weight.size(),fc.bias.size()\n",
    "        return self.f4f.weight # torch.Size([4608, 5120])\n",
    "    def forward(self,x):\n",
    "        x = self.f4f(x)\n",
    "        y = torch.tanh(x)\n",
    "        return y\n",
    "        "
   ]
  },
  {
   "cell_type": "code",
   "execution_count": null,
   "metadata": {},
   "outputs": [],
   "source": []
  },
  {
   "cell_type": "code",
   "execution_count": 11,
   "metadata": {},
   "outputs": [],
   "source": [
    "def hook_register(model,error_index,num_error):\n",
    "    for name,layer in model.named_modules():\n",
    "        #print(name,layer)\n",
    "        if \"34\" in name  and isinstance(layer, torch.nn.modules.conv.Conv2d):\n",
    "            print(\"input\",name,layer) # target layer Conv5_1\n",
    "            layer.register_forward_pre_hook(error_injection(name,num_error,error_index))\n",
    "        break"
   ]
  },
  {
   "cell_type": "code",
   "execution_count": 12,
   "metadata": {},
   "outputs": [],
   "source": [
    "class Target_model(nn.Module):\n",
    "    def __init__(self,model):\n",
    "        super().__init__()\n",
    "        self.model = model\n",
    "    def get_layer(self,idx):\n",
    "        #print(self.model._modules['34'])\n",
    "        layer =None\n",
    "        try : # target model\n",
    "            layer = self.model._modules[str(idx)]\n",
    "        except KeyError: # test_model\n",
    "            layer = self.model.features._modules[str(idx)]\n",
    "        return layer\n",
    "    def apply_f4f(self,f4f,error_info):\n",
    "            #print(len(self.get_layer(34).weight.data))\n",
    "            #print(self.get_layer(34).weight.data.size())\n",
    "        weight = torch.reshape(self.get_layer(34).weight.data,(512,512*3*3)).to(device) # flatten [512,5210] (batch 512)\n",
    "            #print(weight.size(),error_info.size())\n",
    "        data = torch.cat( (weight,error_info), 1 )\n",
    "            #print(data.size())\n",
    "        offset = torch.reshape(f4f(data),(512,512,3,3))\n",
    "        #print(\"offset is\",offset[0][0][0])\n",
    "        #offset = torch.tanh(offset)\n",
    "        #print(\"before apply f4f\",self.get_layer(34).weight.data[0][0][0])\n",
    "        self.get_layer(34).weight.data = self.get_layer(34).weight.data + offset\n",
    "        #print(\"after apply f4f\",self.get_layer(34).weight.data[0][0][0])\n",
    "    def forward(self,x,f4f,error_info):\n",
    "        # apply_f4f는 매 epoch마다 동일하므로 \n",
    "        self.apply_f4f(f4f,error_info)\n",
    "        y = self.model(x)\n",
    "        return y\n"
   ]
  },
  {
   "cell_type": "code",
   "execution_count": 13,
   "metadata": {},
   "outputs": [],
   "source": [
    "# evaluation phasetraining\n",
    "def eval(model,dataloader,epoch,f4f,error_info):\n",
    "\n",
    "    model.cuda()\n",
    "    model.eval()\n",
    "    total = 0\n",
    "    correct =0\n",
    "    with torch.no_grad():\n",
    "        print(\"======eval start=======\")\n",
    "        for i, data in enumerate(dataloader):\n",
    "            inputs,labels = data\n",
    "            inputs,labels = inputs.to(device), labels.to(device)\n",
    "        \n",
    "            y_hat = model(inputs,f4f,error_info)\n",
    "            _, predicted = torch.max(y_hat.data, 1)\n",
    "            total += labels.size(0)\n",
    "            correct += (predicted == labels).sum().item()\n",
    "            if(i%200 == 199):\n",
    "                print(\"step : %d / %d acc : %.3f\"\n",
    "                      %(i + 1,int(len(dataloader)), correct*100/total))\n",
    "                #print(\".\",end=\"\")\n",
    "        print(\"\")\n",
    "    acc = 100*correct/total\n",
    "    print(\"%dth epoch acc of %s on imagenet : %.4f %%\" %(epoch, model.__class__.__name__,acc)) \n",
    "    f = open(log_file,\"a\")\n",
    "    print(\"%dth epoch acc of %s on imagenet : %.4f %%\" %(epoch, model.__class__.__name__,acc),file=f) \n",
    "    f.close()\n",
    "    print(\"======eval  end ======\")  \n",
    "    return acc\n",
    "#torch.save(vgg16_bn.state_dict(), retrain_model_path+\"test_vgg16_bn_state_dict.pt\")\n",
    "def model_copy(model):\n",
    "    return d_copy(model.state_dict())"
   ]
  },
  {
   "cell_type": "code",
   "execution_count": 14,
   "metadata": {},
   "outputs": [],
   "source": [
    "# training\n",
    "def training(f4f,test_model,target_model,original_model,\n",
    "             train_dataloader,test_dataloader,\n",
    "             loss_fn,optimizer,\n",
    "             error_idx,num_error,\n",
    "             max_epochs=30,subset=False):\n",
    "    \n",
    "    target_model.to(device)\n",
    "    original_model.to(device)\n",
    "    error_info = make_error_info(error_index,num_error).to(device)\n",
    "    first_feature = []\n",
    "    original = []\n",
    "    for epoch in range(max_epochs):\n",
    "        running_loss = 0.0\n",
    "        total_avg_loss = 0.0\n",
    "        print(\"=====epoch %d start======\"%(epoch+1))\n",
    "        f4f.train()\n",
    "        # update f4f filter\n",
    "        #target_model.apply_f4f(f4f,error_info)\n",
    "    \n",
    "        # compare\n",
    "        for i, data in enumerate(train_dataloader):\n",
    "            print(\".\",end=\"\")\n",
    "            inputs,labels = data\n",
    "            inputs,labels = inputs.to(device), labels.to(device)\n",
    "            \n",
    "            original_out = original_model(inputs)\n",
    "            target_out = target_model(inputs,f4f,error_info)\n",
    "            #print(original_out[0][0][0],target_out[0][0][0])\n",
    "            #exit(0)\n",
    "            if i == 0:\n",
    "                first_feature.append(target_out[0])\n",
    "                original.append(original_out[0])\n",
    "                \n",
    "            loss = loss_fn(original_out,target_out)\n",
    "            #print(loss.size())\n",
    "            running_loss += loss.item()\n",
    "            target_model.model.zero_grad()\n",
    "            loss.backward()\n",
    "            optimizer.step()\n",
    "            if i % 100 == 99: \n",
    "                total_avg_loss += running_loss\n",
    "                print(\"\")\n",
    "                print('[%d, %5d] loss: %.6f' % (epoch+1, i+1, running_loss/100)) \n",
    "                running_loss = 0.0\n",
    "        # save weight\n",
    "        #print((len(train_dataloader)/batch_size))\n",
    "        total_avg_loss /= int(len(train_dataloader)/batch_size)\n",
    "        acc = eval(test_model,test_dataloader,epoch,f4f,error_info)\n",
    "        \n",
    "        torch.save(f4f.get_f4f_weight(), \n",
    "               retrain_model_path+\"%s~%s_pkt_err_f4f_epoch_%s_acc_%.4f_loss_%.4f.pt\"\n",
    "               %(str(error_idx).zfill(3),str(error_idx+num_error).zfill(3),\n",
    "                str(epoch+1).zfill(2),acc,total_avg_loss))    \n",
    "    return original_out,first_feature\n",
    "                "
   ]
  },
  {
   "cell_type": "code",
   "execution_count": null,
   "metadata": {},
   "outputs": [],
   "source": []
  },
  {
   "cell_type": "code",
   "execution_count": null,
   "metadata": {},
   "outputs": [],
   "source": []
  },
  {
   "cell_type": "code",
   "execution_count": 15,
   "metadata": {},
   "outputs": [],
   "source": [
    "log_file = \"./acc_log_to34.txt\""
   ]
  },
  {
   "cell_type": "code",
   "execution_count": 16,
   "metadata": {},
   "outputs": [],
   "source": [
    "split_model = split_layer(vgg16_bn,0,Out_layer_number)\n",
    "\n",
    "original_model = d_copy(split_model).to(device)\n",
    "# subset of vgg16 (til 34 layer) with f4f\n",
    "hook_register(split_model,error_index,num_error)\n",
    "target_model = Target_model(split_model).to(device)\n",
    "# whole vgg16 model with f4f\n",
    "test = d_copy(vgg16_bn).to(device)\n",
    "hook_register(test,error_index,num_error)\n",
    "test_model = Target_model(test).to(device)\n"
   ]
  },
  {
   "cell_type": "code",
   "execution_count": 17,
   "metadata": {},
   "outputs": [],
   "source": [
    "f4f = F4F().to(device)\n",
    "optimizer = torch.optim.SGD(f4f.parameters(),lr=0.0005,weight_decay=1e-4)\n",
    "loss_fn = torch.nn.MSELoss().to(device)"
   ]
  },
  {
   "cell_type": "code",
   "execution_count": null,
   "metadata": {
    "scrolled": true,
    "tags": []
   },
   "outputs": [
    {
     "name": "stdout",
     "output_type": "stream",
     "text": [
      "======= epoch  0 =======\n",
      "=====epoch 1 start======\n",
      "....................................................................................................\n",
      "[1,   100] loss: 0.020667\n",
      "....................................................................................................\n",
      "[1,   200] loss: 0.020049\n",
      "....................................................................................................\n",
      "[1,   300] loss: 0.020195\n",
      "....................................................................................................\n",
      "[1,   400] loss: 0.020465\n",
      "....................................................................................................\n",
      "[1,   500] loss: 0.020689\n",
      "....................................................................................................\n",
      "[1,   600] loss: 0.020726\n",
      "........."
     ]
    }
   ],
   "source": [
    "\n",
    "#optimizer = torch.optim.SGD(param_list,lr=0.01,weight_decay=1e-4)\n",
    "first_feature = []\n",
    "original_out = []\n",
    "f = open(log_file,\"w\")\n",
    "f.close()\n",
    "num_error = 128\n",
    "max_epoch = 30\n",
    "for epoch in range(max_epoch):\n",
    "    print(\"======= epoch %2d =======\"%(epoch))\n",
    "    split_model = split_layer(vgg16_bn,0,Out_layer_number)\n",
    "    hook_register(split_model,error_index,num_error)\n",
    "    target_model = Target_model(split_model).to(device)\n",
    "    test = d_copy(vgg16_bn).to(device)\n",
    "    hook_register(test,error_index,num_error)\n",
    "    test_model = Target_model(test).to(device)\n",
    "    \n",
    "    for error_idx in range(0,512,num_error):\n",
    "        tmp= training(f4f,test_model,target_model,original_model,\n",
    "                  train_dataloader,test_dataloader,\n",
    "                  loss_fn,optimizer,\n",
    "                  error_idx,num_error,1,True)\n",
    "    first_feature.append(tmp[1])\n",
    "    original_out.append(tmp[0])"
   ]
  },
  {
   "cell_type": "code",
   "execution_count": null,
   "metadata": {},
   "outputs": [],
   "source": [
    "# 여기서부터는 feature 그림 보기 위한 것들입니다.\n",
    "len(first_feature),len(original_out)"
   ]
  },
  {
   "cell_type": "code",
   "execution_count": null,
   "metadata": {},
   "outputs": [],
   "source": [
    "len(first_feature[0])"
   ]
  },
  {
   "cell_type": "code",
   "execution_count": null,
   "metadata": {},
   "outputs": [],
   "source": [
    "print(original_out[0].size())\n",
    "w = 10\n",
    "h = 10\n",
    "cols = 32\n",
    "rows = 16\n",
    "def feature_print(pic):\n",
    "    print(\"test with 'after pooling 4 feature'\")\n",
    "    fig = plt.figure(figsize=(64,32))\n",
    "    ax = []\n",
    "    for i in range(cols*rows):\n",
    "        ch = pic[i,:,:]\n",
    "        ax.append(fig.add_subplot(rows,cols,i+1))\n",
    "        ax[-1].set_title(str(i)+\"th ch (14x14)\")\n",
    "        plt.imshow(ch)"
   ]
  },
  {
   "cell_type": "code",
   "execution_count": null,
   "metadata": {},
   "outputs": [],
   "source": [
    "# 기존 모델 (에러없이, f4f없이)을 통과한 결과\n",
    "feature_print(original_out[0][0].cpu().detach().numpy())"
   ]
  },
  {
   "cell_type": "code",
   "execution_count": null,
   "metadata": {},
   "outputs": [],
   "source": [
    "# f4f을 통과한 결과  epoch 1\n",
    "%matplotlib inline\n",
    "feature_print(first_feature[0][0].cpu().detach().numpy())"
   ]
  },
  {
   "cell_type": "code",
   "execution_count": null,
   "metadata": {},
   "outputs": [],
   "source": [
    "# f4f을 통과한 결과  epoch 9\n",
    "print(\"epoch 9\")\n",
    "feature_print(first_feature[0][9].cpu().detach().numpy())"
   ]
  },
  {
   "cell_type": "code",
   "execution_count": null,
   "metadata": {},
   "outputs": [],
   "source": [
    "# 14x14 의 feature 모두 합한 결과\n",
    "tmp = first_feature[0][6][0]\n",
    "for i in range(1,512):\n",
    "    tmp += first_feature[0][6][i]\n",
    "%matplotlib inline\n",
    "plt.imshow(tmp.cpu().detach())\n"
   ]
  },
  {
   "cell_type": "code",
   "execution_count": null,
   "metadata": {},
   "outputs": [],
   "source": [
    "# 14x14 의 feature 모두 합한 결과\n",
    "print(\"original\")\n",
    "tmp1 = original_out[0][6][0]\n",
    "for i in range(1,512):\n",
    "    tmp1 += original_out[0][6][i]\n",
    "%matplotlib inline\n",
    "plt.imshow(tmp1.cpu().detach())"
   ]
  },
  {
   "cell_type": "code",
   "execution_count": null,
   "metadata": {},
   "outputs": [],
   "source": [
    "# f4f을 통과한 결과  epoch 6\n",
    "print(\"epoch 6\")\n",
    "feature_print(first_feature[0][6].cpu().detach().numpy())"
   ]
  },
  {
   "cell_type": "code",
   "execution_count": null,
   "metadata": {},
   "outputs": [],
   "source": []
  },
  {
   "cell_type": "code",
   "execution_count": null,
   "metadata": {
    "scrolled": true,
    "tags": []
   },
   "outputs": [],
   "source": [
    "running_loss = 0.0\n",
    "error_info = make_error_info(error_index,num_error).to(device)\n",
    "for feature,label in train_dataloader:\n",
    "    print(\"======================================\")\n",
    "    feature,label = feature.to(device),label.to(device)\n",
    "    print(\"dataloader data : \",feature.size(),label.size())\n",
    "    target_out = test_model(feature,f4f,error_info)\n",
    "    print(\"output :\",target_out.size())\n",
    "    original_out = original_model(feature)\n",
    "    if torch.equal(target_out,original_out) is False :\n",
    "        print(\"=====compare two output======\")\n",
    "        print(target_out[0][0][0][0])\n",
    "        print(original_out[0][0][0][0])\n",
    "    else :\n",
    "        print(\"same\")\n",
    "    loss = loss_fn(original_out,target_out)\n",
    "    running_loss += loss.item()\n",
    "    target_model.model.zero_grad()\n",
    "    loss.backward()\n",
    "    optimizer.step()\n",
    "    break\n",
    "#target_model"
   ]
  },
  {
   "cell_type": "code",
   "execution_count": null,
   "metadata": {},
   "outputs": [],
   "source": []
  }
 ],
 "metadata": {
  "kernelspec": {
   "display_name": "Python 3",
   "language": "python",
   "name": "python3"
  },
  "language_info": {
   "codemirror_mode": {
    "name": "ipython",
    "version": 3
   },
   "file_extension": ".py",
   "mimetype": "text/x-python",
   "name": "python",
   "nbconvert_exporter": "python",
   "pygments_lexer": "ipython3",
   "version": "3.7.10"
  }
 },
 "nbformat": 4,
 "nbformat_minor": 4
}
