{
 "cells": [
  {
   "cell_type": "code",
   "execution_count": 1,
   "id": "b4251479-1e94-4498-af2b-ffaea9cf816e",
   "metadata": {},
   "outputs": [
    {
     "name": "stdout",
     "output_type": "stream",
     "text": [
      "1.8.0 0.2.2\n",
      "GeForce RTX 3080\n"
     ]
    }
   ],
   "source": [
    "import os\n",
    "os.environ[\"CUDA_DEVICE_ORDER\"] = \"PCI_BUS_ID\"\n",
    "os.environ['CUDA_VISIBLE_DEVICES'] = '3'\n",
    "os.environ[\"TF_CPP_MIN_LOG_LEVEL\"] = '3'\n",
    "import torch\n",
    "import torchvision\n",
    "import torchvision.transforms as transforms\n",
    "import torchvision.datasets as dataset\n",
    "from torch.autograd import Variable\n",
    "import torch.nn as nn\n",
    "import torch.nn.functional as F\n",
    "import matplotlib.pyplot as plt\n",
    "import numpy as np\n",
    "from copy import deepcopy as d_copy\n",
    "import random\n",
    "\n",
    "print(torch.__version__, torchvision.__version__)\n",
    "print(torch.cuda.get_device_name(0))"
   ]
  },
  {
   "cell_type": "code",
   "execution_count": 28,
   "id": "2cbfb05e-e281-479d-9f45-4342de3b7279",
   "metadata": {
    "scrolled": true,
    "tags": []
   },
   "outputs": [
    {
     "name": "stdout",
     "output_type": "stream",
     "text": [
      " 0~128_pkt_err_f4f_loss_0.000683_epoch_1.pt\n",
      " 0~128_pkt_err_f4f_loss_0.002703_epoch_2.pt\n",
      " 0~128_pkt_err_f4f_loss_0.006040_epoch_3.pt\n",
      " 0~128_pkt_err_f4f_loss_1.835547_epoch_1.pt\n",
      " 0~128_pkt_err_f4f_loss_1.940522_epoch_2.pt\n",
      " 0~128_pkt_err_f4f_loss_2.034444_epoch_3.pt\n",
      " 0~128_pkt_err_f4f_loss_2.099603_epoch_4.pt\n",
      " 0~128_pkt_err_f4f_loss_2.137438_epoch_5.pt\n",
      " 0~128_pkt_err_f4f_loss_2.159736_epoch_6.pt\n",
      " 0~128_pkt_err_f4f_loss_2.189610_epoch_7.pt\n",
      " 0~128_pkt_err_f4f_loss_2.206504_epoch_8.pt\n",
      " 0~128_pkt_err_f4f_loss_2.233223_epoch_9.pt\n",
      " 0~128_pkt_err_f4f_loss_2.240610_epoch_10.pt\n",
      " 0~128_pkt_err_f4f_loss_2.248619_epoch_11.pt\n",
      " 0~128_pkt_err_f4f_loss_2.248688_epoch_20.pt\n",
      " 0~128_pkt_err_f4f_loss_2.249367_epoch_16.pt\n",
      " 0~128_pkt_err_f4f_loss_2.249795_epoch_19.pt\n",
      " 0~128_pkt_err_f4f_loss_2.251496_epoch_12.pt\n",
      " 0~128_pkt_err_f4f_loss_2.252112_epoch_18.pt\n",
      " 0~128_pkt_err_f4f_loss_2.253447_epoch_21.pt\n",
      " 0~128_pkt_err_f4f_loss_2.256312_epoch_17.pt\n",
      " 0~128_pkt_err_f4f_loss_2.256330_epoch_24.pt\n",
      " 0~128_pkt_err_f4f_loss_2.257668_epoch_22.pt\n",
      " 0~128_pkt_err_f4f_loss_2.257969_epoch_15.pt\n",
      " 0~128_pkt_err_f4f_loss_2.258055_epoch_14.pt\n",
      " 0~128_pkt_err_f4f_loss_2.258156_epoch_23.pt\n",
      " 0~128_pkt_err_f4f_loss_2.258246_epoch_13.pt\n",
      " 0~128_pkt_err_f4f_loss_2.258621_epoch_25.pt\n",
      " 0~128_pkt_err_f4f_loss_2.264266_epoch_26.pt\n",
      " 0~128_pkt_err_f4f_loss_2.265946_epoch_27.pt\n",
      " 0~128_pkt_err_f4f_loss_2.268636_epoch_28.pt\n",
      " 0~128_pkt_err_f4f_loss_2.271985_epoch_29.pt\n",
      " 0~128_pkt_err_f4f_loss_2.275270_epoch_30.pt\n",
      " 128~256_pkt_err_f4f_loss_2.164689_epoch_22.pt\n",
      " 128~256_pkt_err_f4f_loss_2.166642_epoch_24.pt\n",
      " 128~256_pkt_err_f4f_loss_2.166894_epoch_23.pt\n",
      " 128~256_pkt_err_f4f_loss_2.167476_epoch_25.pt\n",
      " 128~256_pkt_err_f4f_loss_2.168355_epoch_26.pt\n",
      " 128~256_pkt_err_f4f_loss_2.168671_epoch_21.pt\n",
      " 128~256_pkt_err_f4f_loss_2.169563_epoch_19.pt\n",
      " 128~256_pkt_err_f4f_loss_2.170696_epoch_20.pt\n",
      " 128~256_pkt_err_f4f_loss_2.171771_epoch_28.pt\n",
      " 128~256_pkt_err_f4f_loss_2.171937_epoch_18.pt\n",
      " 128~256_pkt_err_f4f_loss_2.172450_epoch_27.pt\n",
      " 128~256_pkt_err_f4f_loss_2.173519_epoch_16.pt\n",
      " 128~256_pkt_err_f4f_loss_2.173628_epoch_17.pt\n",
      " 128~256_pkt_err_f4f_loss_2.176531_epoch_15.pt\n",
      " 128~256_pkt_err_f4f_loss_2.177372_epoch_29.pt\n",
      " 128~256_pkt_err_f4f_loss_2.178121_epoch_14.pt\n",
      " 128~256_pkt_err_f4f_loss_2.178211_epoch_30.pt\n",
      " 128~256_pkt_err_f4f_loss_2.183389_epoch_13.pt\n",
      " 128~256_pkt_err_f4f_loss_2.184706_epoch_12.pt\n",
      " 128~256_pkt_err_f4f_loss_2.194611_epoch_11.pt\n",
      " 128~256_pkt_err_f4f_loss_2.198497_epoch_10.pt\n",
      " 128~256_pkt_err_f4f_loss_2.204852_epoch_9.pt\n",
      " 128~256_pkt_err_f4f_loss_2.215759_epoch_8.pt\n",
      " 128~256_pkt_err_f4f_loss_2.221187_epoch_7.pt\n",
      " 128~256_pkt_err_f4f_loss_2.229417_epoch_6.pt\n",
      " 128~256_pkt_err_f4f_loss_2.237306_epoch_5.pt\n",
      " 128~256_pkt_err_f4f_loss_2.246385_epoch_4.pt\n",
      " 128~256_pkt_err_f4f_loss_2.250475_epoch_3.pt\n",
      " 128~256_pkt_err_f4f_loss_2.260933_epoch_2.pt\n",
      " 128~256_pkt_err_f4f_loss_2.265944_epoch_1.pt\n",
      " 256~384_pkt_err_f4f_loss_2.073467_epoch_30.pt\n",
      " 256~384_pkt_err_f4f_loss_2.075486_epoch_28.pt\n",
      " 256~384_pkt_err_f4f_loss_2.076027_epoch_29.pt\n",
      " 256~384_pkt_err_f4f_loss_2.077524_epoch_27.pt\n",
      " 256~384_pkt_err_f4f_loss_2.080344_epoch_26.pt\n",
      " 256~384_pkt_err_f4f_loss_2.082697_epoch_25.pt\n",
      " 256~384_pkt_err_f4f_loss_2.084485_epoch_24.pt\n",
      " 256~384_pkt_err_f4f_loss_2.088604_epoch_23.pt\n",
      " 256~384_pkt_err_f4f_loss_2.092204_epoch_22.pt\n",
      " 256~384_pkt_err_f4f_loss_2.092428_epoch_21.pt\n",
      " 256~384_pkt_err_f4f_loss_2.096424_epoch_20.pt\n",
      " 256~384_pkt_err_f4f_loss_2.097294_epoch_19.pt\n",
      " 256~384_pkt_err_f4f_loss_2.098748_epoch_18.pt\n",
      " 256~384_pkt_err_f4f_loss_2.102822_epoch_17.pt\n",
      " 256~384_pkt_err_f4f_loss_2.104885_epoch_16.pt\n",
      " 256~384_pkt_err_f4f_loss_2.107154_epoch_15.pt\n",
      " 256~384_pkt_err_f4f_loss_2.109374_epoch_14.pt\n",
      " 256~384_pkt_err_f4f_loss_2.117499_epoch_12.pt\n",
      " 256~384_pkt_err_f4f_loss_2.119116_epoch_13.pt\n",
      " 256~384_pkt_err_f4f_loss_2.124651_epoch_11.pt\n",
      " 256~384_pkt_err_f4f_loss_2.126597_epoch_10.pt\n",
      " 256~384_pkt_err_f4f_loss_2.130826_epoch_9.pt\n",
      " 256~384_pkt_err_f4f_loss_2.133747_epoch_8.pt\n",
      " 256~384_pkt_err_f4f_loss_2.138792_epoch_7.pt\n",
      " 256~384_pkt_err_f4f_loss_2.145247_epoch_6.pt\n",
      " 256~384_pkt_err_f4f_loss_2.151089_epoch_5.pt\n",
      " 256~384_pkt_err_f4f_loss_2.153728_epoch_4.pt\n",
      " 256~384_pkt_err_f4f_loss_2.155312_epoch_3.pt\n",
      " 256~384_pkt_err_f4f_loss_2.164295_epoch_2.pt\n",
      " 256~384_pkt_err_f4f_loss_2.171901_epoch_1.pt\n",
      " 384~512_pkt_err_f4f_loss_2.069019_epoch_6.pt\n",
      " 384~512_pkt_err_f4f_loss_2.069672_epoch_10.pt\n",
      " 384~512_pkt_err_f4f_loss_2.071456_epoch_5.pt\n",
      " 384~512_pkt_err_f4f_loss_2.071787_epoch_7.pt\n",
      " 384~512_pkt_err_f4f_loss_2.072086_epoch_9.pt\n",
      " 384~512_pkt_err_f4f_loss_2.072141_epoch_1.pt\n",
      " 384~512_pkt_err_f4f_loss_2.072220_epoch_8.pt\n",
      " 384~512_pkt_err_f4f_loss_2.072585_epoch_3.pt\n",
      " 384~512_pkt_err_f4f_loss_2.073618_epoch_14.pt\n",
      " 384~512_pkt_err_f4f_loss_2.073804_epoch_4.pt\n",
      " 384~512_pkt_err_f4f_loss_2.073973_epoch_11.pt\n",
      " 384~512_pkt_err_f4f_loss_2.074749_epoch_12.pt\n",
      " 384~512_pkt_err_f4f_loss_2.074803_epoch_2.pt\n",
      " 384~512_pkt_err_f4f_loss_2.075992_epoch_15.pt\n",
      " 384~512_pkt_err_f4f_loss_2.076179_epoch_13.pt\n",
      " 384~512_pkt_err_f4f_loss_2.077678_epoch_17.pt\n",
      " 384~512_pkt_err_f4f_loss_2.080938_epoch_16.pt\n",
      " 384~512_pkt_err_f4f_loss_2.083844_epoch_18.pt\n",
      " 384~512_pkt_err_f4f_loss_2.084091_epoch_20.pt\n",
      " 384~512_pkt_err_f4f_loss_2.085421_epoch_19.pt\n",
      " 384~512_pkt_err_f4f_loss_2.086317_epoch_21.pt\n",
      " 384~512_pkt_err_f4f_loss_2.086986_epoch_22.pt\n",
      " 384~512_pkt_err_f4f_loss_2.088727_epoch_24.pt\n",
      " 384~512_pkt_err_f4f_loss_2.089482_epoch_23.pt\n",
      " 384~512_pkt_err_f4f_loss_2.092403_epoch_26.pt\n",
      " 384~512_pkt_err_f4f_loss_2.094062_epoch_25.pt\n",
      " 384~512_pkt_err_f4f_loss_2.098698_epoch_27.pt\n",
      " 384~512_pkt_err_f4f_loss_2.098926_epoch_29.pt\n",
      " 384~512_pkt_err_f4f_loss_2.099206_epoch_28.pt\n",
      " 384~512_pkt_err_f4f_loss_2.101650_epoch_30.pt\n",
      "'new_  0~128_pkt_err_f4f_loss_0.330272_epoch_ 1.pt'\n",
      "'new_  0~128_pkt_err_f4f_loss_1.643100_epoch_ 1.pt'\n",
      "'new_  0~128_pkt_err_f4f_loss_1.972052_epoch_ 2.pt'\n",
      "'new_  0~128_pkt_err_f4f_loss_2.108496_epoch_ 3.pt'\n",
      "'new_  0~128_pkt_err_f4f_loss_2.180818_epoch_ 4.pt'\n",
      "'new_  0~128_pkt_err_f4f_loss_2.221348_epoch_ 5.pt'\n",
      "'new_  0~128_pkt_err_f4f_loss_2.241876_epoch_15.pt'\n",
      "'new_  0~128_pkt_err_f4f_loss_2.242200_epoch_12.pt'\n",
      "'new_  0~128_pkt_err_f4f_loss_2.242217_epoch_14.pt'\n",
      "'new_  0~128_pkt_err_f4f_loss_2.243380_epoch_ 6.pt'\n",
      "'new_  0~128_pkt_err_f4f_loss_2.245951_epoch_16.pt'\n",
      "'new_  0~128_pkt_err_f4f_loss_2.248715_epoch_13.pt'\n",
      "'new_  0~128_pkt_err_f4f_loss_2.250254_epoch_18.pt'\n",
      "'new_  0~128_pkt_err_f4f_loss_2.250370_epoch_11.pt'\n",
      "'new_  0~128_pkt_err_f4f_loss_2.251714_epoch_17.pt'\n",
      "'new_  0~128_pkt_err_f4f_loss_2.251746_epoch_19.pt'\n",
      "'new_  0~128_pkt_err_f4f_loss_2.252817_epoch_20.pt'\n",
      "'new_  0~128_pkt_err_f4f_loss_2.254569_epoch_10.pt'\n",
      "'new_  0~128_pkt_err_f4f_loss_2.254653_epoch_ 7.pt'\n",
      "'new_  0~128_pkt_err_f4f_loss_2.256897_epoch_ 9.pt'\n",
      "'new_  0~128_pkt_err_f4f_loss_2.258917_epoch_ 8.pt'\n",
      " new_128~256_pkt_err_f4f_loss_2.118530_epoch_10.pt\n",
      "'new_128~256_pkt_err_f4f_loss_2.125176_epoch_ 8.pt'\n",
      "'new_128~256_pkt_err_f4f_loss_2.126645_epoch_ 9.pt'\n",
      "'new_128~256_pkt_err_f4f_loss_2.135237_epoch_ 7.pt'\n",
      "'new_128~256_pkt_err_f4f_loss_2.137821_epoch_ 6.pt'\n",
      "'new_128~256_pkt_err_f4f_loss_2.154888_epoch_ 5.pt'\n",
      "'new_128~256_pkt_err_f4f_loss_2.173736_epoch_ 4.pt'\n",
      "'new_128~256_pkt_err_f4f_loss_2.185857_epoch_ 3.pt'\n",
      "'new_128~256_pkt_err_f4f_loss_2.203969_epoch_ 2.pt'\n",
      "'new_128~256_pkt_err_f4f_loss_2.224325_epoch_ 1.pt'\n",
      " new_256~384_pkt_err_f4f_loss_2.067303_epoch_10.pt\n",
      "'new_256~384_pkt_err_f4f_loss_2.081345_epoch_ 9.pt'\n",
      "'new_256~384_pkt_err_f4f_loss_2.089343_epoch_ 8.pt'\n",
      "'new_256~384_pkt_err_f4f_loss_2.090193_epoch_ 7.pt'\n",
      "'new_256~384_pkt_err_f4f_loss_2.097620_epoch_ 6.pt'\n",
      "'new_256~384_pkt_err_f4f_loss_2.102240_epoch_ 5.pt'\n",
      "'new_256~384_pkt_err_f4f_loss_2.108471_epoch_ 4.pt'\n",
      "'new_256~384_pkt_err_f4f_loss_2.116197_epoch_ 3.pt'\n",
      "'new_256~384_pkt_err_f4f_loss_2.116500_epoch_ 2.pt'\n",
      "'new_256~384_pkt_err_f4f_loss_2.119781_epoch_ 1.pt'\n",
      "'new_384~512_pkt_err_f4f_loss_2.081130_epoch_ 1.pt'\n",
      "'new_384~512_pkt_err_f4f_loss_2.088403_epoch_ 2.pt'\n",
      "'new_384~512_pkt_err_f4f_loss_2.101439_epoch_ 3.pt'\n"
     ]
    }
   ],
   "source": [
    "!ls /media/0/hwbae0326/F4F/models\n",
    "model_path = \"/media/0/hwbae0326/F4F/models/\" \n"
   ]
  },
  {
   "cell_type": "code",
   "execution_count": 45,
   "id": "9e4d4c3c-525a-49e2-aff5-00c9afc55ae9",
   "metadata": {},
   "outputs": [
    {
     "data": {
      "text/plain": [
       "['0~128_pkt_err_f4f_loss_2.256312_epoch_17.pt',\n",
       " '0~128_pkt_err_f4f_loss_2.206504_epoch_8.pt',\n",
       " '0~128_pkt_err_f4f_loss_2.257969_epoch_15.pt',\n",
       " '0~128_pkt_err_f4f_loss_2.256330_epoch_24.pt',\n",
       " '0~128_pkt_err_f4f_loss_2.249367_epoch_16.pt',\n",
       " 'new_  0~128_pkt_err_f4f_loss_1.643100_epoch_ 1.pt',\n",
       " '0~128_pkt_err_f4f_loss_2.264266_epoch_26.pt',\n",
       " '0~128_pkt_err_f4f_loss_2.275270_epoch_30.pt',\n",
       " 'new_  0~128_pkt_err_f4f_loss_2.245951_epoch_16.pt',\n",
       " 'new_  0~128_pkt_err_f4f_loss_2.256897_epoch_ 9.pt',\n",
       " 'new_  0~128_pkt_err_f4f_loss_2.180818_epoch_ 4.pt',\n",
       " 'new_  0~128_pkt_err_f4f_loss_2.242200_epoch_12.pt',\n",
       " '0~128_pkt_err_f4f_loss_2.258156_epoch_23.pt',\n",
       " '0~128_pkt_err_f4f_loss_2.252112_epoch_18.pt',\n",
       " 'new_  0~128_pkt_err_f4f_loss_1.972052_epoch_ 2.pt',\n",
       " '0~128_pkt_err_f4f_loss_2.265946_epoch_27.pt',\n",
       " '0~128_pkt_err_f4f_loss_1.835547_epoch_1.pt',\n",
       " '0~128_pkt_err_f4f_loss_2.233223_epoch_9.pt',\n",
       " '0~128_pkt_err_f4f_loss_2.240610_epoch_10.pt',\n",
       " 'new_  0~128_pkt_err_f4f_loss_2.241876_epoch_15.pt',\n",
       " 'new_  0~128_pkt_err_f4f_loss_2.251746_epoch_19.pt',\n",
       " '0~128_pkt_err_f4f_loss_0.000683_epoch_1.pt',\n",
       " '0~128_pkt_err_f4f_loss_2.248619_epoch_11.pt',\n",
       " '0~128_pkt_err_f4f_loss_2.258055_epoch_14.pt',\n",
       " 'new_  0~128_pkt_err_f4f_loss_0.330272_epoch_ 1.pt',\n",
       " '0~128_pkt_err_f4f_loss_1.940522_epoch_2.pt',\n",
       " 'new_  0~128_pkt_err_f4f_loss_2.242217_epoch_14.pt',\n",
       " 'new_  0~128_pkt_err_f4f_loss_2.221348_epoch_ 5.pt',\n",
       " 'new_  0~128_pkt_err_f4f_loss_2.250254_epoch_18.pt',\n",
       " 'new_  0~128_pkt_err_f4f_loss_2.254653_epoch_ 7.pt',\n",
       " '0~128_pkt_err_f4f_loss_2.271985_epoch_29.pt',\n",
       " '0~128_pkt_err_f4f_loss_2.189610_epoch_7.pt',\n",
       " '0~128_pkt_err_f4f_loss_2.034444_epoch_3.pt',\n",
       " 'new_  0~128_pkt_err_f4f_loss_2.108496_epoch_ 3.pt',\n",
       " '0~128_pkt_err_f4f_loss_2.137438_epoch_5.pt',\n",
       " 'new_  0~128_pkt_err_f4f_loss_2.251714_epoch_17.pt',\n",
       " '0~128_pkt_err_f4f_loss_2.258621_epoch_25.pt',\n",
       " '0~128_pkt_err_f4f_loss_0.002703_epoch_2.pt',\n",
       " '0~128_pkt_err_f4f_loss_2.159736_epoch_6.pt',\n",
       " 'new_  0~128_pkt_err_f4f_loss_2.250370_epoch_11.pt',\n",
       " '0~128_pkt_err_f4f_loss_0.006040_epoch_3.pt',\n",
       " '0~128_pkt_err_f4f_loss_2.258246_epoch_13.pt',\n",
       " '0~128_pkt_err_f4f_loss_2.257668_epoch_22.pt',\n",
       " 'new_  0~128_pkt_err_f4f_loss_2.258917_epoch_ 8.pt',\n",
       " '0~128_pkt_err_f4f_loss_2.253447_epoch_21.pt',\n",
       " '0~128_pkt_err_f4f_loss_2.249795_epoch_19.pt',\n",
       " 'new_  0~128_pkt_err_f4f_loss_2.252817_epoch_20.pt',\n",
       " '0~128_pkt_err_f4f_loss_2.251496_epoch_12.pt',\n",
       " 'new_  0~128_pkt_err_f4f_loss_2.248715_epoch_13.pt',\n",
       " 'new_  0~128_pkt_err_f4f_loss_2.243380_epoch_ 6.pt',\n",
       " '0~128_pkt_err_f4f_loss_2.248688_epoch_20.pt',\n",
       " '0~128_pkt_err_f4f_loss_2.268636_epoch_28.pt',\n",
       " '0~128_pkt_err_f4f_loss_2.099603_epoch_4.pt',\n",
       " 'new_  0~128_pkt_err_f4f_loss_2.254569_epoch_10.pt']"
      ]
     },
     "execution_count": 45,
     "metadata": {},
     "output_type": "execute_result"
    }
   ],
   "source": [
    "model_list = os.listdir(model_path)\n",
    "model_list = list(filter(lambda x : \"0~128\" in x,model_list))\n",
    "model_list = list(filter(lambda x : \"new\" not in x,model_list))\n",
    "model_list"
   ]
  },
  {
   "cell_type": "code",
   "execution_count": 69,
   "id": "837b2e37-b794-4caf-80cd-80af52bef2c4",
   "metadata": {},
   "outputs": [],
   "source": [
    "model_epoch6 = list(filter(lambda x : \"epoch_6\" in x, model_list))\n",
    "model_epoch20 = list(filter(lambda x : \"epoch_20\" in x, model_list)) # epoch_10 -> torch.equal : True\n",
    "model_epoch6 = model_epoch6[0]\n",
    "model_epoch20 = model_epoch20[0]"
   ]
  },
  {
   "cell_type": "code",
   "execution_count": 70,
   "id": "d96ea68d-4889-4cfe-8c4d-18e559bf1acc",
   "metadata": {},
   "outputs": [
    {
     "data": {
      "text/plain": [
       "Parameter containing:\n",
       "tensor([[-0.0123, -0.0123,  0.0090,  ...,  0.0098, -0.0077,  0.0085],\n",
       "        [-0.0086, -0.0134, -0.0035,  ...,  0.0132, -0.0038,  0.0007],\n",
       "        [-0.0089,  0.0094,  0.0048,  ..., -0.0097,  0.0018, -0.0042],\n",
       "        ...,\n",
       "        [ 0.0097,  0.0108,  0.0011,  ...,  0.0023,  0.0050,  0.0099],\n",
       "        [-0.0137,  0.0027, -0.0062,  ..., -0.0119, -0.0055,  0.0096],\n",
       "        [-0.0110, -0.0056,  0.0100,  ..., -0.0071,  0.0020,  0.0037]],\n",
       "       device='cuda:0', requires_grad=True)"
      ]
     },
     "execution_count": 70,
     "metadata": {},
     "output_type": "execute_result"
    }
   ],
   "source": [
    "epoch6_weight = torch.load(model_path+model_epoch6)\n",
    "epoch6_weight"
   ]
  },
  {
   "cell_type": "code",
   "execution_count": 71,
   "id": "5552bdb0-edc1-40a0-a488-de3f93b55305",
   "metadata": {},
   "outputs": [
    {
     "data": {
      "text/plain": [
       "Parameter containing:\n",
       "tensor([[ 0.0041, -0.0105, -0.0133,  ...,  0.0140,  0.0128, -0.0041],\n",
       "        [-0.0089, -0.0104, -0.0056,  ...,  0.0115,  0.0097,  0.0138],\n",
       "        [-0.0069,  0.0094,  0.0136,  ..., -0.0102, -0.0085,  0.0032],\n",
       "        ...,\n",
       "        [ 0.0138,  0.0035, -0.0064,  ...,  0.0089, -0.0029,  0.0009],\n",
       "        [ 0.0050,  0.0069,  0.0109,  ..., -0.0017,  0.0136,  0.0037],\n",
       "        [-0.0023,  0.0098, -0.0134,  ..., -0.0140, -0.0091,  0.0095]],\n",
       "       device='cuda:0', requires_grad=True)"
      ]
     },
     "execution_count": 71,
     "metadata": {},
     "output_type": "execute_result"
    }
   ],
   "source": [
    "epoch20_weight = torch.load(model_path+model_epoch20)\n",
    "epoch20_weight"
   ]
  },
  {
   "cell_type": "code",
   "execution_count": 73,
   "id": "df56aeff-e758-4cfe-99f5-fecf21e11290",
   "metadata": {},
   "outputs": [
    {
     "data": {
      "text/plain": [
       "False"
      ]
     },
     "execution_count": 73,
     "metadata": {},
     "output_type": "execute_result"
    }
   ],
   "source": [
    "torch.equal(epoch6_weight,epoch20_weight)"
   ]
  },
  {
   "cell_type": "code",
   "execution_count": 68,
   "id": "3edda199-1a41-4fd2-9790-e524bef818a2",
   "metadata": {},
   "outputs": [
    {
     "data": {
      "text/plain": [
       "['new_  0~128_pkt_err_f4f_loss_1.643100_epoch_ 1.pt',\n",
       " 'new_  0~128_pkt_err_f4f_loss_2.245951_epoch_16.pt',\n",
       " 'new_  0~128_pkt_err_f4f_loss_2.256897_epoch_ 9.pt',\n",
       " 'new_  0~128_pkt_err_f4f_loss_2.180818_epoch_ 4.pt',\n",
       " 'new_  0~128_pkt_err_f4f_loss_2.242200_epoch_12.pt',\n",
       " 'new_  0~128_pkt_err_f4f_loss_1.972052_epoch_ 2.pt',\n",
       " 'new_  0~128_pkt_err_f4f_loss_2.241876_epoch_15.pt',\n",
       " 'new_  0~128_pkt_err_f4f_loss_2.251746_epoch_19.pt',\n",
       " 'new_  0~128_pkt_err_f4f_loss_0.330272_epoch_ 1.pt',\n",
       " 'new_  0~128_pkt_err_f4f_loss_2.242217_epoch_14.pt',\n",
       " 'new_  0~128_pkt_err_f4f_loss_2.221348_epoch_ 5.pt',\n",
       " 'new_  0~128_pkt_err_f4f_loss_2.250254_epoch_18.pt',\n",
       " 'new_  0~128_pkt_err_f4f_loss_2.254653_epoch_ 7.pt',\n",
       " 'new_  0~128_pkt_err_f4f_loss_2.108496_epoch_ 3.pt',\n",
       " 'new_  0~128_pkt_err_f4f_loss_2.251714_epoch_17.pt',\n",
       " 'new_  0~128_pkt_err_f4f_loss_2.250370_epoch_11.pt',\n",
       " 'new_  0~128_pkt_err_f4f_loss_2.258917_epoch_ 8.pt',\n",
       " 'new_  0~128_pkt_err_f4f_loss_2.252817_epoch_20.pt',\n",
       " 'new_  0~128_pkt_err_f4f_loss_2.248715_epoch_13.pt',\n",
       " 'new_  0~128_pkt_err_f4f_loss_2.243380_epoch_ 6.pt',\n",
       " 'new_  0~128_pkt_err_f4f_loss_2.254569_epoch_10.pt']"
      ]
     },
     "execution_count": 68,
     "metadata": {},
     "output_type": "execute_result"
    }
   ],
   "source": [
    "new_model_list = list(filter(lambda x : \"new\" in x,model_list))\n",
    "new_model_list"
   ]
  },
  {
   "cell_type": "code",
   "execution_count": 66,
   "id": "0593ef1f-5ca8-4231-a68b-1f638fc8270a",
   "metadata": {},
   "outputs": [
    {
     "ename": "TypeError",
     "evalue": "filter expected 2 arguments, got 1",
     "output_type": "error",
     "traceback": [
      "\u001b[0;31m---------------------------------------------------------------------------\u001b[0m",
      "\u001b[0;31mTypeError\u001b[0m                                 Traceback (most recent call last)",
      "\u001b[0;32m<ipython-input-66-b50c54712efd>\u001b[0m in \u001b[0;36m<module>\u001b[0;34m\u001b[0m\n\u001b[0;32m----> 1\u001b[0;31m \u001b[0mnew_model_epoch6\u001b[0m \u001b[0;34m=\u001b[0m \u001b[0mlist\u001b[0m\u001b[0;34m(\u001b[0m\u001b[0mfilter\u001b[0m\u001b[0;34m(\u001b[0m\u001b[0;32mlambda\u001b[0m \u001b[0mx\u001b[0m \u001b[0;34m:\u001b[0m \u001b[0;34m\"epoch_\"\u001b[0m\u001b[0;34m)\u001b[0m\u001b[0;34m)\u001b[0m\u001b[0;34m\u001b[0m\u001b[0;34m\u001b[0m\u001b[0m\n\u001b[0m",
      "\u001b[0;31mTypeError\u001b[0m: filter expected 2 arguments, got 1"
     ]
    }
   ],
   "source": [
    "new_model_epoch6 = list(filter(lambda x : \"epoch_\"))"
   ]
  },
  {
   "cell_type": "code",
   "execution_count": null,
   "id": "6f4ef300-1fb6-421b-a384-bd460c2bc57e",
   "metadata": {},
   "outputs": [],
   "source": []
  }
 ],
 "metadata": {
  "kernelspec": {
   "display_name": "Python 3",
   "language": "python",
   "name": "python3"
  },
  "language_info": {
   "codemirror_mode": {
    "name": "ipython",
    "version": 3
   },
   "file_extension": ".py",
   "mimetype": "text/x-python",
   "name": "python",
   "nbconvert_exporter": "python",
   "pygments_lexer": "ipython3",
   "version": "3.7.10"
  }
 },
 "nbformat": 4,
 "nbformat_minor": 5
}
