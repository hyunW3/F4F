{
 "cells": [
  {
   "cell_type": "code",
   "execution_count": 5,
   "id": "488943d1-e600-42c7-bb8a-cb9de2c715a6",
   "metadata": {
    "scrolled": true,
    "tags": []
   },
   "outputs": [],
   "source": [
    "import warnings\n",
    "from autoPyTorch import AutoNetClassification\n",
    "#https://github.com/automl/Auto-PyTorch\n"
   ]
  },
  {
   "cell_type": "code",
   "execution_count": 12,
   "id": "29e8bc7b-2d00-4aa3-b27d-d1c40ac342da",
   "metadata": {},
   "outputs": [],
   "source": [
    "import matplotlib.pyplot as plt\n",
    "import numpy as np\n",
    "import pandas as pd\n",
    "import sklearn.model_selection \n",
    "import sklearn.datasets\n",
    "import sklearn.metrics\n",
    "X, y = sklearn.datasets.load_digits(return_X_y=True)\n",
    "X_train, X_test, y_train, y_test = \\\n",
    "        sklearn.model_selection.train_test_split(X, y, random_state=1)"
   ]
  },
  {
   "cell_type": "code",
   "execution_count": 10,
   "id": "5b908743-9c18-457e-afb3-d49c5cf6aa26",
   "metadata": {},
   "outputs": [
    {
     "data": {
      "text/plain": [
       "((1797, 64), (1797,))"
      ]
     },
     "execution_count": 10,
     "metadata": {},
     "output_type": "execute_result"
    }
   ],
   "source": [
    "X.shape, y.shape"
   ]
  },
  {
   "cell_type": "code",
   "execution_count": 22,
   "id": "9a4b3ecf-e810-44f9-a93f-7ec9acc21067",
   "metadata": {},
   "outputs": [
    {
     "data": {
      "image/png": "[encoded data removed]",
      "text/plain": [
       "<Figure size 640x480 with 1 Axes>"
      ]
     },
     "metadata": {},
     "output_type": "display_data"
    }
   ],
   "source": [
    "tmp = np.reshape(X[2],(8,8))\n",
    "tmp.shape\n",
    "plt.imshow(tmp)\n",
    "plt.show()"
   ]
  },
  {
   "cell_type": "code",
   "execution_count": 23,
   "id": "f7d1a5eb-ee7a-43a8-bdad-7719c56f82d0",
   "metadata": {},
   "outputs": [
    {
     "name": "stderr",
     "output_type": "stream",
     "text": [
      "/home/hwbae0326/.conda/envs/local_pytorch/lib/python3.7/site-packages/sklearn/utils/deprecation.py:143: FutureWarning: The sklearn.metrics.classification module is  deprecated in version 0.22 and will be removed in version 0.24. The corresponding classes / functions should instead be imported from sklearn.metrics. Anything that cannot be imported from sklearn.metrics is now part of the private API.\n",
      "  warnings.warn(message, FutureWarning)\n",
      "23:15:57 [AutoNet] Start bohb\n",
      "23:15:57 DISPATCHER: started the 'discover_worker' thread\n",
      "23:15:57 DISPATCHER: started the 'job_runner' thread\n",
      "23:15:57 WORKER: start listening for jobs\n",
      "23:15:57 DISPATCHER: Pyro daemon running on 192.168.2.12:40661\n",
      "23:15:57 DISPATCHER: discovered new worker, hpbandster.run_0.worker.SALserver02.7141.-1140710462039040\n",
      "23:15:57 HBMASTER: adjusted queue size to (0, 1)\n",
      "23:15:57 DISPATCHER: A new worker triggered discover_worker\n",
      "23:15:57 HBMASTER: starting run at 1631196957.2364917\n",
      "23:15:57 WORKER: start processing job (0, 0, 0)\n",
      "23:15:57 Fit optimization pipeline\n",
      "23:15:57 [AutoNet] CV split 0 of 1\n",
      "23:15:57 Reduced initial budget 29.783942461013794 to cv budget 29.782406091690063 compensate for 0.0015363693237304688\n",
      "/home/hwbae0326/.conda/envs/local_pytorch/lib/python3.7/site-packages/torch/optim/lr_scheduler.py:509: UserWarning: To get the last learning rate computed by the scheduler, please use `get_last_lr()`.\n",
      "  \"please use `get_last_lr()`.\", UserWarning)\n",
      "/home/hwbae0326/.conda/envs/local_pytorch/lib/python3.7/site-packages/torch/optim/lr_scheduler.py:154: UserWarning: The epoch parameter in `scheduler.step()` was not necessary and is being deprecated where possible. Please use `scheduler.step()` to step the scheduler. During the deprecation, if epoch is different from None, the closed form is used instead of the new chainable form, where available. Please open an issue if you are unable to replicate your use case: https://github.com/pytorch/pytorch/issues/new/choose.\n",
      "  warnings.warn(EPOCH_DEPRECATION_WARNING, UserWarning)\n",
      "23:16:17 Finished train with budget 29.782406091690063: Preprocessing took 0s, Training took 19s, Wrap up took 0s. Total time consumption in s: 19\n",
      "23:16:17 [AutoNet] Done with current split!\n",
      "23:16:17 Aggregate the results across the splits\n",
      "23:16:17 Process 1 additional result(s)\n",
      "23:16:17 Training ['shapedresnet'] with budget 30.0 resulted in optimize-metric-loss: -94.5679012345679 took 20.318641424179077 seconds\n",
      "23:16:17 WORKER: registered result for job (0, 0, 0) with dispatcher\n",
      "23:16:17 WORKER: start processing job (0, 0, 1)\n",
      "23:16:17 Fit optimization pipeline\n",
      "23:16:17 [AutoNet] CV split 0 of 1\n",
      "23:16:17 Reduced initial budget 29.80154585838318 to cv budget 29.800217390060425 compensate for 0.0013284683227539062\n",
      "/home/hwbae0326/.conda/envs/local_pytorch/lib/python3.7/site-packages/torch/optim/lr_scheduler.py:509: UserWarning: To get the last learning rate computed by the scheduler, please use `get_last_lr()`.\n",
      "  \"please use `get_last_lr()`.\", UserWarning)\n",
      "/home/hwbae0326/.conda/envs/local_pytorch/lib/python3.7/site-packages/torch/optim/lr_scheduler.py:154: UserWarning: The epoch parameter in `scheduler.step()` was not necessary and is being deprecated where possible. Please use `scheduler.step()` to step the scheduler. During the deprecation, if epoch is different from None, the closed form is used instead of the new chainable form, where available. Please open an issue if you are unable to replicate your use case: https://github.com/pytorch/pytorch/issues/new/choose.\n",
      "  warnings.warn(EPOCH_DEPRECATION_WARNING, UserWarning)\n",
      "23:16:37 Finished train with budget 29.800217390060425: Preprocessing took 0s, Training took 19s, Wrap up took 0s. Total time consumption in s: 19\n",
      "23:16:37 [AutoNet] Done with current split!\n",
      "23:16:37 Aggregate the results across the splits\n",
      "23:16:37 Process 1 additional result(s)\n",
      "23:16:37 Training ['shapedresnet'] with budget 30.0 resulted in optimize-metric-loss: -90.8641975308642 took 20.408385515213013 seconds\n",
      "23:16:38 WORKER: registered result for job (0, 0, 1) with dispatcher\n",
      "23:16:38 WORKER: start processing job (0, 0, 2)\n",
      "23:16:38 Fit optimization pipeline\n",
      "23:16:38 [AutoNet] CV split 0 of 1\n",
      "23:16:38 Reduced initial budget 29.798532485961914 to cv budget 29.796977758407593 compensate for 0.001554727554321289\n",
      "/home/hwbae0326/.conda/envs/local_pytorch/lib/python3.7/site-packages/torch/optim/lr_scheduler.py:509: UserWarning: To get the last learning rate computed by the scheduler, please use `get_last_lr()`.\n",
      "  \"please use `get_last_lr()`.\", UserWarning)\n",
      "/home/hwbae0326/.conda/envs/local_pytorch/lib/python3.7/site-packages/torch/optim/lr_scheduler.py:154: UserWarning: The epoch parameter in `scheduler.step()` was not necessary and is being deprecated where possible. Please use `scheduler.step()` to step the scheduler. During the deprecation, if epoch is different from None, the closed form is used instead of the new chainable form, where available. Please open an issue if you are unable to replicate your use case: https://github.com/pytorch/pytorch/issues/new/choose.\n",
      "  warnings.warn(EPOCH_DEPRECATION_WARNING, UserWarning)\n",
      "23:16:58 Finished train with budget 29.796977758407593: Preprocessing took 0s, Training took 19s, Wrap up took 0s. Total time consumption in s: 19\n",
      "23:16:58 [AutoNet] Done with current split!\n",
      "23:16:58 Aggregate the results across the splits\n",
      "23:16:58 Process 1 additional result(s)\n",
      "23:16:58 Training ['shapedresnet'] with budget 30.0 resulted in optimize-metric-loss: -41.48148148148148 took 20.300315141677856 seconds\n",
      "23:16:58 WORKER: registered result for job (0, 0, 2) with dispatcher\n",
      "23:16:58 WORKER: start processing job (0, 0, 0)\n",
      "23:16:58 Fit optimization pipeline\n",
      "23:16:58 [AutoNet] CV split 0 of 1\n",
      "23:16:58 Reduced initial budget 89.7809784412384 to cv budget 89.77963590621948 compensate for 0.0013425350189208984\n",
      "/home/hwbae0326/.conda/envs/local_pytorch/lib/python3.7/site-packages/torch/optim/lr_scheduler.py:509: UserWarning: To get the last learning rate computed by the scheduler, please use `get_last_lr()`.\n",
      "  \"please use `get_last_lr()`.\", UserWarning)\n",
      "/home/hwbae0326/.conda/envs/local_pytorch/lib/python3.7/site-packages/torch/optim/lr_scheduler.py:154: UserWarning: The epoch parameter in `scheduler.step()` was not necessary and is being deprecated where possible. Please use `scheduler.step()` to step the scheduler. During the deprecation, if epoch is different from None, the closed form is used instead of the new chainable form, where available. Please open an issue if you are unable to replicate your use case: https://github.com/pytorch/pytorch/issues/new/choose.\n",
      "  warnings.warn(EPOCH_DEPRECATION_WARNING, UserWarning)\n",
      "23:18:18 Finished train with budget 89.77963590621948: Preprocessing took 0s, Training took 79s, Wrap up took 0s. Total time consumption in s: 79\n",
      "23:18:18 [AutoNet] Done with current split!\n",
      "23:18:18 Aggregate the results across the splits\n",
      "23:18:18 Process 1 additional result(s)\n",
      "23:18:18 Training ['shapedresnet'] with budget 90.0 resulted in optimize-metric-loss: -89.62962962962962 took 80.43408417701721 seconds\n",
      "23:18:18 WORKER: registered result for job (0, 0, 0) with dispatcher\n",
      "23:18:18 WORKER: start processing job (1, 0, 0)\n",
      "23:18:18 Fit optimization pipeline\n",
      "23:18:18 [AutoNet] CV split 0 of 1\n",
      "23:18:18 Reduced initial budget 89.81100296974182 to cv budget 89.81005358695984 compensate for 0.0009493827819824219\n",
      "/home/hwbae0326/.conda/envs/local_pytorch/lib/python3.7/site-packages/torch/optim/lr_scheduler.py:509: UserWarning: To get the last learning rate computed by the scheduler, please use `get_last_lr()`.\n",
      "  \"please use `get_last_lr()`.\", UserWarning)\n",
      "/home/hwbae0326/.conda/envs/local_pytorch/lib/python3.7/site-packages/torch/optim/lr_scheduler.py:154: UserWarning: The epoch parameter in `scheduler.step()` was not necessary and is being deprecated where possible. Please use `scheduler.step()` to step the scheduler. During the deprecation, if epoch is different from None, the closed form is used instead of the new chainable form, where available. Please open an issue if you are unable to replicate your use case: https://github.com/pytorch/pytorch/issues/new/choose.\n",
      "  warnings.warn(EPOCH_DEPRECATION_WARNING, UserWarning)\n",
      "23:19:38 Finished train with budget 89.81005358695984: Preprocessing took 0s, Training took 79s, Wrap up took 0s. Total time consumption in s: 79\n",
      "23:19:38 [AutoNet] Done with current split!\n",
      "23:19:38 Aggregate the results across the splits\n",
      "23:19:38 Process 1 additional result(s)\n",
      "23:19:39 Training ['shapedresnet'] with budget 90.0 resulted in optimize-metric-loss: -80.49382716049382 took 80.23578238487244 seconds\n",
      "23:19:39 WORKER: registered result for job (1, 0, 0) with dispatcher\n",
      "23:19:39 HBMASTER: Timelimit reached: wait for remaining 0 jobs\n",
      "23:19:39 DISPATCHER: Dispatcher shutting down\n",
      "23:19:39 DISPATCHER: shut down complete\n",
      "23:19:39 Start autonet with config:\n",
      "{'embeddings': ['none'], 'lr_scheduler': ['cosine_annealing'], 'networks': ['shapedresnet'], 'preprocessors': ['truncated_svd'], 'target_size_strategies': ['none'], 'over_sampling_methods': ['none'], 'under_sampling_methods': ['none'], 'batch_loss_computation_techniques': ['standard'], 'imputation_strategies': ['median'], 'initialization_methods': ['default'], 'loss_modules': ['cross_entropy_weighted'], 'normalization_strategies': ['standardize'], 'optimizer': ['sgd'], 'hyperparameter_search_space_updates': <autoPyTorch.utils.hyperparameter_search_space_update.HyperparameterSearchSpaceUpdates object at 0x7ff95e033fd0>, 'log_level': 'info', 'max_runtime': 300, 'min_budget': 30, 'max_budget': 90, 'validation_split': 0.3, 'result_logger_dir': '.', 'categorical_features': None, 'dataset_name': None, 'run_id': '0', 'task_id': -1, 'algorithm': 'bohb', 'portfolio_type': 'greedy', 'budget_type': 'time', 'eta': 3, 'min_workers': 1, 'working_dir': '.', 'network_interface_name': 'enp134s0f0', 'memory_limit_mb': 1000000, 'use_tensorboard_logger': False, 'run_worker_on_master_node': True, 'use_pynisher': True, 'refit_validation_split': 0.0, 'cross_validator': 'none', 'cross_validator_args': {}, 'min_budget_for_cv': 0, 'shuffle': True, 'final_activation': 'softmax', 'initializer': 'simple_initializer', 'additional_logs': [], 'optimize_metric': 'accuracy', 'additional_metrics': [], 'cuda': True, 'torch_num_threads': 1, 'full_eval_each_epoch': False, 'best_over_epochs': False, 'save_models': False, 'predict_model': None, 'early_stopping_patience': inf, 'early_stopping_reset_parameters': False, 'random_seed': 2256459473, 'num_iterations': inf, 'cv_splits': 1, 'increase_number_of_trained_datasets': False}\n",
      "23:19:39 Start Refitting\n",
      "23:19:39 [AutoNet] CV split 0 of 1\n",
      "23:19:39 Reduced initial budget 29.91926097869873 to cv budget 29.918379545211792 compensate for 0.0008814334869384766\n",
      "/home/hwbae0326/.conda/envs/local_pytorch/lib/python3.7/site-packages/torch/optim/lr_scheduler.py:509: UserWarning: To get the last learning rate computed by the scheduler, please use `get_last_lr()`.\n",
      "  \"please use `get_last_lr()`.\", UserWarning)\n",
      "/home/hwbae0326/.conda/envs/local_pytorch/lib/python3.7/site-packages/torch/optim/lr_scheduler.py:154: UserWarning: The epoch parameter in `scheduler.step()` was not necessary and is being deprecated where possible. Please use `scheduler.step()` to step the scheduler. During the deprecation, if epoch is different from None, the closed form is used instead of the new chainable form, where available. Please open an issue if you are unable to replicate your use case: https://github.com/pytorch/pytorch/issues/new/choose.\n",
      "  warnings.warn(EPOCH_DEPRECATION_WARNING, UserWarning)\n",
      "23:19:59 Finished train with budget 29.918379545211792: Preprocessing took 0s, Training took 19s, Wrap up took 0s. Total time consumption in s: 20\n",
      "23:19:59 [AutoNet] Done with current split!\n",
      "23:19:59 Aggregate the results across the splits\n",
      "23:19:59 Process 1 additional result(s)\n",
      "23:19:59 Done Refitting\n"
     ]
    },
    {
     "name": "stdout",
     "output_type": "stream",
     "text": [
      "Accuracy score 0.9\n"
     ]
    }
   ],
   "source": [
    "autoML = AutoNetClassification(\"tiny_cs\",\n",
    "                              log_level='info',\n",
    "                              max_runtime=300,\n",
    "                              min_budget=30,\n",
    "                              max_budget=90)\n",
    "autoML.fit(X_train, y_train, validation_split=0.3)\n",
    "y_pred = autoML.predict(X_test)\n",
    "print(\"Accuracy score\", sklearn.metrics.accuracy_score(y_test, y_pred))"
   ]
  },
  {
   "cell_type": "code",
   "execution_count": null,
   "id": "5064d012-3c79-4f2b-ba7f-27b4837728df",
   "metadata": {},
   "outputs": [],
   "source": []
  }
 ],
 "metadata": {
  "kernelspec": {
   "display_name": "Python 3 (ipykernel)",
   "language": "python",
   "name": "python3"
  },
  "language_info": {
   "codemirror_mode": {
    "name": "ipython",
    "version": 3
   },
   "file_extension": ".py",
   "mimetype": "text/x-python",
   "name": "python",
   "nbconvert_exporter": "python",
   "pygments_lexer": "ipython3",
   "version": "3.7.10"
  }
 },
 "nbformat": 4,
 "nbformat_minor": 5
}
