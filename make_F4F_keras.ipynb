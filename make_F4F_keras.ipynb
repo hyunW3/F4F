{
 "cells": [
  {
   "cell_type": "code",
   "execution_count": 1,
   "metadata": {},
   "outputs": [
    {
     "data": {
      "text/plain": [
       "'2.3.0'"
      ]
     },
     "execution_count": 1,
     "metadata": {},
     "output_type": "execute_result"
    }
   ],
   "source": [
    "import os\n",
    "os.environ[\"CUDA_DEVICE_ORDER\"] = \"PCI_BUS_ID\"\n",
    "os.environ['CUDA_VISIBLE_DEVICES'] = '3'\n",
    "os.environ[\"TF_CPP_MIN_LOG_LEVEL\"] = '3'\n",
    "import tensorflow as tf\n",
    "import numpy as np\n",
    "import PIL\n",
    "#import cv2\n",
    "import matplotlib.pyplot as plt\n",
    "from tqdm import tqdm\n",
    "import gc\n",
    "from tensorflow.keras.models import load_model\n",
    "from tensorflow.keras.optimizers import SGD\n",
    "from tensorflow.keras import Sequential\n",
    "from tensorflow.compat.v1 import ConfigProto\n",
    "\n",
    "model_path = \"/media/2/Network/pretrained_model/vgg_model.h5\"\n",
    "#model_path = \"/media/2/Network/pretrained_model/back_layers.h5\"\n",
    "#img_path = \"/media/2/Network/Imagenet_dup/val/n02074367\"# dugong\n",
    "data_path = \"/media/2/Network/Imagenet_dup/\"\n",
    "feature4_path = \"/media/2/Network/extracted_feature/whole_not_shuffle_to_15\"\n",
    "\n",
    "config = ConfigProto()\n",
    "config.gpu_options.per_process_gpu_memory_fraction = 0.4\n",
    "config.gpu_options.allow_growth = True\n",
    "np.random.seed(0)\n",
    "tf.__version__"
   ]
  },
  {
   "cell_type": "code",
   "execution_count": 4,
   "metadata": {},
   "outputs": [],
   "source": [
    "error_feature_path = \"/media/2/Network/extracted_feature/whole_not_shuffle_to_15/seq_16_pkt_error\"\n",
    "feature_list =  os.listdir(error_feature_path)\n",
    "feature_list = sorted(feature_list)\n",
    "len(feature_list)\n",
    "# load feature from disk\n",
    "# classify feature\n",
    "test_feature = []\n",
    "test_label = []\n",
    "train_feature = []\n",
    "train_label =[]\n",
    "val_feature = []\n",
    "val_label =[]\n",
    "for data in feature_list:\n",
    "    #print(feature4_path+\"/\"+data)\n",
    "    if 'train' in data:\n",
    "        if 'feature' in data:\n",
    "            tmp = np.load(error_feature_path+\"/\"+data,mmap_mode='c')\n",
    "            train_feature.append(tmp)\n",
    "        else :\n",
    "            tmp = np.load(error_feature_path+\"/\"+data,mmap_mode='c')\n",
    "            train_label.append(tmp)\n",
    "       #print(\"train in\",data)\n",
    "    elif 'test' in data:\n",
    "        #print(\"test in\",data)\n",
    "        if 'feature' in data:\n",
    "            tmp = np.load(error_feature_path+\"/\"+data,mmap_mode='c')\n",
    "            test_feature.append(tmp)\n",
    "        else:\n",
    "            tmp = np.load(error_feature_path+\"/\"+data,mmap_mode='c')\n",
    "            test_label.append(tmp)\n",
    "    elif 'validation' in data:\n",
    "        #print(\"val in\",data)\n",
    "        if 'feature' in data:\n",
    "            tmp = np.load(error_feature_path+\"/\"+data,mmap_mode='c')\n",
    "            val_feature.append(tmp)\n",
    "        else:\n",
    "            tmp = np.load(error_feature_path+\"/\"+data,mmap_mode='c')\n",
    "            val_label.append(tmp)\n"
   ]
  },
  {
   "cell_type": "code",
   "execution_count": 5,
   "metadata": {},
   "outputs": [
    {
     "name": "stdout",
     "output_type": "stream",
     "text": [
      "pooling4 session\n"
     ]
    }
   ],
   "source": [
    "model=None\n",
    "def ready_model(model_path,layer):\n",
    "    model=load_model(model_path) # whole model\n",
    "    # pooling 4\n",
    "    til_pooling4_model=None\n",
    "    til_pooling4_predict = None\n",
    "    til_pooling5_model = None\n",
    "    til_pooling5_predict = None\n",
    "    if layer in 'pooling4':\n",
    "        print('pooling4 session')\n",
    "        #til_pooling4_model = Sequential([layer for layer in model.layers[:15]]) \n",
    "        #til_pooling4_model.build((None, 224,224,3))\n",
    "        til_pooling4_predict = Sequential([layer for layer in model.layers[15:]]) \n",
    "        til_pooling4_predict.build((None, 14,14,512))\n",
    "    return til_pooling4_predict\n",
    "til_pooling4_predict = ready_model(model_path,'pooling4')\n",
    "til_pooling4_predict.build((None,14,14,512))"
   ]
  },
  {
   "cell_type": "code",
   "execution_count": 6,
   "metadata": {},
   "outputs": [
    {
     "name": "stdout",
     "output_type": "stream",
     "text": [
      "Model: \"sequential\"\n",
      "_________________________________________________________________\n",
      "Layer (type)                 Output Shape              Param #   \n",
      "=================================================================\n",
      "block5_conv1 (Conv2D)        (None, 14, 14, 512)       2359808   \n",
      "_________________________________________________________________\n",
      "block5_conv2 (Conv2D)        (None, 14, 14, 512)       2359808   \n",
      "_________________________________________________________________\n",
      "block5_conv3 (Conv2D)        (None, 14, 14, 512)       2359808   \n",
      "_________________________________________________________________\n",
      "block5_pool (MaxPooling2D)   (None, 7, 7, 512)         0         \n",
      "_________________________________________________________________\n",
      "flatten (Flatten)            (None, 25088)             0         \n",
      "_________________________________________________________________\n",
      "fc1 (Dense)                  (None, 4096)              102764544 \n",
      "_________________________________________________________________\n",
      "fc2 (Dense)                  (None, 4096)              16781312  \n",
      "_________________________________________________________________\n",
      "predictions (Dense)          (None, 1000)              4097000   \n",
      "=================================================================\n",
      "Total params: 130,722,280\n",
      "Trainable params: 130,722,280\n",
      "Non-trainable params: 0\n",
      "_________________________________________________________________\n"
     ]
    }
   ],
   "source": [
    "til_pooling4_predict.summary()"
   ]
  },
  {
   "cell_type": "code",
   "execution_count": 7,
   "metadata": {},
   "outputs": [],
   "source": [
    "from tensorflow.keras import backend as K\n",
    "from tensorflow.keras.layers import Layer\n",
    "# elementwise_mul_withfilter_layer\n",
    "class F4F_layer(tf.keras.layers.Layer):\n",
    "    def __init__(self,output_dim, **kwargs):\n",
    "        self.output_dim = output_dim\n",
    "        super(F4F,self).__init__(**kwargs)\n",
    "    def build(self, input_shape):\n",
    "        # 이 레이어에 대해 학습가능한 가중치 변수를 만듭ㄴ디ㅏ.\n",
    "        self.w = self.add_weight(name='kernel',\n",
    "                                shape=(input_shape),\n",
    "                                initializer=tf.contrib.layers.xavier_initializer(),\n",
    "                                trainable=True)\n",
    "        super(F4F_layer, self).build(input_shape)\n",
    "    def call(self,x):\n",
    "        return self.w * x"
   ]
  },
  {
   "cell_type": "code",
   "execution_count": 8,
   "metadata": {},
   "outputs": [],
   "source": [
    "conv5_1 = til_pooling4_predict.layers[0]"
   ]
  },
  {
   "cell_type": "code",
   "execution_count": 9,
   "metadata": {
    "scrolled": true
   },
   "outputs": [
    {
     "data": {
      "text/plain": [
       "<tf.Variable 'block5_conv1/kernel:0' shape=(3, 3, 512, 512) dtype=float32, numpy=\n",
       "array([[[[ 2.70149391e-03, -1.77038671e-03,  8.90818890e-03, ...,\n",
       "           5.22717601e-03, -1.55181903e-03, -3.73800285e-03],\n",
       "         [-7.30997371e-03, -3.92698403e-03, -8.54886975e-03, ...,\n",
       "           2.07138481e-03,  1.28967571e-03, -1.34332357e-02],\n",
       "         [ 1.61777623e-02,  8.55554268e-03,  6.63516158e-03, ...,\n",
       "          -2.55896449e-02, -1.94590110e-02,  3.47913810e-05],\n",
       "         ...,\n",
       "         [ 8.62450432e-03, -6.13671076e-03, -4.17613750e-03, ...,\n",
       "           3.92305758e-03,  9.39318212e-04,  4.98578884e-03],\n",
       "         [ 1.07366564e-02, -9.81058553e-03, -1.00444222e-03, ...,\n",
       "           7.33137829e-03, -9.91091318e-03,  3.16863763e-04],\n",
       "         [ 3.30512389e-03,  1.26800162e-03,  3.10195959e-03, ...,\n",
       "          -5.45442058e-03,  1.22688676e-03,  7.30150146e-03]],\n",
       "\n",
       "        [[-6.29638648e-03, -1.02038700e-02,  4.13332367e-03, ...,\n",
       "          -1.22108273e-02, -1.19933486e-02, -8.37498996e-03],\n",
       "         [-3.77256284e-03, -5.41429780e-03, -2.28152759e-02, ...,\n",
       "           3.83546227e-03,  7.26243423e-04, -1.59190726e-02],\n",
       "         [-1.29893736e-03,  1.02811586e-02,  1.03715407e-02, ...,\n",
       "          -3.56631279e-02, -5.31380717e-03, -6.14586612e-03],\n",
       "         ...,\n",
       "         [-6.88510656e-04, -5.20195696e-04,  5.33942971e-03, ...,\n",
       "           3.71350348e-02, -1.00698462e-02,  4.53982409e-03],\n",
       "         [-1.90073811e-02,  4.03323257e-03,  9.58010368e-03, ...,\n",
       "           1.45833045e-02, -1.03259422e-02, -6.77237380e-03],\n",
       "         [ 7.99484737e-03, -4.67006757e-04, -4.09555016e-03, ...,\n",
       "          -1.11789843e-02,  1.69223975e-02,  7.97209330e-03]],\n",
       "\n",
       "        [[ 6.01778040e-03, -9.78853460e-03,  5.96494181e-03, ...,\n",
       "          -5.45754423e-03, -6.13646349e-03, -9.36946366e-03],\n",
       "         [ 1.54881831e-02, -8.70029908e-03, -1.07723139e-02, ...,\n",
       "          -1.08976511e-03,  4.88250703e-03, -1.81525405e-02],\n",
       "         [-8.65931436e-03,  2.97937449e-03,  4.99211298e-03, ...,\n",
       "          -2.26876847e-02, -7.34352181e-03, -2.15817685e-03],\n",
       "         ...,\n",
       "         [-1.09411888e-02, -7.33490149e-03,  3.44028580e-03, ...,\n",
       "           2.73506958e-02, -1.39811151e-02,  7.06669129e-03],\n",
       "         [-6.23999983e-02,  7.55444416e-05,  4.50220890e-03, ...,\n",
       "          -6.19832054e-03, -1.34721538e-02, -9.60394926e-03],\n",
       "         [ 8.10201280e-03,  1.17862318e-03, -6.23401429e-04, ...,\n",
       "          -8.92543606e-03,  6.70285849e-03,  8.08813889e-03]]],\n",
       "\n",
       "\n",
       "       [[[ 6.69991830e-03, -1.38217350e-02, -7.61822972e-04, ...,\n",
       "           1.85348920e-03, -1.38519704e-02, -8.21295753e-03],\n",
       "         [-2.80438736e-02,  4.61954251e-03, -6.49161916e-03, ...,\n",
       "           4.20102524e-03,  6.26944005e-03, -1.17764622e-02],\n",
       "         [ 9.71323717e-03,  3.57085164e-03, -3.62184783e-03, ...,\n",
       "           1.23990618e-03, -1.87096149e-02, -4.69452096e-03],\n",
       "         ...,\n",
       "         [ 2.82948278e-03, -4.22480889e-03, -1.70490798e-02, ...,\n",
       "           1.04054473e-02, -2.77437270e-03,  1.97852813e-02],\n",
       "         [ 1.07345572e-02, -8.55860393e-03,  1.56207546e-03, ...,\n",
       "           8.89659300e-03, -5.57477679e-03, -2.48946249e-03],\n",
       "         [-4.59090527e-03, -1.92156978e-04, -2.44676787e-03, ...,\n",
       "          -7.67571910e-04,  1.11631462e-02,  8.48100893e-03]],\n",
       "\n",
       "        [[-4.32966975e-03, -2.31849439e-02, -3.98284988e-03, ...,\n",
       "          -9.45531763e-03, -3.05630323e-02, -1.45616923e-02],\n",
       "         [-7.77472090e-03,  5.15655032e-04, -6.37168949e-03, ...,\n",
       "          -9.28280689e-03,  8.85870028e-03, -1.19075663e-02],\n",
       "         [-7.63344625e-03,  6.96312217e-03,  2.44518463e-02, ...,\n",
       "           1.47352247e-02, -1.56317148e-02, -1.05646774e-02],\n",
       "         ...,\n",
       "         [-4.49470896e-03,  1.02180906e-03, -1.08377058e-02, ...,\n",
       "           2.87423804e-02, -1.37281371e-02,  2.32901629e-02],\n",
       "         [ 1.84160266e-02, -2.37720530e-03,  1.01456670e-02, ...,\n",
       "           2.59220647e-03, -1.16441371e-02,  2.96144304e-03],\n",
       "         [ 1.86232501e-03,  2.54374160e-03, -3.52643058e-03, ...,\n",
       "          -1.38420034e-02,  2.38004960e-02,  1.54188294e-02]],\n",
       "\n",
       "        [[-1.24201493e-03, -1.94284599e-02,  9.14654520e-04, ...,\n",
       "          -6.34561898e-03, -1.93526559e-02, -1.24201979e-02],\n",
       "         [ 2.08579469e-02, -6.33005938e-03, -2.46288168e-04, ...,\n",
       "          -6.50246162e-03,  3.46507388e-03, -1.83523875e-02],\n",
       "         [-7.94334617e-03, -4.83949948e-03,  7.98529200e-03, ...,\n",
       "           3.31342816e-02, -1.94316562e-02, -4.42608260e-03],\n",
       "         ...,\n",
       "         [-8.15784931e-03, -5.73906442e-03, -7.36508658e-03, ...,\n",
       "           2.58016158e-02, -1.66488811e-02,  1.85325257e-02],\n",
       "         [-3.49098407e-02, -5.76083921e-03, -1.09079329e-03, ...,\n",
       "          -2.24110465e-02, -1.81568749e-02,  1.33755791e-03],\n",
       "         [ 1.05992621e-02,  5.87886106e-03, -2.07784586e-03, ...,\n",
       "          -8.65971949e-03,  1.35805877e-02,  1.23585351e-02]]],\n",
       "\n",
       "\n",
       "       [[[-1.94660835e-02, -4.31479281e-03,  7.50471139e-03, ...,\n",
       "          -9.05255228e-03, -1.45146996e-02, -6.43589953e-03],\n",
       "         [-2.55740546e-02, -3.77083174e-03, -1.13040372e-03, ...,\n",
       "           1.41354995e-02,  1.23491138e-02, -8.58742744e-03],\n",
       "         [ 2.60529481e-02,  4.48163785e-03, -5.17741963e-03, ...,\n",
       "           1.81341842e-02, -5.29208966e-03, -1.90216664e-03],\n",
       "         ...,\n",
       "         [ 1.52573558e-02, -1.05533749e-02, -1.49792815e-02, ...,\n",
       "          -3.34004406e-03, -1.43702189e-02,  1.06434310e-02],\n",
       "         [-1.56536773e-02, -4.59386455e-03, -1.15034999e-02, ...,\n",
       "          -1.29859112e-02,  6.61359541e-03, -1.37117738e-02],\n",
       "         [ 2.87494902e-03,  1.97236473e-03, -1.14945264e-03, ...,\n",
       "           1.00193387e-02, -1.10585643e-02,  5.47946617e-03]],\n",
       "\n",
       "        [[-1.39001794e-02, -8.16264655e-03, -2.13353033e-03, ...,\n",
       "           4.42438805e-03, -1.84811428e-02, -1.31625663e-02],\n",
       "         [-1.27114523e-02,  8.22517846e-04,  1.74636114e-03, ...,\n",
       "          -3.20687564e-03,  7.26768980e-03, -1.04581127e-02],\n",
       "         [ 3.62468441e-03,  5.44040743e-03,  3.94895149e-04, ...,\n",
       "           5.39442487e-02, -9.61736124e-03, -9.06580035e-03],\n",
       "         ...,\n",
       "         [ 5.75829204e-03, -6.96793431e-03, -6.82480959e-03, ...,\n",
       "          -2.35429616e-03, -2.29617264e-02,  1.18976859e-02],\n",
       "         [-1.29797654e-02, -7.64703704e-03, -2.48847576e-03, ...,\n",
       "          -1.93217788e-02, -3.11120268e-04, -8.19232874e-03],\n",
       "         [ 7.08760088e-03,  2.67517241e-03, -4.04962478e-03, ...,\n",
       "          -8.84944946e-03, -1.28660193e-02,  8.21706932e-03]],\n",
       "\n",
       "        [[ 1.90506096e-03, -6.95648789e-03,  4.42377757e-03, ...,\n",
       "           1.68096845e-03, -1.02439988e-02, -9.54131503e-03],\n",
       "         [ 8.67001619e-03, -4.32396308e-03,  7.07786297e-03, ...,\n",
       "           4.00944147e-03, -5.92691638e-03, -1.73292980e-02],\n",
       "         [-3.29927448e-03,  1.35199027e-03, -1.96216418e-03, ...,\n",
       "           5.69042936e-02, -1.08824410e-02, -7.44307647e-03],\n",
       "         ...,\n",
       "         [-5.01774671e-03, -5.11659542e-03, -1.88736096e-02, ...,\n",
       "          -5.63485827e-03, -1.95331685e-02, -1.28314935e-03],\n",
       "         [-3.74428146e-02, -7.35257939e-03, -9.97510087e-03, ...,\n",
       "          -3.13131511e-02, -9.43317544e-03, -4.74453578e-03],\n",
       "         [ 1.01428749e-02,  5.31264581e-03, -2.80315313e-03, ...,\n",
       "          -2.19971617e-03, -1.41984839e-02,  1.03289038e-02]]]],\n",
       "      dtype=float32)>"
      ]
     },
     "execution_count": 9,
     "metadata": {},
     "output_type": "execute_result"
    }
   ],
   "source": [
    "filter_weights = conv5_1.weights[0]\n",
    "filter_bias = conv5_1.weights[1]\n",
    "filter_weights"
   ]
  },
  {
   "cell_type": "code",
   "execution_count": 10,
   "metadata": {},
   "outputs": [],
   "source": [
    "F4F = tf.Variable(tf.random.normal(shape=[3,3,512,512]),name=\"F4F\")\n",
    "#F4F = tf.Variable(name='F4F',shape=[3,3,512,512],initializer=tf.contrib.layers.xaiver_initializer())"
   ]
  },
  {
   "cell_type": "code",
   "execution_count": 19,
   "metadata": {},
   "outputs": [
    {
     "data": {
      "text/plain": [
       "(TensorShape([3, 3, 512, 512]), TensorShape([3, 3, 512, 512]))"
      ]
     },
     "execution_count": 19,
     "metadata": {},
     "output_type": "execute_result"
    }
   ],
   "source": [
    "filter_weights.shape, F4F.shape"
   ]
  },
  {
   "cell_type": "code",
   "execution_count": 21,
   "metadata": {},
   "outputs": [
    {
     "data": {
      "text/plain": [
       "TensorShape([3, 3, 512, 512])"
      ]
     },
     "execution_count": 21,
     "metadata": {},
     "output_type": "execute_result"
    }
   ],
   "source": [
    "# https://www.tensorflow.org/api_docs/python/tf/math/multiply\n",
    "#multiplied = tf.keras.layers.Multiply()([filter_weights,F4F])\n",
    "multiplied = tf.math.multiply(filter_weights,F4F)\n",
    "multiplied.shape"
   ]
  },
  {
   "cell_type": "code",
   "execution_count": 29,
   "metadata": {},
   "outputs": [
    {
     "name": "stdout",
     "output_type": "stream",
     "text": [
      "tf.Tensor(-0.015919073, shape=(), dtype=float32) tf.Tensor(0.06517904, shape=(), dtype=float32)\n",
      "Multiply : tf.Tensor(-0.0010375899, shape=(), dtype=float32)\n",
      "compared : tf.Tensor(-0.0010375899, shape=(), dtype=float32)\n"
     ]
    }
   ],
   "source": [
    "a = filter_weights[0][1][1][511]\n",
    "b= F4F[0][1][1][511]\n",
    "print(a,b)\n",
    "print(\"Multiply :\",a*b)\n",
    "print(\"compared :\",multiplied[0][1][1][511])"
   ]
  },
  {
   "cell_type": "code",
   "execution_count": 18,
   "metadata": {},
   "outputs": [
    {
     "data": {
      "text/plain": [
       "TensorShape([5, 8])"
      ]
     },
     "execution_count": 18,
     "metadata": {},
     "output_type": "execute_result"
    }
   ],
   "source": [
    "\n"
   ]
  },
  {
   "cell_type": "code",
   "execution_count": 31,
   "metadata": {},
   "outputs": [
    {
     "data": {
      "text/plain": [
       "{'name': 'block5_conv1',\n",
       " 'trainable': True,\n",
       " 'dtype': 'float32',\n",
       " 'filters': 512,\n",
       " 'kernel_size': (3, 3),\n",
       " 'strides': (1, 1),\n",
       " 'padding': 'same',\n",
       " 'data_format': 'channels_last',\n",
       " 'dilation_rate': (1, 1),\n",
       " 'groups': 1,\n",
       " 'activation': 'relu',\n",
       " 'use_bias': True,\n",
       " 'kernel_initializer': {'class_name': 'GlorotUniform',\n",
       "  'config': {'seed': None}},\n",
       " 'bias_initializer': {'class_name': 'Zeros', 'config': {}},\n",
       " 'kernel_regularizer': None,\n",
       " 'bias_regularizer': None,\n",
       " 'activity_regularizer': None,\n",
       " 'kernel_constraint': None,\n",
       " 'bias_constraint': None}"
      ]
     },
     "execution_count": 31,
     "metadata": {},
     "output_type": "execute_result"
    }
   ],
   "source": [
    "conv5_1.get_config()"
   ]
  },
  {
   "cell_type": "code",
   "execution_count": null,
   "metadata": {},
   "outputs": [],
   "source": []
  }
 ],
 "metadata": {
  "kernelspec": {
   "display_name": "Python 3",
   "language": "python",
   "name": "python3"
  },
  "language_info": {
   "codemirror_mode": {
    "name": "ipython",
    "version": 3
   },
   "file_extension": ".py",
   "mimetype": "text/x-python",
   "name": "python",
   "nbconvert_exporter": "python",
   "pygments_lexer": "ipython3",
   "version": "3.7.10"
  }
 },
 "nbformat": 4,
 "nbformat_minor": 4
}
