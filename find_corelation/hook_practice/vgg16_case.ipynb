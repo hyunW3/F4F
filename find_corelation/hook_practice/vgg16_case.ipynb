{
 "cells": [
  {
   "cell_type": "code",
   "execution_count": 69,
   "id": "6c330b23-6984-4632-8d1e-fcd9ebf42953",
   "metadata": {},
   "outputs": [],
   "source": [
    "import torch\n",
    "from torchvision.models import vgg16_bn\n",
    "\n",
    "device = torch.device('cuda') if torch.cuda.is_available() else torch.device('cpu')\n",
    "vgg16_bn = vgg16_bn(pretrained=True).to(device)"
   ]
  },
  {
   "cell_type": "code",
   "execution_count": 70,
   "id": "238a18a8-8533-42f7-a081-50934bc79420",
   "metadata": {
    "scrolled": true,
    "tags": []
   },
   "outputs": [
    {
     "name": "stdout",
     "output_type": "stream",
     "text": [
      "VGG(\n",
      "  (features): Sequential(\n",
      "    (0): Conv2d(3, 64, kernel_size=(3, 3), stride=(1, 1), padding=(1, 1))\n",
      "    (1): BatchNorm2d(64, eps=1e-05, momentum=0.1, affine=True, track_running_stats=True)\n",
      "    (2): ReLU(inplace=True)\n",
      "    (3): Conv2d(64, 64, kernel_size=(3, 3), stride=(1, 1), padding=(1, 1))\n",
      "    (4): BatchNorm2d(64, eps=1e-05, momentum=0.1, affine=True, track_running_stats=True)\n",
      "    (5): ReLU(inplace=True)\n",
      "    (6): MaxPool2d(kernel_size=2, stride=2, padding=0, dilation=1, ceil_mode=False)\n",
      "    (7): Conv2d(64, 128, kernel_size=(3, 3), stride=(1, 1), padding=(1, 1))\n",
      "    (8): BatchNorm2d(128, eps=1e-05, momentum=0.1, affine=True, track_running_stats=True)\n",
      "    (9): ReLU(inplace=True)\n",
      "    (10): Conv2d(128, 128, kernel_size=(3, 3), stride=(1, 1), padding=(1, 1))\n",
      "    (11): BatchNorm2d(128, eps=1e-05, momentum=0.1, affine=True, track_running_stats=True)\n",
      "    (12): ReLU(inplace=True)\n",
      "    (13): MaxPool2d(kernel_size=2, stride=2, padding=0, dilation=1, ceil_mode=False)\n",
      "    (14): Conv2d(128, 256, kernel_size=(3, 3), stride=(1, 1), padding=(1, 1))\n",
      "    (15): BatchNorm2d(256, eps=1e-05, momentum=0.1, affine=True, track_running_stats=True)\n",
      "    (16): ReLU(inplace=True)\n",
      "    (17): Conv2d(256, 256, kernel_size=(3, 3), stride=(1, 1), padding=(1, 1))\n",
      "    (18): BatchNorm2d(256, eps=1e-05, momentum=0.1, affine=True, track_running_stats=True)\n",
      "    (19): ReLU(inplace=True)\n",
      "    (20): Conv2d(256, 256, kernel_size=(3, 3), stride=(1, 1), padding=(1, 1))\n",
      "    (21): BatchNorm2d(256, eps=1e-05, momentum=0.1, affine=True, track_running_stats=True)\n",
      "    (22): ReLU(inplace=True)\n",
      "    (23): MaxPool2d(kernel_size=2, stride=2, padding=0, dilation=1, ceil_mode=False)\n",
      "    (24): Conv2d(256, 512, kernel_size=(3, 3), stride=(1, 1), padding=(1, 1))\n",
      "    (25): BatchNorm2d(512, eps=1e-05, momentum=0.1, affine=True, track_running_stats=True)\n",
      "    (26): ReLU(inplace=True)\n",
      "    (27): Conv2d(512, 512, kernel_size=(3, 3), stride=(1, 1), padding=(1, 1))\n",
      "    (28): BatchNorm2d(512, eps=1e-05, momentum=0.1, affine=True, track_running_stats=True)\n",
      "    (29): ReLU(inplace=True)\n",
      "    (30): Conv2d(512, 512, kernel_size=(3, 3), stride=(1, 1), padding=(1, 1))\n",
      "    (31): BatchNorm2d(512, eps=1e-05, momentum=0.1, affine=True, track_running_stats=True)\n",
      "    (32): ReLU(inplace=True)\n",
      "    (33): MaxPool2d(kernel_size=2, stride=2, padding=0, dilation=1, ceil_mode=False)\n",
      "    (34): Conv2d(512, 512, kernel_size=(3, 3), stride=(1, 1), padding=(1, 1))\n",
      "    (35): BatchNorm2d(512, eps=1e-05, momentum=0.1, affine=True, track_running_stats=True)\n",
      "    (36): ReLU(inplace=True)\n",
      "    (37): Conv2d(512, 512, kernel_size=(3, 3), stride=(1, 1), padding=(1, 1))\n",
      "    (38): BatchNorm2d(512, eps=1e-05, momentum=0.1, affine=True, track_running_stats=True)\n",
      "    (39): ReLU(inplace=True)\n",
      "    (40): Conv2d(512, 512, kernel_size=(3, 3), stride=(1, 1), padding=(1, 1))\n",
      "    (41): BatchNorm2d(512, eps=1e-05, momentum=0.1, affine=True, track_running_stats=True)\n",
      "    (42): ReLU(inplace=True)\n",
      "    (43): MaxPool2d(kernel_size=2, stride=2, padding=0, dilation=1, ceil_mode=False)\n",
      "  )\n",
      "  (avgpool): AdaptiveAvgPool2d(output_size=(7, 7))\n",
      "  (classifier): Sequential(\n",
      "    (0): Linear(in_features=25088, out_features=4096, bias=True)\n",
      "    (1): ReLU(inplace=True)\n",
      "    (2): Dropout(p=0.5, inplace=False)\n",
      "    (3): Linear(in_features=4096, out_features=4096, bias=True)\n",
      "    (4): ReLU(inplace=True)\n",
      "    (5): Dropout(p=0.5, inplace=False)\n",
      "    (6): Linear(in_features=4096, out_features=1000, bias=True)\n",
      "  )\n",
      ")\n"
     ]
    }
   ],
   "source": [
    "print(vgg16_bn)"
   ]
  },
  {
   "cell_type": "code",
   "execution_count": 5,
   "id": "bddfdb0f-b2db-4ae4-8499-51c14dea260f",
   "metadata": {},
   "outputs": [],
   "source": [
    "class SaveOutput:\n",
    "    def __init__(self):\n",
    "        self.outputs =[]\n",
    "    def __call__(self,module,module_in,module_out):\n",
    "        self.outputs.append(module_out)\n",
    "    def clear(self):\n",
    "        self.outputs = []"
   ]
  },
  {
   "cell_type": "code",
   "execution_count": 83,
   "id": "fea5ca7d-03ce-4ce1-b874-b560166d28cc",
   "metadata": {
    "scrolled": true,
    "tags": []
   },
   "outputs": [
    {
     "name": "stdout",
     "output_type": "stream",
     "text": [
      "0 \n",
      "1 features\n",
      "2 features.0\n",
      "3 features.1\n",
      "4 features.2\n",
      "5 features.3\n",
      "6 features.4\n",
      "7 features.5\n",
      "8 features.6\n",
      "9 features.7\n",
      "10 features.8\n",
      "11 features.9\n",
      "12 features.10\n",
      "13 features.11\n",
      "14 features.12\n",
      "15 features.13\n",
      "16 features.14\n",
      "17 features.15\n",
      "18 features.16\n",
      "19 features.17\n",
      "20 features.18\n",
      "21 features.19\n",
      "22 features.20\n",
      "23 features.21\n",
      "24 features.22\n",
      "25 features.23\n",
      "26 features.24\n",
      "27 features.25\n",
      "28 features.26\n",
      "29 features.27\n",
      "30 features.28\n",
      "31 features.29\n",
      "32 features.30\n",
      "33 features.31\n",
      "34 features.32\n",
      "35 features.33\n",
      "36 features.34\n",
      "Conv2d(512, 512, kernel_size=(3, 3), stride=(1, 1), padding=(1, 1))\n",
      "37 features.35\n",
      "38 features.36\n",
      "39 features.37\n",
      "40 features.38\n",
      "41 features.39\n",
      "42 features.40\n",
      "43 features.41\n",
      "44 features.42\n",
      "45 features.43\n",
      "46 avgpool\n",
      "47 classifier\n",
      "48 classifier.0\n",
      "49 classifier.1\n",
      "50 classifier.2\n",
      "51 classifier.3\n",
      "52 classifier.4\n",
      "53 classifier.5\n",
      "54 classifier.6\n"
     ]
    }
   ],
   "source": [
    "save_output = SaveOutput()\n",
    "hook_handles = []\n",
    "ct =0\n",
    "for name,layer in vgg16_bn.named_modules():\n",
    "    print(ct,name)\n",
    "    if ct == 36 and isinstance(layer, torch.nn.modules.conv.Conv2d):\n",
    "        print(layer) # target layer Conv5_1\n",
    "        handle = layer.register_forward_hook(save_output)\n",
    "        hook_handles.append(handle)\n",
    "    ct+=1"
   ]
  },
  {
   "cell_type": "code",
   "execution_count": 15,
   "id": "7eb84164-c323-4094-bd34-a586cd1740fc",
   "metadata": {},
   "outputs": [
    {
     "name": "stdout",
     "output_type": "stream",
     "text": [
      "torch.Size([1, 3, 224, 224])\n"
     ]
    }
   ],
   "source": [
    "from PIL import Image\n",
    "from torchvision import transforms as T\n",
    "image = Image.open('cat.jpg')\n",
    "transform = T.Compose([T.Resize((224,224)), T.ToTensor()])\n",
    "X = transform(image).unsqueeze(dim=0).to(device)\n",
    "print(X.shape)"
   ]
  },
  {
   "cell_type": "code",
   "execution_count": 84,
   "id": "7550654e-b020-40d6-bb1b-0f6156662ecb",
   "metadata": {},
   "outputs": [],
   "source": [
    "out = vgg16_bn(X)"
   ]
  },
  {
   "cell_type": "code",
   "execution_count": 87,
   "id": "c4031957-2163-4daf-9ce9-f6816610354c",
   "metadata": {},
   "outputs": [
    {
     "name": "stdout",
     "output_type": "stream",
     "text": [
      "1\n",
      "(512, 14, 14)\n"
     ]
    },
    {
     "data": {
      "text/plain": [
       "numpy.ndarray"
      ]
     },
     "execution_count": 87,
     "metadata": {},
     "output_type": "execute_result"
    }
   ],
   "source": [
    "import numpy as np\n",
    "print(len(save_output.outputs))\n",
    "a0 = save_output.outputs[0].cpu().detach().numpy().squeeze()\n",
    "print(a0.shape)\n",
    "type(save_output.outputs[0].cpu().detach().numpy().squeeze())"
   ]
  },
  {
   "cell_type": "code",
   "execution_count": 89,
   "id": "cebb5819-7fb9-489b-921c-0a598c88dc00",
   "metadata": {},
   "outputs": [
    {
     "data": {
      "text/plain": [
       "(14, 14)"
      ]
     },
     "execution_count": 89,
     "metadata": {},
     "output_type": "execute_result"
    }
   ],
   "source": [
    "total = np.zeros((14,14))\n",
    "total.shape"
   ]
  },
  {
   "cell_type": "code",
   "execution_count": 91,
   "id": "cdfe7940-2816-4e93-ad7d-618b48bb7523",
   "metadata": {},
   "outputs": [],
   "source": [
    "for item in a0:\n",
    "    #print(item.shape)\n",
    "    total += item"
   ]
  },
  {
   "cell_type": "code",
   "execution_count": 92,
   "id": "4abf95ef-dd03-4456-870d-1fb6cd058cc4",
   "metadata": {},
   "outputs": [
    {
     "data": {
      "text/plain": [
       "<matplotlib.image.AxesImage at 0x7f8284e95050>"
      ]
     },
     "execution_count": 92,
     "metadata": {},
     "output_type": "execute_result"
    },
    {
     "data": {
      "image/png": "[encoded data removed]",
      "text/plain": [
       "<Figure size 432x288 with 1 Axes>"
      ]
     },
     "metadata": {
      "needs_background": "light"
     },
     "output_type": "display_data"
    }
   ],
   "source": [
    "plt.imshow(total)"
   ]
  },
  {
   "cell_type": "code",
   "execution_count": null,
   "id": "cffc3ebf-362c-437d-b6dc-cbee448a0f46",
   "metadata": {},
   "outputs": [],
   "source": []
  },
  {
   "cell_type": "code",
   "execution_count": null,
   "id": "8bcd72ce-418d-4831-a0e6-9d13032660fe",
   "metadata": {},
   "outputs": [],
   "source": []
  }
 ],
 "metadata": {
  "kernelspec": {
   "display_name": "Python 3",
   "language": "python",
   "name": "python3"
  },
  "language_info": {
   "codemirror_mode": {
    "name": "ipython",
    "version": 3
   },
   "file_extension": ".py",
   "mimetype": "text/x-python",
   "name": "python",
   "nbconvert_exporter": "python",
   "pygments_lexer": "ipython3",
   "version": "3.7.10"
  }
 },
 "nbformat": 4,
 "nbformat_minor": 5
}
