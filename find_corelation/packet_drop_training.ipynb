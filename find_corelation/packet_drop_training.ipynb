{
 "cells": [
  {
   "cell_type": "code",
   "execution_count": 20,
   "metadata": {},
   "outputs": [
    {
     "name": "stdout",
     "output_type": "stream",
     "text": [
      "1.8.0 0.2.2\n",
      "TITAN RTX\n",
      "11.1\n"
     ]
    }
   ],
   "source": [
    "import os\n",
    "os.environ[\"CUDA_DEVICE_OREDER\"] = \"PCI_BUS_ID\"\n",
    "os.environ[\"CUDA_VISIBLE_DEVICES\"] = \"3\"\n",
    "os.environ[\"TF_CPP_MIN_LOG_LEVEL\"] = '3'\n",
    "import torch\n",
    "import torchvision\n",
    "import torchvision.transforms as transforms\n",
    "import torchvision.datasets as dataset\n",
    "#from torchsummary import summary\n",
    "from torch.autograd import Variable\n",
    "import torch.nn as nn\n",
    "import torch.nn.functional as F\n",
    "import matplotlib.pyplot as plt\n",
    "import numpy as np\n",
    "import random\n",
    "print(torch.__version__, torchvision.__version__)\n",
    "print(torch.cuda.get_device_name(0))\n",
    "print(torch.version.cuda)"
   ]
  },
  {
   "cell_type": "code",
   "execution_count": 21,
   "metadata": {},
   "outputs": [],
   "source": [
    "use_cuda = torch.cuda.is_available()\n",
    "device = torch.device(\"cuda:0\" if use_cuda else \"cpu\")\n",
    "    \n",
    "max_epochs = 30"
   ]
  },
  {
   "cell_type": "code",
   "execution_count": 22,
   "metadata": {},
   "outputs": [],
   "source": [
    "# randomness 제어 \n",
    "# https://hoya012.github.io/blog/reproducible_pytorch/\n",
    "seed = 0\n",
    "torch.manual_seed(seed)\n",
    "torch.cuda.manual_seed(seed)\n",
    "torch.cuda.manual_seed_all(seed)\n",
    "torch.backends.cudnn.deterministic = True\n",
    "torch.backends.cudnn.benchmark = False\n",
    "np.random.seed(seed)\n",
    "random.seed(seed)"
   ]
  },
  {
   "cell_type": "code",
   "execution_count": 23,
   "metadata": {},
   "outputs": [
    {
     "name": "stdout",
     "output_type": "stream",
     "text": [
      "80073 782\n"
     ]
    }
   ],
   "source": [
    "# dataset load\n",
    "\n",
    "transform = transforms.Compose([\n",
    "    transforms.Resize(256),\n",
    "    transforms.CenterCrop(224),\n",
    "    transforms.ToTensor(),\n",
    "    transforms.Normalize(mean=[0.485, 0.456, 0.406],\n",
    "                         std=[0.229, 0.224, 0.225])\n",
    "])\n",
    "dataset_path = \"/media/2/Network/Imagenet_dup/\"\n",
    "# imagenet data load\n",
    "train_dataset = dataset.ImageFolder(root=dataset_path+\"train\",\n",
    "                                       transform=transform)\n",
    "val_dataset = dataset.ImageFolder(root=dataset_path+\"val\",\n",
    "                                       transform=transform)\n",
    "train_dataloader = torch.utils.data.DataLoader(train_dataset,\n",
    "                                        batch_size=16,\n",
    "                                        shuffle=False,\n",
    "                                        num_workers=0)\n",
    "val_dataloader = torch.utils.data.DataLoader(val_dataset,\n",
    "                                        batch_size=64,\n",
    "                                        shuffle=False,\n",
    "                                        num_workers=0)\n",
    "print(len(train_dataloader),len(val_dataloader))"
   ]
  },
  {
   "cell_type": "code",
   "execution_count": 24,
   "metadata": {
    "scrolled": true
   },
   "outputs": [],
   "source": [
    "# model 로드 \n",
    "vgg16_bn = torchvision.models.vgg16_bn(pretrained=True)\n",
    "\n",
    "#if torch.cuda.device_count() > 1:\n",
    "#    vgg16_bn = nn.DataParallel(vgg16_bn)"
   ]
  },
  {
   "cell_type": "code",
   "execution_count": null,
   "metadata": {},
   "outputs": [],
   "source": []
  },
  {
   "cell_type": "code",
   "execution_count": 19,
   "metadata": {
    "scrolled": true
   },
   "outputs": [
    {
     "name": "stdout",
     "output_type": "stream",
     "text": [
      "layer 1_ 0 Conv2d(3, 64, kernel_size=(3, 3), stride=(1, 1), padding=(1, 1))\n",
      "layer 1_ 1 BatchNorm2d(64, eps=1e-05, momentum=0.1, affine=True, track_running_stats=True)\n",
      "layer 1_ 2 ReLU(inplace=True)\n",
      "layer 1_ 3 Conv2d(64, 64, kernel_size=(3, 3), stride=(1, 1), padding=(1, 1))\n",
      "layer 1_ 4 BatchNorm2d(64, eps=1e-05, momentum=0.1, affine=True, track_running_stats=True)\n",
      "layer 1_ 5 ReLU(inplace=True)\n",
      "layer 1_ 6 MaxPool2d(kernel_size=2, stride=2, padding=0, dilation=1, ceil_mode=False)\n",
      "layer 1_ 7 Conv2d(64, 128, kernel_size=(3, 3), stride=(1, 1), padding=(1, 1))\n",
      "layer 1_ 8 BatchNorm2d(128, eps=1e-05, momentum=0.1, affine=True, track_running_stats=True)\n",
      "layer 1_ 9 ReLU(inplace=True)\n",
      "layer 1_ 10 Conv2d(128, 128, kernel_size=(3, 3), stride=(1, 1), padding=(1, 1))\n",
      "layer 1_ 11 BatchNorm2d(128, eps=1e-05, momentum=0.1, affine=True, track_running_stats=True)\n",
      "layer 1_ 12 ReLU(inplace=True)\n",
      "layer 1_ 13 MaxPool2d(kernel_size=2, stride=2, padding=0, dilation=1, ceil_mode=False)\n",
      "layer 1_ 14 Conv2d(128, 256, kernel_size=(3, 3), stride=(1, 1), padding=(1, 1))\n",
      "layer 1_ 15 BatchNorm2d(256, eps=1e-05, momentum=0.1, affine=True, track_running_stats=True)\n",
      "layer 1_ 16 ReLU(inplace=True)\n",
      "layer 1_ 17 Conv2d(256, 256, kernel_size=(3, 3), stride=(1, 1), padding=(1, 1))\n",
      "layer 1_ 18 BatchNorm2d(256, eps=1e-05, momentum=0.1, affine=True, track_running_stats=True)\n",
      "layer 1_ 19 ReLU(inplace=True)\n",
      "layer 1_ 20 Conv2d(256, 256, kernel_size=(3, 3), stride=(1, 1), padding=(1, 1))\n",
      "layer 1_ 21 BatchNorm2d(256, eps=1e-05, momentum=0.1, affine=True, track_running_stats=True)\n",
      "layer 1_ 22 ReLU(inplace=True)\n",
      "layer 1_ 23 MaxPool2d(kernel_size=2, stride=2, padding=0, dilation=1, ceil_mode=False)\n",
      "layer 1_ 24 Conv2d(256, 512, kernel_size=(3, 3), stride=(1, 1), padding=(1, 1))\n",
      "layer 1_ 25 BatchNorm2d(512, eps=1e-05, momentum=0.1, affine=True, track_running_stats=True)\n",
      "layer 1_ 26 ReLU(inplace=True)\n",
      "layer 1_ 27 Conv2d(512, 512, kernel_size=(3, 3), stride=(1, 1), padding=(1, 1))\n",
      "layer 1_ 28 BatchNorm2d(512, eps=1e-05, momentum=0.1, affine=True, track_running_stats=True)\n",
      "layer 1_ 29 ReLU(inplace=True)\n",
      "layer 1_ 30 Conv2d(512, 512, kernel_size=(3, 3), stride=(1, 1), padding=(1, 1))\n",
      "layer 1_ 31 BatchNorm2d(512, eps=1e-05, momentum=0.1, affine=True, track_running_stats=True)\n",
      "layer 1_ 32 ReLU(inplace=True)\n",
      "layer 1_ 33 MaxPool2d(kernel_size=2, stride=2, padding=0, dilation=1, ceil_mode=False)\n",
      "layer 1_ 34 Conv2d(512, 512, kernel_size=(3, 3), stride=(1, 1), padding=(1, 1))\n",
      "===== torch.Size([512, 512, 3, 3])\n",
      "34-0_layer true\n",
      "===== torch.Size([512])\n",
      "34-1_layer false\n",
      "layer 1_ 35 BatchNorm2d(512, eps=1e-05, momentum=0.1, affine=True, track_running_stats=True)\n",
      "layer 1_ 36 ReLU(inplace=True)\n",
      "layer 1_ 37 Conv2d(512, 512, kernel_size=(3, 3), stride=(1, 1), padding=(1, 1))\n",
      "layer 1_ 38 BatchNorm2d(512, eps=1e-05, momentum=0.1, affine=True, track_running_stats=True)\n",
      "layer 1_ 39 ReLU(inplace=True)\n",
      "layer 1_ 40 Conv2d(512, 512, kernel_size=(3, 3), stride=(1, 1), padding=(1, 1))\n",
      "layer 1_ 41 BatchNorm2d(512, eps=1e-05, momentum=0.1, affine=True, track_running_stats=True)\n",
      "layer 1_ 42 ReLU(inplace=True)\n",
      "layer 1_ 43 MaxPool2d(kernel_size=2, stride=2, padding=0, dilation=1, ceil_mode=False)\n"
     ]
    }
   ],
   "source": [
    "# only conv5_1 is trainable\n",
    "ct = 0\n",
    "layer_level = 1\n",
    "back_layer = []\n",
    "for layer in vgg16_bn.children():\n",
    "#    print(ct,layer)\n",
    "    if layer_level is 1:\n",
    "        for layer_1 in layer:    \n",
    "            print(\"layer 1_\",ct,layer_1)\n",
    "            for i,param in enumerate(layer_1.parameters()):\n",
    "                if ct != 34:\n",
    "                    param.requires_grad = False\n",
    "                    #print(ct,\"layer false\")\n",
    "                else :\n",
    "                    if i == 0:\n",
    "                        param.requires_grad = True\n",
    "                        print(\"=====\",param.shape)\n",
    "                        print(\"%d-%d_layer true\"%(ct,i))\n",
    "                    else :\n",
    "                        param.requires_grad = False\n",
    "                        print(\"=====\",param.shape)\n",
    "                        print(\"%d-%d_layer false\"%(ct,i))\n",
    "                        \n",
    "            ct +=1\n",
    "    elif layer_level is 2:\n",
    "    #    print(\"layer 2\",layer)  \n",
    "        for param in layer_1.parameters():\n",
    "            param.requires_grad = False\n",
    "            #print(ct,\"layer false\")\n",
    "        ct +=1\n",
    "    elif layer_level is 3:\n",
    "        for layer_1 in layer: \n",
    "    #        print(\"layer 3\",layer_1) \n",
    "            for param in layer_1.parameters():\n",
    "                param.requires_grad = False\n",
    "                #print(ct,\"layer false\")\n",
    "            ct+=1\n",
    "    layer_level +=1\n",
    "    "
   ]
  },
  {
   "cell_type": "code",
   "execution_count": null,
   "metadata": {
    "scrolled": true
   },
   "outputs": [],
   "source": []
  },
  {
   "cell_type": "code",
   "execution_count": 9,
   "metadata": {},
   "outputs": [],
   "source": [
    "#criterion = torch.nn.CrossEntropyLoss(size_average = None).to(device)\n",
    "criterion = torch.nn.CrossEntropyLoss(size_average = None).cuda()\n",
    "optimizer = torch.optim.SGD(vgg16_bn.parameters(),lr=0.005)\n",
    "lr_sche = torch.optim.lr_scheduler.StepLR(optimizer, step_size=5, gamma=0.9)\n"
   ]
  },
  {
   "cell_type": "code",
   "execution_count": null,
   "metadata": {
    "scrolled": true
   },
   "outputs": [],
   "source": [
    "\n",
    "vgg16.to(device)\n",
    "for epoch in range(max_epochs):\n",
    "    running_loss = 0.0\n",
    "    for i, data in enumerate(train_dataloader):\n",
    "        inputs,labels = data\n",
    "        inputs,labels = inputs.to(device), labels.to(device)\n",
    "        optimizer.zero_grad()\n",
    "        \n",
    "        y_pred = vgg16_bn(inputs)\n",
    "        # compute loss \n",
    "        loss = criterion(y_pred,labels)\n",
    "        #print(epoch,i, loss.item())\n",
    "        \n",
    "        if not torch.isfinite(loss):\n",
    "            print(\"WARNING: non-finite loss, ending training\")\n",
    "            exit(1)\n",
    "        else :\n",
    "            running_loss += loss.item()\n",
    "        loss.backward()\n",
    "        optimizer.step()\n",
    "        if i % 30 == 29: \n",
    "            print('[%d, %5d] loss: %.3f' % (epoch+1, i+1, running_loss/30)) \n",
    "            running_loss = 0.0"
   ]
  },
  {
   "cell_type": "code",
   "execution_count": null,
   "metadata": {},
   "outputs": [
    {
     "name": "stdout",
     "output_type": "stream",
     "text": [
      "eval start\n",
      "step : 100 / 781\n",
      "step : 200 / 781\n"
     ]
    }
   ],
   "source": [
    "# evaluation phase\n",
    "criterion = torch.nn.CrossEntropyLoss(size_average = None).to(device)\n",
    "\n",
    "vgg16_bn.cuda()\n",
    "vgg16_bn.eval()\n",
    "total = 0\n",
    "correct =0\n",
    "with torch.no_grad():\n",
    "    print(\"eval start\")\n",
    "    for i, data in enumerate(val_dataloader):\n",
    "        inputs,labels = data\n",
    "        inputs,labels = inputs.to(device), labels.to(device)\n",
    "        \n",
    "        y_hat = vgg16_bn(inputs)\n",
    "        _, predicted = torch.max(y_hat.data, 1)\n",
    "        total += labels.size(0)\n",
    "        correct += (predicted == labels).sum().item()\n",
    "        if(i%50 == 49):\n",
    "            print(\"step : {} / {}\".format(i + 1, int(len(val_dataset)/labels.size(0))))\n",
    "            #print(\".\",end=\"\")\n",
    "    print(\"\")\n",
    "print(\"acc of vgg16 on imagenet : %.4f %%\" %(100*correct/total))    "
   ]
  },
  {
   "cell_type": "code",
   "execution_count": null,
   "metadata": {},
   "outputs": [],
   "source": []
  }
 ],
 "metadata": {
  "kernelspec": {
   "display_name": "Python 3",
   "language": "python",
   "name": "python3"
  },
  "language_info": {
   "codemirror_mode": {
    "name": "ipython",
    "version": 3
   },
   "file_extension": ".py",
   "mimetype": "text/x-python",
   "name": "python",
   "nbconvert_exporter": "python",
   "pygments_lexer": "ipython3",
   "version": "3.7.10"
  }
 },
 "nbformat": 4,
 "nbformat_minor": 4
}
