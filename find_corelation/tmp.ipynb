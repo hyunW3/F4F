{
 "cells": [
  {
   "cell_type": "code",
   "execution_count": null,
   "id": "a084d37b-40b5-4920-8ae1-484a1e2c1fea",
   "metadata": {},
   "outputs": [],
   "source": [
    "bin_data = bin(data)[2:]\n",
    "print(len(bin_data))\n",
    "\n",
    "#.new_zeros((1,len(bin_data)))\n",
    "info =[]\n",
    "for item in bin_data:\n",
    "    print(item)\n",
    "    info.append(int(item))\n",
    "print(info)\n",
    "error_info = torch.Tensor(info)\n",
    "print(error_info)"
   ]
  }
 ],
 "metadata": {
  "kernelspec": {
   "display_name": "Python 3",
   "language": "python",
   "name": "python3"
  },
  "language_info": {
   "codemirror_mode": {
    "name": "ipython",
    "version": 3
   },
   "file_extension": ".py",
   "mimetype": "text/x-python",
   "name": "python",
   "nbconvert_exporter": "python",
   "pygments_lexer": "ipython3",
   "version": "3.7.10"
  }
 },
 "nbformat": 4,
 "nbformat_minor": 5
}
