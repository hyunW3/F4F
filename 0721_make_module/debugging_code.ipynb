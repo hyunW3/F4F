{
 "cells": [
  {
   "cell_type": "code",
   "execution_count": 1,
   "id": "b0b6c894-7d78-48c7-9a72-57c0131e62e5",
   "metadata": {},
   "outputs": [
    {
     "name": "stdout",
     "output_type": "stream",
     "text": [
      "===INFO===\n",
      "torch ver : 1.8.0\n",
      "torchvision ver : 0.2.2 \n",
      "GPU model : TITAN RTX\n"
     ]
    }
   ],
   "source": [
    "import os\n",
    "os.environ[\"CUDA_DEVICE_ORDER\"] = \"PCI_BUS_ID\"\n",
    "os.environ['CUDA_VISIBLE_DEVICES'] = '3'\n",
    "os.environ[\"TF_CPP_MIN_LOG_LEVEL\"] = '3'\n",
    "import torch\n",
    "import torchvision\n",
    "import torchvision.transforms as transforms\n",
    "import torchvision.datasets as dataset\n",
    "from torch.autograd import Variable\n",
    "import torch.nn as nn\n",
    "import torch.nn.functional as F\n",
    "import matplotlib.pyplot as plt\n",
    "import numpy as np\n",
    "from copy import deepcopy as d_copy\n",
    "import random\n",
    "\n",
    "print(\"===INFO===\")\n",
    "print(\"torch ver : %s\\ntorchvision ver : %s \" %(torch.__version__, torchvision.__version__))\n",
    "print(\"GPU model :\",torch.cuda.get_device_name(0))\n",
    "device = torch.device(\"cuda\" if torch.cuda.is_available() else \"cpu\")"
   ]
  },
  {
   "cell_type": "code",
   "execution_count": 2,
   "id": "4dbd81aa-7939-4fcd-9bcc-eb4cf950233c",
   "metadata": {},
   "outputs": [],
   "source": [
    "device = torch.device(\"cuda\" if torch.cuda.is_available() else \"cpu\")\n",
    "#error_index = 0\n",
    "vgg16_bn = torchvision.models.vgg16_bn(pretrained=True)#.to(device)\n"
   ]
  },
  {
   "cell_type": "code",
   "execution_count": 3,
   "id": "4fe0315b-90d2-4d99-a7a8-a53324054054",
   "metadata": {},
   "outputs": [],
   "source": [
    "from importnb import Notebook"
   ]
  },
  {
   "cell_type": "code",
   "execution_count": 4,
   "id": "dc28da8c-8258-4740-bf72-b1dc5d7cdae2",
   "metadata": {},
   "outputs": [],
   "source": [
    "with Notebook(lazy=True):\n",
    "    import F4F_model\n",
    "header = F4F_model"
   ]
  },
  {
   "cell_type": "code",
   "execution_count": 5,
   "id": "4d356098-fb9e-47d0-87c0-bd2d049299c1",
   "metadata": {},
   "outputs": [
    {
     "name": "stdout",
     "output_type": "stream",
     "text": [
      "===INFO===\n",
      "torch ver : 1.8.0\n",
      "torchvision ver : 0.2.2 \n",
      "GPU model : TITAN RTX\n",
      "anaconda3\t   environment.yml  jupyter.sh\ttodolist\n",
      "docker_script.txt  F4F\t\t    pastebin\n",
      "train dataset[4], test dataset[1563] are loaded\n"
     ]
    }
   ],
   "source": [
    "# set randomness\n",
    "seed = 0\n",
    "\n",
    "header.set_randomness(seed) # ipynb module import means run all cell in file\n",
    "# load dataset\n",
    "dataset_path = \"/media/2/Network/Imagenet_dup/\"\n",
    "retrain_model_path = \"/media/0/Network/0722_to_fullmodels/\"\n",
    "batch_size = 32 # 32~ out of memory in 3080\n",
    "num_train = 128\n",
    "\n",
    "train_dataloader,test_dataloader = header.get_dataset(num_train,batch_size,\n",
    "                  dataset_path,retrain_model_path)"
   ]
  },
  {
   "cell_type": "code",
   "execution_count": 6,
   "id": "18d4579d-7192-4c1b-bf80-bf588383877b",
   "metadata": {},
   "outputs": [],
   "source": [
    "#In_layer_number = 34 # 34 conv5_1 convolution\n",
    "#Out_layer_number = 36 # 36 conv5_1 relu \n",
    "error_index=0\n",
    "max_epochs = 30\n",
    "num_error = 128"
   ]
  },
  {
   "cell_type": "code",
   "execution_count": 7,
   "id": "147afee8-cbb6-4065-8176-9237ffa31cf2",
   "metadata": {},
   "outputs": [],
   "source": [
    "log_file = \"./128_acc_log_toEnd_Debug.txt\""
   ]
  },
  {
   "cell_type": "code",
   "execution_count": 8,
   "id": "7feb48a3-6382-4db2-99dd-b7d5c3934437",
   "metadata": {},
   "outputs": [],
   "source": [
    "#split_model = split_layer(vgg16_bn,0,Out_layer_number)\n",
    "\n",
    "original_model = d_copy(vgg16_bn).to(device)\n",
    "# subset of vgg16 (whole layer) with f4f\n",
    "header.hook_register(vgg16_bn,error_index,num_error)\n",
    "target_model = header.Target_model(vgg16_bn).to(device)\n",
    "\n"
   ]
  },
  {
   "cell_type": "code",
   "execution_count": 9,
   "id": "4264bffc-c9fa-4aca-8485-2617c74830b1",
   "metadata": {},
   "outputs": [],
   "source": [
    "f4f = header.F4F().to(device)\n",
    "optimizer = torch.optim.SGD(f4f.parameters(),lr=0.1e-5,weight_decay=1e-4)\n",
    "loss_fn = nn.CrossEntropyLoss()\n"
   ]
  },
  {
   "cell_type": "code",
   "execution_count": 49,
   "id": "2ca8339a-464c-4da9-ac9b-f51fce6e0fab",
   "metadata": {},
   "outputs": [],
   "source": [
    "\n",
    "def make_error_info(error_index, num_error):\n",
    "    data = []\n",
    "    #for i in range(511,-1,-1): 0,0,0,1\n",
    "    for i in range(512):\n",
    "        if error_index <= i and i < error_index+num_error:\n",
    "            data.append(1)\n",
    "        else :\n",
    "            data.append(0)\n",
    "        #print(data)\n",
    "    error_info = torch.Tensor(data)\n",
    "    print(error_info)\n",
    "    error_info  = error_info.unsqueeze(0).repeat(512,1)\n",
    "    return error_info # 512,521"
   ]
  },
  {
   "cell_type": "code",
   "execution_count": 50,
   "id": "6a5c214f-b9dc-49f0-a03d-5a7d6be77b8c",
   "metadata": {},
   "outputs": [
    {
     "name": "stdout",
     "output_type": "stream",
     "text": [
      "tensor([1., 1., 1., 1., 1., 1., 1., 1., 1., 1., 1., 1., 1., 1., 1., 1., 1., 1.,\n",
      "        1., 1., 1., 1., 1., 1., 1., 1., 1., 1., 1., 1., 1., 1., 1., 1., 1., 1.,\n",
      "        1., 1., 1., 1., 1., 1., 1., 1., 1., 1., 1., 1., 1., 1., 1., 1., 1., 1.,\n",
      "        1., 1., 1., 1., 1., 1., 1., 1., 1., 1., 1., 1., 1., 1., 1., 1., 1., 1.,\n",
      "        1., 1., 1., 1., 1., 1., 1., 1., 1., 1., 1., 1., 1., 1., 1., 1., 1., 1.,\n",
      "        1., 1., 1., 1., 1., 1., 1., 1., 1., 1., 1., 1., 1., 1., 1., 1., 1., 1.,\n",
      "        1., 1., 1., 1., 1., 1., 1., 1., 1., 1., 1., 1., 1., 1., 1., 1., 1., 1.,\n",
      "        1., 1., 0., 0., 0., 0., 0., 0., 0., 0., 0., 0., 0., 0., 0., 0., 0., 0.,\n",
      "        0., 0., 0., 0., 0., 0., 0., 0., 0., 0., 0., 0., 0., 0., 0., 0., 0., 0.,\n",
      "        0., 0., 0., 0., 0., 0., 0., 0., 0., 0., 0., 0., 0., 0., 0., 0., 0., 0.,\n",
      "        0., 0., 0., 0., 0., 0., 0., 0., 0., 0., 0., 0., 0., 0., 0., 0., 0., 0.,\n",
      "        0., 0., 0., 0., 0., 0., 0., 0., 0., 0., 0., 0., 0., 0., 0., 0., 0., 0.,\n",
      "        0., 0., 0., 0., 0., 0., 0., 0., 0., 0., 0., 0., 0., 0., 0., 0., 0., 0.,\n",
      "        0., 0., 0., 0., 0., 0., 0., 0., 0., 0., 0., 0., 0., 0., 0., 0., 0., 0.,\n",
      "        0., 0., 0., 0., 0., 0., 0., 0., 0., 0., 0., 0., 0., 0., 0., 0., 0., 0.,\n",
      "        0., 0., 0., 0., 0., 0., 0., 0., 0., 0., 0., 0., 0., 0., 0., 0., 0., 0.,\n",
      "        0., 0., 0., 0., 0., 0., 0., 0., 0., 0., 0., 0., 0., 0., 0., 0., 0., 0.,\n",
      "        0., 0., 0., 0., 0., 0., 0., 0., 0., 0., 0., 0., 0., 0., 0., 0., 0., 0.,\n",
      "        0., 0., 0., 0., 0., 0., 0., 0., 0., 0., 0., 0., 0., 0., 0., 0., 0., 0.,\n",
      "        0., 0., 0., 0., 0., 0., 0., 0., 0., 0., 0., 0., 0., 0., 0., 0., 0., 0.,\n",
      "        0., 0., 0., 0., 0., 0., 0., 0., 0., 0., 0., 0., 0., 0., 0., 0., 0., 0.,\n",
      "        0., 0., 0., 0., 0., 0., 0., 0., 0., 0., 0., 0., 0., 0., 0., 0., 0., 0.,\n",
      "        0., 0., 0., 0., 0., 0., 0., 0., 0., 0., 0., 0., 0., 0., 0., 0., 0., 0.,\n",
      "        0., 0., 0., 0., 0., 0., 0., 0., 0., 0., 0., 0., 0., 0., 0., 0., 0., 0.,\n",
      "        0., 0., 0., 0., 0., 0., 0., 0., 0., 0., 0., 0., 0., 0., 0., 0., 0., 0.,\n",
      "        0., 0., 0., 0., 0., 0., 0., 0., 0., 0., 0., 0., 0., 0., 0., 0., 0., 0.,\n",
      "        0., 0., 0., 0., 0., 0., 0., 0., 0., 0., 0., 0., 0., 0., 0., 0., 0., 0.,\n",
      "        0., 0., 0., 0., 0., 0., 0., 0., 0., 0., 0., 0., 0., 0., 0., 0., 0., 0.,\n",
      "        0., 0., 0., 0., 0., 0., 0., 0.])\n"
     ]
    }
   ],
   "source": [
    "error_info = make_error_info(0,num_error).to(device)"
   ]
  },
  {
   "cell_type": "code",
   "execution_count": 11,
   "id": "dc979b91-c459-4d63-aae4-8455536b4d53",
   "metadata": {
    "scrolled": true,
    "tags": []
   },
   "outputs": [],
   "source": [
    "\n",
    "#optimizer = torch.optim.SGD(param_list,lr=0.01,weight_decay=1e-4)\n",
    "\n",
    "f = open(log_file,\"w\")\n",
    "f.close()\n",
    "num_error = 128\n",
    "max_epoch = 50\n"
   ]
  },
  {
   "cell_type": "code",
   "execution_count": 12,
   "id": "27f4f951-a40d-4c38-a648-010f065e9eed",
   "metadata": {},
   "outputs": [],
   "source": [
    "# training\n",
    "def training(f4f,target_model,original_model,\n",
    "             train_dataloader,test_dataloader,\n",
    "             log_file,loss_fn,optimizer,\n",
    "             error_idx,num_error,\n",
    "             max_epochs=30,subset=False):\n",
    "    first_feature = []\n",
    "    original_out = []\n",
    "    first_label = []\n",
    "    target_model.to(device)\n",
    "    original_model.to(device)\n",
    "    error_info = make_error_info(error_idx,num_error).to(device)\n",
    "    first_feature = []\n",
    "    \n",
    "    feature_num = 100\n",
    "    for epoch in range(max_epochs):\n",
    "        running_loss = 0.0\n",
    "        total_loss = []\n",
    "        total = 0\n",
    "        correct = 0\n",
    "        f4f.train()\n",
    "        # update f4f filter\n",
    "        #target_model.apply_f4f(f4f,error_info)\n",
    "    \n",
    "        # compare\n",
    "        for i, data in enumerate(train_dataloader):\n",
    "            if i % 10 == 0:\n",
    "                print(\".\",end=\"\")\n",
    "            inputs,labels = data\n",
    "            inputs,labels = inputs.to(device), labels.to(device)\n",
    "            \n",
    "            target_out = target_model(inputs,f4f,error_info)\n",
    "            #print(original_out[0][0][0],target_out[0][0][0])\n",
    "            #exit(0)\n",
    "            \n",
    "            first_feature.append(target_out)\n",
    "            first_label.append(labels)\n",
    "            if len(first_feature) > feature_num:\n",
    "                first_feature.pop(0)\n",
    "                first_label.pop(0)\n",
    "            _,predicted = torch.max(target_out,1) # target_out.data : no grad, target_out : with grad\n",
    "            \n",
    "            total += labels.size(0)\n",
    "            correct += (predicted==labels).sum().item()\n",
    "            \n",
    "            #print(labels.size(),target_out.size())\n",
    "            loss = loss_fn(target_out,labels)\n",
    "            \n",
    "            running_loss += loss.item()\n",
    "            target_model.model.zero_grad() # might be useless\n",
    "            f4f.f4f.zero_grad()\n",
    "            loss.backward()\n",
    "            optimizer.step()\n",
    "            if i % 100 == 99: \n",
    "                total_loss.append(running_loss/100)\n",
    "                print(\"\")\n",
    "                print('[%d, %5d] loss: %.6f' % (epoch+1, i+1, running_loss/100)) \n",
    "                running_loss = 0.0\n",
    "        # save weight\n",
    "        #print((len(train_dataloader)/batch_size))\n",
    "        #total_avg_loss = sum(total_loss)/len(total_loss)\n",
    "        acc = 100*correct/total\n",
    "        #print(\"total average loss : %.3f\" %(total_avg_loss))\n",
    "        print(\"train acc : %.4f\" %(acc))\n",
    "        #acc = header.eval(target_model,test_dataloader,epoch,f4f,error_info,log_file)\n",
    "        \"\"\"\n",
    "        torch.save(f4f.get_f4f_weight(), \n",
    "               retrain_model_path+\"%s~%s_pkt_err_f4f_epoch_%s_acc_%.4f_loss_%.4f.pt\"\n",
    "               %(str(error_idx).zfill(3),str(error_idx+num_error).zfill(3),\n",
    "                str(epoch+1).zfill(2),acc,total_avg_loss))    \n",
    "        \"\"\"\n",
    "        return first_feature,first_label\n",
    "                "
   ]
  },
  {
   "cell_type": "code",
   "execution_count": 13,
   "id": "670eb49c-789f-4a98-af0a-8c808259704d",
   "metadata": {},
   "outputs": [
    {
     "name": "stdout",
     "output_type": "stream",
     "text": [
      ".torch.Size([512, 4608])\n",
      "torch.Size([512, 512, 3, 3])\n",
      "torch.Size([512, 4608])\n",
      "torch.Size([512, 512, 3, 3])\n",
      "torch.Size([512, 4608])\n",
      "torch.Size([512, 512, 3, 3])\n",
      "torch.Size([512, 4608])\n",
      "torch.Size([512, 512, 3, 3])\n",
      "train acc : 0.0000\n"
     ]
    }
   ],
   "source": [
    "first_feature,first_label = training(f4f,target_model,original_model,\n",
    "                  train_dataloader,test_dataloader,\n",
    "                  log_file, loss_fn,optimizer,\n",
    "                  error_index,num_error,10,True)"
   ]
  },
  {
   "cell_type": "code",
   "execution_count": 14,
   "id": "3b8ccf30-1a70-47bf-bacf-e5c3596dadab",
   "metadata": {},
   "outputs": [
    {
     "data": {
      "text/plain": [
       "(32, torch.Size([32, 1000]))"
      ]
     },
     "execution_count": 14,
     "metadata": {},
     "output_type": "execute_result"
    }
   ],
   "source": [
    "len(first_feature[0]),first_feature[0].size()"
   ]
  },
  {
   "cell_type": "code",
   "execution_count": 15,
   "id": "55b9c939-bb77-48a3-b2c9-b5a98c616cad",
   "metadata": {},
   "outputs": [
    {
     "name": "stdout",
     "output_type": "stream",
     "text": [
      "torch.Size([32, 1000]) torch.Size([32])\n",
      "491 vs 477\n",
      "696 vs 903\n",
      "836 vs 594\n",
      "674 vs 994\n",
      "539 vs 707\n",
      "836 vs 95\n",
      "428 vs 818\n",
      "674 vs 687\n",
      "456 vs 194\n",
      "852 vs 334\n",
      "491 vs 445\n",
      "971 vs 239\n",
      "971 vs 285\n",
      "876 vs 555\n",
      "487 vs 997\n",
      "491 vs 482\n",
      "428 vs 177\n",
      "921 vs 497\n",
      "691 vs 321\n",
      "691 vs 666\n",
      "882 vs 355\n",
      "112 vs 89\n",
      "674 vs 304\n",
      "539 vs 975\n",
      "917 vs 665\n",
      "696 vs 513\n",
      "787 vs 883\n",
      "428 vs 58\n",
      "790 vs 837\n",
      "589 vs 736\n",
      "447 vs 765\n",
      "851 vs 702\n"
     ]
    }
   ],
   "source": [
    "print(first_feature[0].size(),first_label[0].size())\n",
    "#torch.max(mp[1][0],1) // 32,1000\n",
    "\n",
    "for i in range(first_label[0].size()[0]):\n",
    "    print(first_feature[0][i].argmax().item(),\"vs\",first_label[0][i].item())"
   ]
  },
  {
   "cell_type": "code",
   "execution_count": 16,
   "id": "d087fe7c-688e-4bff-9a23-565a0dbbf158",
   "metadata": {},
   "outputs": [],
   "source": [
    "# 여기서부터는 feature 그림 보기 위한 것들입니다.\n"
   ]
  },
  {
   "cell_type": "code",
   "execution_count": 17,
   "id": "8a75340c-7752-49f4-948f-4c2777412d57",
   "metadata": {},
   "outputs": [],
   "source": [
    "\n",
    "w = 10\n",
    "h = 10\n",
    "cols = 32\n",
    "rows = 16\n",
    "def feature_print(pic):\n",
    "    print(\"test with 'after pooling 4 feature'\")\n",
    "    fig = plt.figure(figsize=(64,32))\n",
    "    ax = []\n",
    "    for i in range(cols*rows):\n",
    "        ch = pic[i,:,:]\n",
    "        ax.append(fig.add_subplot(rows,cols,i+1))\n",
    "        ax[-1].set_title(str(i)+\"th ch (14x14)\")\n",
    "        plt.imshow(ch)"
   ]
  }
 ],
 "metadata": {
  "kernelspec": {
   "display_name": "Python 3",
   "language": "python",
   "name": "python3"
  },
  "language_info": {
   "codemirror_mode": {
    "name": "ipython",
    "version": 3
   },
   "file_extension": ".py",
   "mimetype": "text/x-python",
   "name": "python",
   "nbconvert_exporter": "python",
   "pygments_lexer": "ipython3",
   "version": "3.7.10"
  }
 },
 "nbformat": 4,
 "nbformat_minor": 5
}
