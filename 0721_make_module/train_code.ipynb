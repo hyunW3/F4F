{
 "cells": [
  {
   "cell_type": "code",
   "execution_count": 1,
   "id": "b0b6c894-7d78-48c7-9a72-57c0131e62e5",
   "metadata": {},
   "outputs": [],
   "source": [
    "import os\n",
    "os.environ[\"CUDA_DEVICE_ORDER\"] = \"PCI_BUS_ID\"\n",
    "os.environ['CUDA_VISIBLE_DEVICES'] = '2'\n",
    "os.environ[\"TF_CPP_MIN_LOG_LEVEL\"] = '3'\n",
    "import torch\n",
    "import torchvision\n",
    "import torchvision.transforms as transforms\n",
    "import torchvision.datasets as dataset\n",
    "from torch.autograd import Variable\n",
    "import torch.nn as nn\n",
    "import torch.nn.functional as F\n",
    "import matplotlib.pyplot as plt\n",
    "import numpy as np\n",
    "from copy import deepcopy as d_copy\n",
    "import random"
   ]
  },
  {
   "cell_type": "code",
   "execution_count": 2,
   "id": "4dbd81aa-7939-4fcd-9bcc-eb4cf950233c",
   "metadata": {},
   "outputs": [
    {
     "name": "stdout",
     "output_type": "stream",
     "text": [
      "cuda\n"
     ]
    }
   ],
   "source": [
    "device = torch.device(\"cuda\" if torch.cuda.is_available() else \"cpu\")\n",
    "#error_index = 0\n",
    "vgg16_bn = torchvision.models.vgg16_bn(pretrained=True)#.to(device)\n",
    "print(device)"
   ]
  },
  {
   "cell_type": "code",
   "execution_count": 3,
   "id": "4fe0315b-90d2-4d99-a7a8-a53324054054",
   "metadata": {},
   "outputs": [],
   "source": [
    "from importnb import Notebook"
   ]
  },
  {
   "cell_type": "code",
   "execution_count": 4,
   "id": "dc28da8c-8258-4740-bf72-b1dc5d7cdae2",
   "metadata": {},
   "outputs": [],
   "source": [
    "with Notebook(lazy=True):\n",
    "    import F4F_model\n",
    "header = F4F_model"
   ]
  },
  {
   "cell_type": "code",
   "execution_count": null,
   "id": "70788fc0-4324-44d7-9b15-918886ddb37f",
   "metadata": {},
   "outputs": [],
   "source": []
  },
  {
   "cell_type": "code",
   "execution_count": null,
   "id": "ce664d9c-b505-4557-a256-60db263778c5",
   "metadata": {},
   "outputs": [],
   "source": []
  },
  {
   "cell_type": "code",
   "execution_count": 5,
   "id": "4d356098-fb9e-47d0-87c0-bd2d049299c1",
   "metadata": {},
   "outputs": [
    {
     "name": "stdout",
     "output_type": "stream",
     "text": [
      "===INFO===\n",
      "torch ver : 1.8.0\n",
      "torchvision ver : 0.2.2 \n",
      "GPU model : TITAN RTX\n",
      "train dataset[4000], test dataset[1563] are loaded\n"
     ]
    }
   ],
   "source": [
    "# set randomness\n",
    "seed = 0\n",
    "\n",
    "header.set_randomness(seed) # ipynb module import means run all cell in file\n",
    "# load dataset\n",
    "dataset_path = \"/media/2/Network/Imagenet_dup/\"\n",
    "retrain_model_path = \"/media/0/Network/0821_to_fullmodels/\"\n",
    "batch_size = 32 # 32~ out of memory in 3080\n",
    "num_train = 128000 #640000\n",
    "\n",
    "train_dataloader,test_dataloader = header.get_dataset(num_train,batch_size,\n",
    "                  dataset_path,retrain_model_path)"
   ]
  },
  {
   "cell_type": "code",
   "execution_count": 6,
   "id": "18d4579d-7192-4c1b-bf80-bf588383877b",
   "metadata": {},
   "outputs": [],
   "source": [
    "#In_layer_number = 34 # 34 conv5_1 convolution\n",
    "#Out_layer_number = 36 # 36 conv5_1 relu \n",
    "error_index=0\n",
    "max_epoch = 90\n",
    "num_error = 64"
   ]
  },
  {
   "cell_type": "code",
   "execution_count": 7,
   "id": "147afee8-cbb6-4065-8176-9237ffa31cf2",
   "metadata": {},
   "outputs": [],
   "source": [
    "log_file = \"./3fc_64_acc_log_0826.txt\""
   ]
  },
  {
   "cell_type": "code",
   "execution_count": 8,
   "id": "4264bffc-c9fa-4aca-8485-2617c74830b1",
   "metadata": {},
   "outputs": [],
   "source": [
    "f4f = header.F4F().to(device)\n",
    "optimizer = torch.optim.SGD(f4f.parameters(),lr=1e-3,weight_decay=1e-4)\n",
    "loss_fn = nn.CrossEntropyLoss()\n"
   ]
  },
  {
   "cell_type": "code",
   "execution_count": 9,
   "id": "35927f2b-1bcc-4e69-aa73-1a11681238f6",
   "metadata": {},
   "outputs": [
    {
     "data": {
      "text/plain": [
       "<bound method Module.parameters of F4F(\n",
       "  (fc1): Linear(in_features=5120, out_features=5120, bias=True)\n",
       "  (fc2): Linear(in_features=5120, out_features=5120, bias=True)\n",
       "  (fc3): Linear(in_features=5120, out_features=4608, bias=True)\n",
       ")>"
      ]
     },
     "execution_count": 9,
     "metadata": {},
     "output_type": "execute_result"
    }
   ],
   "source": [
    "f4f.parameters"
   ]
  },
  {
   "cell_type": "code",
   "execution_count": 10,
   "id": "b07f5901-a376-4cd5-8d8f-0e2b3fd84de1",
   "metadata": {},
   "outputs": [],
   "source": [
    "if torch.cuda.device_count() >1 :\n",
    "    print(\"data parallel start\")\n",
    "    f4f = nn.DataParallel(f4f).to(device)"
   ]
  },
  {
   "cell_type": "code",
   "execution_count": 11,
   "id": "7feb48a3-6382-4db2-99dd-b7d5c3934437",
   "metadata": {},
   "outputs": [],
   "source": [
    "#split_model = split_layer(vgg16_bn,0,Out_layer_number)\n",
    "\n",
    "original_model = d_copy(vgg16_bn).to(device)\n",
    "# subset of vgg16 (whole layer) with f4f\n",
    "#header.hook_register(vgg16_bn,error_index,num_error)\n",
    "header.hook_register(vgg16_bn)\n",
    "target_model = header.Target_model(vgg16_bn).to(device)\n",
    "\n"
   ]
  },
  {
   "cell_type": "code",
   "execution_count": 12,
   "id": "996cfadf-010d-451d-a3d9-802c01e0835b",
   "metadata": {},
   "outputs": [],
   "source": [
    "with Notebook(lazy=True):\n",
    "    import F4F_model\n",
    "header = F4F_model"
   ]
  },
  {
   "cell_type": "code",
   "execution_count": null,
   "id": "dc979b91-c459-4d63-aae4-8455536b4d53",
   "metadata": {
    "scrolled": true,
    "tags": []
   },
   "outputs": [
    {
     "name": "stdout",
     "output_type": "stream",
     "text": [
      "3fc layer concatenate error_index & filter_set\n",
      "..........\n",
      "[1,   100] loss: 0.251065\n",
      "..........\n",
      "[1,   200] loss: 0.247853\n",
      "..........\n",
      "[1,   300] loss: 0.245431\n",
      "..........\n",
      "[1,   400] loss: 0.247493\n",
      "..........\n",
      "[1,   500] loss: 0.248858\n",
      "..........\n",
      "[1,   600] loss: 0.248526\n",
      "..........\n",
      "[1,   700] loss: 0.249348\n",
      "..........\n",
      "[1,   800] loss: 0.246621\n",
      "..........\n",
      "[1,   900] loss: 0.245774\n",
      "..........\n",
      "[1,  1000] loss: 0.249021\n",
      "..........\n",
      "[1,  1100] loss: 0.249191\n",
      "..........\n",
      "[1,  1200] loss: 0.248932\n",
      "..........\n",
      "[1,  1300] loss: 0.246489\n",
      "..........\n",
      "[1,  1400] loss: 0.247000\n",
      "..........\n",
      "[1,  1500] loss: 0.248833\n",
      "..........\n",
      "[1,  1600] loss: 0.246210\n",
      "..........\n",
      "[1,  1700] loss: 0.247872\n",
      "..........\n",
      "[1,  1800] loss: 0.246139\n",
      "..........\n",
      "[1,  1900] loss: 0.247689\n",
      "..........\n",
      "[1,  2000] loss: 0.250959\n",
      "..........\n",
      "[1,  2100] loss: 0.246029\n",
      "..........\n",
      "[1,  2200] loss: 0.248425\n",
      "..........\n",
      "[1,  2300] loss: 0.247692\n",
      "..........\n",
      "[1,  2400] loss: 0.245659\n",
      "..........\n",
      "[1,  2500] loss: 0.249281\n",
      "..........\n",
      "[1,  2600] loss: 0.246107\n",
      "..........\n",
      "[1,  2700] loss: 0.248066\n",
      "..........\n",
      "[1,  2800] loss: 0.249047\n",
      "..........\n",
      "[1,  2900] loss: 0.245874\n",
      "..........\n",
      "[1,  3000] loss: 0.248937\n",
      "..........\n",
      "[1,  3100] loss: 0.246851\n",
      "..........\n",
      "[1,  3200] loss: 0.248905\n",
      "..........\n",
      "[1,  3300] loss: 0.248971\n",
      "..........\n",
      "[1,  3400] loss: 0.246063\n",
      "..........\n",
      "[1,  3500] loss: 0.249985\n",
      "..........\n",
      "[1,  3600] loss: 0.245293\n",
      "..........\n",
      "[1,  3700] loss: 0.251193\n",
      "..........\n",
      "[1,  3800] loss: 0.250077\n",
      "..........\n",
      "[1,  3900] loss: 0.243568\n",
      "."
     ]
    }
   ],
   "source": [
    "\n",
    "#optimizer = torch.optim.SGD(param_list,lr=0.01,weight_decay=1e-4)\n",
    "first_feature = []\n",
    "first_label = []\n",
    "offset_info = []\n",
    "f = open(log_file,\"w\")\n",
    "print(\"3fc layer concatenate error_index & filter_set\")\n",
    "f.close()\n",
    "\n",
    "header.hook_register(vgg16_bn)\n",
    "target_model = header.Target_model(vgg16_bn).to(device)\n",
    "    \n",
    "tmp= header.training(f4f,target_model,original_model,\n",
    "                  train_dataloader,test_dataloader,batch_size,\n",
    "                  log_file,retrain_model_path,\n",
    "                  loss_fn,optimizer,\n",
    "                  num_error,max_epoch,True)\n",
    "        # tmp : first_feature,first_label,offset_info\n",
    "first_feature.append(tmp[0])\n",
    "first_label.append(tmp[1])\n",
    "offset_info.append(tmp[2])"
   ]
  },
  {
   "cell_type": "code",
   "execution_count": null,
   "id": "d087fe7c-688e-4bff-9a23-565a0dbbf158",
   "metadata": {},
   "outputs": [],
   "source": [
    "# 여기서부터는 feature 그림 보기 위한 것들입니다.\n",
    "for i in range(10):\n",
    "    print(first_feature[0][0][i],original_out[0][0][i].argmax())"
   ]
  },
  {
   "cell_type": "code",
   "execution_count": null,
   "id": "8a75340c-7752-49f4-948f-4c2777412d57",
   "metadata": {},
   "outputs": [],
   "source": [
    "\n",
    "w = 10\n",
    "h = 10\n",
    "cols = 32\n",
    "rows = 16\n",
    "def feature_print(pic):\n",
    "    #print(\"test with 'after pooling 4 feature'\")\n",
    "    fig = plt.figure(figsize=(64,32))\n",
    "    ax = []\n",
    "    for i in range(cols*rows):\n",
    "        ch = pic[i,:,:]\n",
    "        ax.append(fig.add_subplot(rows,cols,i+1))\n",
    "        ax[-1].set_title(str(i)+\"th ch (14x14)\")\n",
    "        plt.imshow(ch)"
   ]
  },
  {
   "cell_type": "code",
   "execution_count": null,
   "id": "23c4590c-472f-4dda-ba88-766fbd184048",
   "metadata": {},
   "outputs": [],
   "source": [
    "feature_print(first_feature[0])"
   ]
  },
  {
   "cell_type": "code",
   "execution_count": null,
   "id": "46670422-0d8b-44fe-979c-f89924c10a8d",
   "metadata": {},
   "outputs": [],
   "source": []
  },
  {
   "cell_type": "code",
   "execution_count": null,
   "id": "c3f8f358-02a1-46d2-9e75-bd3f3816c8ca",
   "metadata": {},
   "outputs": [],
   "source": []
  }
 ],
 "metadata": {
  "kernelspec": {
   "display_name": "Python 3",
   "language": "python",
   "name": "python3"
  },
  "language_info": {
   "codemirror_mode": {
    "name": "ipython",
    "version": 3
   },
   "file_extension": ".py",
   "mimetype": "text/x-python",
   "name": "python",
   "nbconvert_exporter": "python",
   "pygments_lexer": "ipython3",
   "version": "3.7.10"
  }
 },
 "nbformat": 4,
 "nbformat_minor": 5
}
