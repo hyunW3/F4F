{
 "cells": [
  {
   "cell_type": "code",
   "execution_count": 1,
   "id": "b0b6c894-7d78-48c7-9a72-57c0131e62e5",
   "metadata": {},
   "outputs": [],
   "source": [
    "import os\n",
    "os.environ[\"CUDA_DEVICE_ORDER\"] = \"PCI_BUS_ID\"\n",
    "os.environ['CUDA_VISIBLE_DEVICES'] = '3'\n",
    "os.environ[\"TF_CPP_MIN_LOG_LEVEL\"] = '3'\n",
    "import torch\n",
    "import torchvision\n",
    "import torchvision.transforms as transforms\n",
    "import torchvision.datasets as dataset\n",
    "from torch.autograd import Variable\n",
    "import torch.nn as nn\n",
    "import torch.nn.functional as F\n",
    "import matplotlib.pyplot as plt\n",
    "import numpy as np\n",
    "from copy import deepcopy as d_copy\n",
    "import random\n",
    "from torch.utils.tensorboard import SummaryWriter"
   ]
  },
  {
   "cell_type": "code",
   "execution_count": 2,
   "id": "4dbd81aa-7939-4fcd-9bcc-eb4cf950233c",
   "metadata": {},
   "outputs": [
    {
     "name": "stdout",
     "output_type": "stream",
     "text": [
      "cuda\n"
     ]
    }
   ],
   "source": [
    "device = torch.device(\"cuda\" if torch.cuda.is_available() else \"cpu\")\n",
    "#error_index = 0\n",
    "writer = SummaryWriter(\"./runs/submodel_1e-5\") #_BN\n",
    "vgg16_bn = torchvision.models.vgg16_bn(pretrained=True)#.to(device)\n",
    "print(device)"
   ]
  },
  {
   "cell_type": "code",
   "execution_count": 3,
   "id": "4fe0315b-90d2-4d99-a7a8-a53324054054",
   "metadata": {},
   "outputs": [],
   "source": [
    "from importnb import Notebook"
   ]
  },
  {
   "cell_type": "code",
   "execution_count": 4,
   "id": "dc28da8c-8258-4740-bf72-b1dc5d7cdae2",
   "metadata": {},
   "outputs": [],
   "source": [
    "with Notebook(lazy=True):\n",
    "    import F4F_model_Submodel\n",
    "header = F4F_model_Submodel"
   ]
  },
  {
   "cell_type": "code",
   "execution_count": 5,
   "id": "4d356098-fb9e-47d0-87c0-bd2d049299c1",
   "metadata": {},
   "outputs": [
    {
     "name": "stdout",
     "output_type": "stream",
     "text": [
      "===INFO===\n",
      "torch ver : 1.8.0\n",
      "torchvision ver : 0.2.2 \n",
      "GPU model : TITAN RTX\n"
     ]
    },
    {
     "ename": "KeyboardInterrupt",
     "evalue": "",
     "output_type": "error",
     "traceback": [
      "\u001b[0;31m--------------------------------------------------------------------\u001b[0m",
      "\u001b[0;31mKeyboardInterrupt\u001b[0m                  Traceback (most recent call last)",
      "\u001b[0;32m<ipython-input-5-07f029314111>\u001b[0m in \u001b[0;36m<module>\u001b[0;34m\u001b[0m\n\u001b[1;32m     10\u001b[0m \u001b[0;34m\u001b[0m\u001b[0m\n\u001b[1;32m     11\u001b[0m train_dataloader,test_dataloader = header.get_dataset(num_train,batch_size,\n\u001b[0;32m---> 12\u001b[0;31m                   dataset_path,retrain_model_path)\n\u001b[0m",
      "\u001b[0;32m/media/2/hwbae0326/F4F/0721_make_module/F4F_model_Submodel.ipynb\u001b[0m in \u001b[0;36mget_dataset\u001b[0;34m(num_train, batch_size, dataset_path, retrain_model_path)\u001b[0m\n\u001b[1;32m    114\u001b[0m     ])\u001b[1;32m    115\u001b[0m     train_dataset = dataset.ImageFolder(root=dataset_path+\"train\",\u001b[0;32m--> 116\u001b[0;31m                                        transform=transforms_train)\u001b[0m\u001b[1;32m    117\u001b[0m     subset_train_dataset,_ = torch.utils.data.random_split(train_dataset, \u001b[1;32m    118\u001b[0m                                         [num_train,len(train_dataset)-num_train])",
      "\u001b[0;32m~/.conda/envs/local_pytorch/lib/python3.7/site-packages/torchvision/datasets/folder.py\u001b[0m in \u001b[0;36m__init__\u001b[0;34m(self, root, transform, target_transform, loader)\u001b[0m\n\u001b[1;32m    207\u001b[0m         super(ImageFolder, self).__init__(root, loader, IMG_EXTENSIONS,\n\u001b[1;32m    208\u001b[0m                                           \u001b[0mtransform\u001b[0m\u001b[0;34m=\u001b[0m\u001b[0mtransform\u001b[0m\u001b[0;34m,\u001b[0m\u001b[0;34m\u001b[0m\u001b[0;34m\u001b[0m\u001b[0m\n\u001b[0;32m--> 209\u001b[0;31m                                           target_transform=target_transform)\n\u001b[0m\u001b[1;32m    210\u001b[0m         \u001b[0mself\u001b[0m\u001b[0;34m.\u001b[0m\u001b[0mimgs\u001b[0m \u001b[0;34m=\u001b[0m \u001b[0mself\u001b[0m\u001b[0;34m.\u001b[0m\u001b[0msamples\u001b[0m\u001b[0;34m\u001b[0m\u001b[0;34m\u001b[0m\u001b[0m\n",
      "\u001b[0;32m~/.conda/envs/local_pytorch/lib/python3.7/site-packages/torchvision/datasets/folder.py\u001b[0m in \u001b[0;36m__init__\u001b[0;34m(self, root, loader, extensions, transform, target_transform)\u001b[0m\n\u001b[1;32m     82\u001b[0m     \u001b[0;32mdef\u001b[0m \u001b[0m__init__\u001b[0m\u001b[0;34m(\u001b[0m\u001b[0mself\u001b[0m\u001b[0;34m,\u001b[0m \u001b[0mroot\u001b[0m\u001b[0;34m,\u001b[0m \u001b[0mloader\u001b[0m\u001b[0;34m,\u001b[0m \u001b[0mextensions\u001b[0m\u001b[0;34m,\u001b[0m \u001b[0mtransform\u001b[0m\u001b[0;34m=\u001b[0m\u001b[0;32mNone\u001b[0m\u001b[0;34m,\u001b[0m \u001b[0mtarget_transform\u001b[0m\u001b[0;34m=\u001b[0m\u001b[0;32mNone\u001b[0m\u001b[0;34m)\u001b[0m\u001b[0;34m:\u001b[0m\u001b[0;34m\u001b[0m\u001b[0;34m\u001b[0m\u001b[0m\n\u001b[1;32m     83\u001b[0m         \u001b[0mclasses\u001b[0m\u001b[0;34m,\u001b[0m \u001b[0mclass_to_idx\u001b[0m \u001b[0;34m=\u001b[0m \u001b[0mself\u001b[0m\u001b[0;34m.\u001b[0m\u001b[0m_find_classes\u001b[0m\u001b[0;34m(\u001b[0m\u001b[0mroot\u001b[0m\u001b[0;34m)\u001b[0m\u001b[0;34m\u001b[0m\u001b[0;34m\u001b[0m\u001b[0m\n\u001b[0;32m---> 84\u001b[0;31m         \u001b[0msamples\u001b[0m \u001b[0;34m=\u001b[0m \u001b[0mmake_dataset\u001b[0m\u001b[0;34m(\u001b[0m\u001b[0mroot\u001b[0m\u001b[0;34m,\u001b[0m \u001b[0mclass_to_idx\u001b[0m\u001b[0;34m,\u001b[0m \u001b[0mextensions\u001b[0m\u001b[0;34m)\u001b[0m\u001b[0;34m\u001b[0m\u001b[0;34m\u001b[0m\u001b[0m\n\u001b[0m\u001b[1;32m     85\u001b[0m         \u001b[0;32mif\u001b[0m \u001b[0mlen\u001b[0m\u001b[0;34m(\u001b[0m\u001b[0msamples\u001b[0m\u001b[0;34m)\u001b[0m \u001b[0;34m==\u001b[0m \u001b[0;36m0\u001b[0m\u001b[0;34m:\u001b[0m\u001b[0;34m\u001b[0m\u001b[0;34m\u001b[0m\u001b[0m\n\u001b[1;32m     86\u001b[0m             raise(RuntimeError(\"Found 0 files in subfolders of: \" + root + \"\\n\"\n",
      "\u001b[0;32m~/.conda/envs/local_pytorch/lib/python3.7/site-packages/torchvision/datasets/folder.py\u001b[0m in \u001b[0;36mmake_dataset\u001b[0;34m(dir, class_to_idx, extensions)\u001b[0m\n\u001b[1;32m     45\u001b[0m             \u001b[0;32mfor\u001b[0m \u001b[0mfname\u001b[0m \u001b[0;32min\u001b[0m \u001b[0msorted\u001b[0m\u001b[0;34m(\u001b[0m\u001b[0mfnames\u001b[0m\u001b[0;34m)\u001b[0m\u001b[0;34m:\u001b[0m\u001b[0;34m\u001b[0m\u001b[0;34m\u001b[0m\u001b[0m\n\u001b[1;32m     46\u001b[0m                 \u001b[0;32mif\u001b[0m \u001b[0mhas_file_allowed_extension\u001b[0m\u001b[0;34m(\u001b[0m\u001b[0mfname\u001b[0m\u001b[0;34m,\u001b[0m \u001b[0mextensions\u001b[0m\u001b[0;34m)\u001b[0m\u001b[0;34m:\u001b[0m\u001b[0;34m\u001b[0m\u001b[0;34m\u001b[0m\u001b[0m\n\u001b[0;32m---> 47\u001b[0;31m                     \u001b[0mpath\u001b[0m \u001b[0;34m=\u001b[0m \u001b[0mos\u001b[0m\u001b[0;34m.\u001b[0m\u001b[0mpath\u001b[0m\u001b[0;34m.\u001b[0m\u001b[0mjoin\u001b[0m\u001b[0;34m(\u001b[0m\u001b[0mroot\u001b[0m\u001b[0;34m,\u001b[0m \u001b[0mfname\u001b[0m\u001b[0;34m)\u001b[0m\u001b[0;34m\u001b[0m\u001b[0;34m\u001b[0m\u001b[0m\n\u001b[0m\u001b[1;32m     48\u001b[0m                     \u001b[0mitem\u001b[0m \u001b[0;34m=\u001b[0m \u001b[0;34m(\u001b[0m\u001b[0mpath\u001b[0m\u001b[0;34m,\u001b[0m \u001b[0mclass_to_idx\u001b[0m\u001b[0;34m[\u001b[0m\u001b[0mtarget\u001b[0m\u001b[0;34m]\u001b[0m\u001b[0;34m)\u001b[0m\u001b[0;34m\u001b[0m\u001b[0;34m\u001b[0m\u001b[0m\n\u001b[1;32m     49\u001b[0m                     \u001b[0mimages\u001b[0m\u001b[0;34m.\u001b[0m\u001b[0mappend\u001b[0m\u001b[0;34m(\u001b[0m\u001b[0mitem\u001b[0m\u001b[0;34m)\u001b[0m\u001b[0;34m\u001b[0m\u001b[0;34m\u001b[0m\u001b[0m\n",
      "\u001b[0;32m~/.conda/envs/local_pytorch/lib/python3.7/posixpath.py\u001b[0m in \u001b[0;36mjoin\u001b[0;34m(a, *p)\u001b[0m\n\u001b[1;32m     84\u001b[0m         \u001b[0;32mif\u001b[0m \u001b[0;32mnot\u001b[0m \u001b[0mp\u001b[0m\u001b[0;34m:\u001b[0m\u001b[0;34m\u001b[0m\u001b[0;34m\u001b[0m\u001b[0m\n\u001b[1;32m     85\u001b[0m             \u001b[0mpath\u001b[0m\u001b[0;34m[\u001b[0m\u001b[0;34m:\u001b[0m\u001b[0;36m0\u001b[0m\u001b[0;34m]\u001b[0m \u001b[0;34m+\u001b[0m \u001b[0msep\u001b[0m  \u001b[0;31m#23780: Ensure compatible data type even if p is null.\u001b[0m\u001b[0;34m\u001b[0m\u001b[0;34m\u001b[0m\u001b[0m\n\u001b[0;32m---> 86\u001b[0;31m         \u001b[0;32mfor\u001b[0m \u001b[0mb\u001b[0m \u001b[0;32min\u001b[0m \u001b[0mmap\u001b[0m\u001b[0;34m(\u001b[0m\u001b[0mos\u001b[0m\u001b[0;34m.\u001b[0m\u001b[0mfspath\u001b[0m\u001b[0;34m,\u001b[0m \u001b[0mp\u001b[0m\u001b[0;34m)\u001b[0m\u001b[0;34m:\u001b[0m\u001b[0;34m\u001b[0m\u001b[0;34m\u001b[0m\u001b[0m\n\u001b[0m\u001b[1;32m     87\u001b[0m             \u001b[0;32mif\u001b[0m \u001b[0mb\u001b[0m\u001b[0;34m.\u001b[0m\u001b[0mstartswith\u001b[0m\u001b[0;34m(\u001b[0m\u001b[0msep\u001b[0m\u001b[0;34m)\u001b[0m\u001b[0;34m:\u001b[0m\u001b[0;34m\u001b[0m\u001b[0;34m\u001b[0m\u001b[0m\n\u001b[1;32m     88\u001b[0m                 \u001b[0mpath\u001b[0m \u001b[0;34m=\u001b[0m \u001b[0mb\u001b[0m\u001b[0;34m\u001b[0m\u001b[0;34m\u001b[0m\u001b[0m\n",
      "\u001b[0;31mKeyboardInterrupt\u001b[0m: "
     ]
    }
   ],
   "source": [
    "# set randomness\n",
    "seed = 0\n",
    "\n",
    "header.set_randomness(seed) # ipynb module import means run all cell in file\n",
    "# load dataset\n",
    "dataset_path = \"/media/2/Network/Imagenet_dup/\"\n",
    "retrain_model_path = \"/media/0/Network/0821_to_fullmodels/\"\n",
    "batch_size = 32 # 32~ out of memory in 3080\n",
    "num_train = 128000 #640000 #debug\n",
    "\n",
    "train_dataloader,test_dataloader = header.get_dataset(num_train,batch_size,\n",
    "                  dataset_path,retrain_model_path)"
   ]
  },
  {
   "cell_type": "code",
   "execution_count": null,
   "id": "9d39c889-1ee9-4700-b3b2-7cf70f317b45",
   "metadata": {},
   "outputs": [],
   "source": [
    "dataiter = iter(train_dataloader)\n",
    "images, labels = dataiter.next()"
   ]
  },
  {
   "cell_type": "code",
   "execution_count": null,
   "id": "18d4579d-7192-4c1b-bf80-bf588383877b",
   "metadata": {},
   "outputs": [],
   "source": [
    "#In_layer_number = 34 # 34 conv5_1 convolution\n",
    "#Out_layer_number = 36 # 36 conv5_1 relu \n",
    "error_index=0\n",
    "max_epoch = 1 #90\n",
    "num_error = 64"
   ]
  },
  {
   "cell_type": "code",
   "execution_count": null,
   "id": "25f7dbd2-b260-4f95-acd6-b73c47f80e75",
   "metadata": {},
   "outputs": [],
   "source": [
    "\"\"\"\n",
    "writer.flush()\n",
    "f4f = header.F4F().to(device)\n",
    "target_model = header.Target_model(vgg16_bn).to(device)\n",
    "filter_set = target_model.get_layer(34).weight.data\n",
    "filter_set = torch.reshape(filter_set,(512,512*3*3)).to(device)\n",
    "error_info = header.make_error_info(error_index,num_error).to(device)\n",
    "#writer.add_graph(target_model,(images,f4f,error_info))\n",
    "writer.add_graph(f4f,(images,filter_set,error_info))\n",
    "writer.close()\n",
    "\"\"\""
   ]
  },
  {
   "cell_type": "code",
   "execution_count": null,
   "id": "147afee8-cbb6-4065-8176-9237ffa31cf2",
   "metadata": {},
   "outputs": [],
   "source": [
    "log_file = \"./log/3fc_64_acc_log_0831.txt\""
   ]
  },
  {
   "cell_type": "code",
   "execution_count": null,
   "id": "4264bffc-c9fa-4aca-8485-2617c74830b1",
   "metadata": {},
   "outputs": [],
   "source": [
    "f4f = header.F4F().to(device)\n",
    "#optimizer = torch.optim.SGD(f4f.parameters,lr=1e-4,weight_decay=1e-4,momentum=0.9)\n",
    "optimizer = torch.optim.SGD([i for i in f4f.parameters()],lr=1e-5,weight_decay=1e-4,momentum=0.9)\n",
    "#loss_fn = nn.CrossEntropyLoss()\n",
    "def loss_fn(loss1_ratio,pred,label, filter_orig,filter_f4f):\n",
    "    if(loss1_ratio <0 or loss1_ratio >1 ):\n",
    "        print(\"wrong parameter ratio \",loss1_ratio)\n",
    "        return nan\n",
    "    loss1 = nn.CrossEntropyLoss()\n",
    "    loss2 = nn.MSELoss()\n",
    "    a = loss1(pred,label)\n",
    "    b = loss2(filter_orig,filter_f4f)\n",
    "    return loss1_ratio * a + (1-loss1_ratio) * b\n"
   ]
  },
  {
   "cell_type": "code",
   "execution_count": null,
   "id": "35927f2b-1bcc-4e69-aa73-1a11681238f6",
   "metadata": {},
   "outputs": [],
   "source": [
    "[i.size() for i in f4f.parameters()]"
   ]
  },
  {
   "cell_type": "code",
   "execution_count": null,
   "id": "b07f5901-a376-4cd5-8d8f-0e2b3fd84de1",
   "metadata": {},
   "outputs": [],
   "source": [
    "if torch.cuda.device_count() >1 :\n",
    "    print(\"data parallel start\")\n",
    "    f4f = nn.DataParallel(f4f).to(device)"
   ]
  },
  {
   "cell_type": "code",
   "execution_count": null,
   "id": "7feb48a3-6382-4db2-99dd-b7d5c3934437",
   "metadata": {},
   "outputs": [],
   "source": [
    "#split_model = split_layer(vgg16_bn,0,Out_layer_number)\n",
    "\n",
    "original_model = d_copy(vgg16_bn).to(device)\n",
    "# subset of vgg16 (whole layer) with f4f\n",
    "header.hook_register(vgg16_bn,num_error,error_index)\n",
    "target_model = header.Target_model(vgg16_bn).to(device)\n",
    "\n"
   ]
  },
  {
   "cell_type": "code",
   "execution_count": null,
   "id": "46ca1dae-7b1a-438d-aece-2f32ce991bca",
   "metadata": {},
   "outputs": [],
   "source": []
  },
  {
   "cell_type": "code",
   "execution_count": null,
   "id": "27a02191-b3dd-4af5-a223-4dbe1832f160",
   "metadata": {},
   "outputs": [],
   "source": [
    "#target_model.model"
   ]
  },
  {
   "cell_type": "code",
   "execution_count": null,
   "id": "dc979b91-c459-4d63-aae4-8455536b4d53",
   "metadata": {
    "scrolled": true,
    "tags": []
   },
   "outputs": [],
   "source": [
    "\n",
    "#optimizer = torch.optim.SGD(param_list,lr=0.01,weight_decay=1e-4)\n",
    "first_feature = []\n",
    "first_label = []\n",
    "offset_info = []\n",
    "f = open(log_file,\"w\")\n",
    "print(\"Submodel case\")\n",
    "f.close()\n",
    "\n",
    "target_model = header.Target_model(vgg16_bn).to(device)\n",
    "    \n",
    "tmp= header.training(f4f,target_model,original_model,\n",
    "                  train_dataloader,test_dataloader,batch_size,\n",
    "                  log_file,writer,retrain_model_path,\n",
    "                  loss_fn,optimizer,\n",
    "                  num_error,max_epoch,True)\n",
    "        # tmp : first_feature,first_label,offset_info\n",
    "first_feature.append(tmp[0])\n",
    "first_label.append(tmp[1])\n",
    "offset_info.append(tmp[2])"
   ]
  },
  {
   "cell_type": "code",
   "execution_count": null,
   "id": "0a7b445e-6394-4ebe-8b6c-7b6926377bfe",
   "metadata": {},
   "outputs": [],
   "source": [
    "writer.flush()\n",
    "writer.close()"
   ]
  },
  {
   "cell_type": "code",
   "execution_count": null,
   "id": "d087fe7c-688e-4bff-9a23-565a0dbbf158",
   "metadata": {},
   "outputs": [],
   "source": [
    "# 여기서부터는 feature 그림 보기 위한 것들입니다.\n",
    "for i in range(10):\n",
    "    print(first_feature[0][0][i],first_label[0][0][i].argmax())"
   ]
  },
  {
   "cell_type": "code",
   "execution_count": null,
   "id": "8a75340c-7752-49f4-948f-4c2777412d57",
   "metadata": {},
   "outputs": [],
   "source": [
    "\n",
    "w = 10\n",
    "h = 10\n",
    "cols = 32\n",
    "rows = 16\n",
    "def feature_print(pic):\n",
    "    #print(\"test with 'after pooling 4 feature'\")\n",
    "    fig = plt.figure(figsize=(64,32))\n",
    "    ax = []\n",
    "    for i in range(cols*rows):\n",
    "        ch = pic[i,:,:]\n",
    "        ax.append(fig.add_subplot(rows,cols,i+1))\n",
    "        ax[-1].set_title(str(i)+\"th ch (14x14)\")\n",
    "        plt.imshow(ch)"
   ]
  },
  {
   "cell_type": "code",
   "execution_count": null,
   "id": "23c4590c-472f-4dda-ba88-766fbd184048",
   "metadata": {},
   "outputs": [],
   "source": [
    "feature_print(first_feature[0])"
   ]
  },
  {
   "cell_type": "code",
   "execution_count": null,
   "id": "46670422-0d8b-44fe-979c-f89924c10a8d",
   "metadata": {},
   "outputs": [],
   "source": []
  }
 ],
 "metadata": {
  "kernelspec": {
   "display_name": "Python 3",
   "language": "python",
   "name": "python3"
  },
  "language_info": {
   "codemirror_mode": {
    "name": "ipython",
    "version": 3
   },
   "file_extension": ".py",
   "mimetype": "text/x-python",
   "name": "python",
   "nbconvert_exporter": "python",
   "pygments_lexer": "ipython3",
   "version": "3.7.10"
  }
 },
 "nbformat": 4,
 "nbformat_minor": 5
}
