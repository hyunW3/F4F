{
 "cells": [
  {
   "cell_type": "code",
   "execution_count": 1,
   "id": "1d9953ba-1f20-44e0-908b-f102f0fc292d",
   "metadata": {},
   "outputs": [],
   "source": [
    "# case 6 of dongwhee\n",
    "import os\n",
    "import numpy as np\n",
    "import random\n",
    "from tqdm import tqdm\n",
    "import torch\n",
    "import torch.nn as nn\n",
    "import torch.nn.functional as F\n",
    "from torch import Tensor\n",
    "import torch.utils.data as data\n",
    "import torchvision\n",
    "from torchvision import transforms\n",
    "from torchvision import models\n",
    "import torchvision.models as models\n",
    "import matplotlib.pyplot as plt\n",
    "os.environ[\"CUDA_DEVICE_ORDER\"] = \"PCI_BUS_ID\"\n",
    "os.environ['CUDA_VISIBLE_DEVICES'] = '2'\n",
    "os.environ[\"TF_CPP_MIN_LOG_LEVEL\"] = '3'"
   ]
  },
  {
   "cell_type": "code",
   "execution_count": 2,
   "id": "44bf5887-4f5f-43b5-b547-39113b78e2e5",
   "metadata": {},
   "outputs": [],
   "source": [
    "device=torch.device('cuda' if torch.cuda.is_available() else 'cpu')\n",
    "torch.manual_seed(0)\n",
    "torch.cuda.manual_seed(0)\n",
    "torch.cuda.manual_seed_all(0) # if use multi-GPU\n",
    "torch.backends.cudnn.deterministic = True\n",
    "torch.backends.cudnn.benchmark = False\n",
    "np.random.seed(0)\n",
    "random.seed(0)\n",
    "\n",
    "pretrained_model = models.vgg16_bn(pretrained=True)\n",
    "if torch.cuda.device_count() > 1:\n",
    "    pretrained_model = nn.DataParallel(pretrained_model)\n",
    "pretrained_model.cuda() \n",
    "#print(pretrained_model)\n",
    "\n",
    "new_model=models.vgg16_bn(pretrained=True).cuda()\n",
    "if torch.cuda.device_count() > 1:\n",
    "    new_model = nn.DataParallel(new_model)\n"
   ]
  },
  {
   "cell_type": "code",
   "execution_count": 3,
   "id": "0c4e6e7c-999e-4581-a1de-5adda7619646",
   "metadata": {},
   "outputs": [],
   "source": [
    "\n",
    "normalize = transforms.Normalize(mean=[0.485, 0.456, 0.406],\n",
    "                                     std=[0.229, 0.224, 0.225])\n",
    "transforms_train = transforms.Compose([\n",
    "    transforms.RandomResizedCrop(224),\n",
    "    transforms.RandomHorizontalFlip(),\n",
    "    transforms.ToTensor(),\n",
    "    normalize,\n",
    "])\n",
    "\n",
    "transforms_test = transforms.Compose([\n",
    "    transforms.Resize(256),\n",
    "    transforms.CenterCrop(224), \n",
    "    transforms.ToTensor(),\n",
    "    normalize,\n",
    "])"
   ]
  },
  {
   "cell_type": "code",
   "execution_count": 4,
   "id": "8dfa3ae4-7c60-4a75-a0eb-b92698db4d5d",
   "metadata": {},
   "outputs": [],
   "source": [
    "file = open('Filter_for_Filter_gpu1_result.txt', 'w')    \n",
    "num_epochs = 120\n",
    "batchsize = 64\n",
    "lr = 0.001\n",
    "class_num=1000 \n",
    "channel_per_packet=2 \n",
    "packet_loss_per_feature=64\n",
    "before_accuracy=0.0\n",
    "before_lr=lr"
   ]
  },
  {
   "cell_type": "code",
   "execution_count": 5,
   "id": "8c35d1df-1bd7-45b8-ac51-af0dd7937121",
   "metadata": {},
   "outputs": [],
   "source": [
    "TRAIN_DATA_PATH = \"/media/2/Network/Imagenet_dup/train\"\n",
    "TEST_DATA_PATH=\"/media/2/Network/Imagenet_dup/val\"\n",
    "SAVE_PATH=\"/media/0/Network/0722_dongwhee\""
   ]
  },
  {
   "cell_type": "code",
   "execution_count": 6,
   "id": "1a5596a3-021b-43df-8eeb-e648b3dadf7b",
   "metadata": {},
   "outputs": [],
   "source": [
    "if os.path.isdir(SAVE_PATH) is False:\n",
    "    os.mkdir(SAVE_PATH+\"/only_error_input_F4F\")\n",
    "    os.mkdir(SAVE_PATH+\"/F4F_weight\")"
   ]
  },
  {
   "cell_type": "code",
   "execution_count": 7,
   "id": "65406e90-af55-45a0-97c1-e5e54d2555c8",
   "metadata": {},
   "outputs": [],
   "source": [
    "trainset = torchvision.datasets.ImageFolder(root=TRAIN_DATA_PATH, transform=transforms_train) \n",
    "trainloader = torch.utils.data.DataLoader(trainset, batch_size=batchsize, shuffle=False,num_workers=4)\n",
    "testset = torchvision.datasets.ImageFolder(root=TEST_DATA_PATH, transform=transforms_test)\n",
    "testloader = torch.utils.data.DataLoader(testset, batch_size=batchsize, shuffle=False, num_workers=4)"
   ]
  },
  {
   "cell_type": "code",
   "execution_count": 8,
   "id": "9de2ef49-83e9-4976-ab34-7fca09631041",
   "metadata": {},
   "outputs": [],
   "source": [
    "\n",
    "loss_start_index=0\n",
    "# hook 설정!\n",
    "\n",
    "activation_input = {}\n",
    "def preprocessing(name): \n",
    "    def hook(model, input): \n",
    "        input[0][:,loss_start_index:loss_start_index+128] = 0 \n",
    "        activation_input[name] = input[0]\n",
    "    return hook\n",
    "\n",
    "class F4F_only_error_index(nn.Module): \n",
    "    def __init__(self):\n",
    "        super(F4F_only_error_index, self).__init__()\n",
    "        #self.fc1=nn.Linear(512, 3 * 3 * 512)\n",
    "        self.fc1=nn.Linear(512+3*3*512, 3 * 3 * 512)\n",
    "        self.f4f_optimizer = torch.optim.SGD([self.fc1.weight, self.fc1.bias],lr=lr,weight_decay=1e-4)\n",
    "        \n",
    "    def forward(self,x): \n",
    "        x=self.fc1(x) \n",
    "        output=torch.tanh(x)\n",
    "        return output\n",
    "\n",
    "activation1 = {}\n",
    "def get_activation1(name):\n",
    "    def hook(model, input, output):\n",
    "        activation1[name] = output.detach()\n",
    "    return hook\n",
    "        \n",
    "activation2 = {}\n",
    "def get_activation2(name): \n",
    "    def hook(model, input, output):\n",
    "        activation2[name] = output\n",
    "    return hook\n",
    "\n",
    "def error_index_make(loss_start_index):\n",
    "    error_index=[]\n",
    "    for index in range(512):\n",
    "        if loss_start_index<=index and index < loss_start_index+128: \n",
    "            error_index.append(1)\n",
    "        else:\n",
    "            error_index.append(0)\n",
    "    error_index=torch.Tensor(error_index)\n",
    "    error_index=error_index.unsqueeze(0).repeat(512,1)\n",
    "    #print(error_index.size())\n",
    "    return error_index"
   ]
  },
  {
   "cell_type": "code",
   "execution_count": 9,
   "id": "c1509247-4e12-4077-8d9e-fbe73ecb66ac",
   "metadata": {},
   "outputs": [],
   "source": [
    "\n",
    "F4F=F4F_only_error_index() \n",
    "F4F.cuda()\n",
    "criterion = nn.MSELoss().cuda()\n",
    "optimizer = torch.optim.SGD(F4F.parameters(),lr=lr,weight_decay=1e-4)\n",
    "F4F.train()\n",
    "\n",
    "#### 기존 모델에서 forward hook 통해서 conv5_1의 output 저장 ###\n",
    "for name, module in pretrained_model.named_modules():\n",
    "    if name==\"features.34\": \n",
    "        pretrained_model.features[34].register_forward_hook(get_activation1(name))\n",
    "        break\n",
    "\n",
    "##### 새로운 모델에서 pre hook ##### (error input 넣기)\n",
    "for name, module in new_model.named_modules():\n",
    "    if name==\"features.34\": \n",
    "        module.register_forward_pre_hook(preprocessing(name))\n",
    "        break\n",
    "    \n",
    "#### 새로운 모델에서 conv5_1의 결과 뽑기 ####\n",
    "for name, module in new_model.named_modules():\n",
    "    if name==\"features.34\": # \n",
    "        new_model.features[34].register_forward_hook(get_activation2(name))\n",
    "        break\n",
    "\n",
    "#### 원래 parameter 저장 ####\n",
    "original_parameter = torch.empty(512,512,3,3) \n",
    "for name, parameter in new_model.named_parameters():\n",
    "    if name == 'features.34.weight': \n",
    "        original_parameter=new_model.features[34].weight.data\n",
    "        original_bias     =new_model.features[34].bias.data\n",
    "        break        \n",
    "original_parameter = original_parameter.cuda()\n",
    "original_bias      = original_bias.cuda()"
   ]
  },
  {
   "cell_type": "code",
   "execution_count": null,
   "id": "09d18769-1d61-4edb-a235-d3b27bd83389",
   "metadata": {},
   "outputs": [
    {
     "name": "stderr",
     "output_type": "stream",
     "text": [
      "EPOCH 0 : 100%|██████████| 20019/20019 [2:30:54<00:00,  2.21it/s]  "
     ]
    },
    {
     "name": "stdout",
     "output_type": "stream",
     "text": [
      "train accuracy : 0.14%\n",
      "\n"
     ]
    },
    {
     "name": "stderr",
     "output_type": "stream",
     "text": [
      "\n",
      "EPOCH 1 :   0%|          | 0/20019 [00:00<?, ?it/s]"
     ]
    },
    {
     "name": "stdout",
     "output_type": "stream",
     "text": [
      "val top-1 accuracy : 0.68%\n",
      "\n"
     ]
    },
    {
     "name": "stderr",
     "output_type": "stream",
     "text": [
      "EPOCH 1 : 100%|██████████| 20019/20019 [2:29:10<00:00,  2.24it/s]  "
     ]
    },
    {
     "name": "stdout",
     "output_type": "stream",
     "text": [
      "train accuracy : 0.83%\n",
      "\n"
     ]
    },
    {
     "name": "stderr",
     "output_type": "stream",
     "text": [
      "\n",
      "EPOCH 2 :   0%|          | 0/20019 [00:00<?, ?it/s]"
     ]
    },
    {
     "name": "stdout",
     "output_type": "stream",
     "text": [
      "val top-1 accuracy : 0.68%\n",
      "\n"
     ]
    },
    {
     "name": "stderr",
     "output_type": "stream",
     "text": [
      "EPOCH 2 : 100%|██████████| 20019/20019 [2:28:56<00:00,  2.24it/s]  "
     ]
    },
    {
     "name": "stdout",
     "output_type": "stream",
     "text": [
      "train accuracy : 0.82%\n",
      "\n"
     ]
    },
    {
     "name": "stderr",
     "output_type": "stream",
     "text": [
      "\n",
      "EPOCH 3 :   0%|          | 0/20019 [00:00<?, ?it/s]"
     ]
    },
    {
     "name": "stdout",
     "output_type": "stream",
     "text": [
      "val top-1 accuracy : 0.68%\n",
      "\n"
     ]
    },
    {
     "name": "stderr",
     "output_type": "stream",
     "text": [
      "EPOCH 3 : 100%|██████████| 20019/20019 [2:29:00<00:00,  2.24it/s]  "
     ]
    },
    {
     "name": "stdout",
     "output_type": "stream",
     "text": [
      "train accuracy : 0.85%\n",
      "\n"
     ]
    },
    {
     "name": "stderr",
     "output_type": "stream",
     "text": [
      "\n",
      "EPOCH 4 :   0%|          | 0/20019 [00:00<?, ?it/s]"
     ]
    },
    {
     "name": "stdout",
     "output_type": "stream",
     "text": [
      "val top-1 accuracy : 0.68%\n",
      "\n"
     ]
    },
    {
     "name": "stderr",
     "output_type": "stream",
     "text": [
      "EPOCH 4 : 100%|██████████| 20019/20019 [2:29:16<00:00,  2.24it/s]  "
     ]
    },
    {
     "name": "stdout",
     "output_type": "stream",
     "text": [
      "train accuracy : 0.84%\n",
      "\n"
     ]
    },
    {
     "name": "stderr",
     "output_type": "stream",
     "text": [
      "\n",
      "EPOCH 5 :   0%|          | 0/20019 [00:00<?, ?it/s]"
     ]
    },
    {
     "name": "stdout",
     "output_type": "stream",
     "text": [
      "val top-1 accuracy : 0.68%\n",
      "\n"
     ]
    },
    {
     "name": "stderr",
     "output_type": "stream",
     "text": [
      "EPOCH 5 : 100%|██████████| 20019/20019 [2:29:23<00:00,  2.23it/s]  "
     ]
    },
    {
     "name": "stdout",
     "output_type": "stream",
     "text": [
      "train accuracy : 0.84%\n",
      "\n"
     ]
    },
    {
     "name": "stderr",
     "output_type": "stream",
     "text": [
      "\n",
      "EPOCH 6 :   0%|          | 0/20019 [00:00<?, ?it/s]"
     ]
    },
    {
     "name": "stdout",
     "output_type": "stream",
     "text": [
      "val top-1 accuracy : 0.68%\n",
      "\n"
     ]
    },
    {
     "name": "stderr",
     "output_type": "stream",
     "text": [
      "EPOCH 6 : 100%|██████████| 20019/20019 [2:29:28<00:00,  2.23it/s]  "
     ]
    },
    {
     "name": "stdout",
     "output_type": "stream",
     "text": [
      "train accuracy : 0.83%\n",
      "\n"
     ]
    },
    {
     "name": "stderr",
     "output_type": "stream",
     "text": [
      "\n",
      "EPOCH 7 :   0%|          | 0/20019 [00:00<?, ?it/s]"
     ]
    },
    {
     "name": "stdout",
     "output_type": "stream",
     "text": [
      "val top-1 accuracy : 0.68%\n",
      "\n"
     ]
    },
    {
     "name": "stderr",
     "output_type": "stream",
     "text": [
      "EPOCH 7 : 100%|██████████| 20019/20019 [2:29:10<00:00,  2.24it/s]  "
     ]
    },
    {
     "name": "stdout",
     "output_type": "stream",
     "text": [
      "train accuracy : 0.84%\n",
      "\n"
     ]
    },
    {
     "name": "stderr",
     "output_type": "stream",
     "text": [
      "\n",
      "EPOCH 8 :   0%|          | 0/20019 [00:00<?, ?it/s]"
     ]
    },
    {
     "name": "stdout",
     "output_type": "stream",
     "text": [
      "val top-1 accuracy : 0.68%\n",
      "\n"
     ]
    },
    {
     "name": "stderr",
     "output_type": "stream",
     "text": [
      "EPOCH 8 :  47%|████▋     | 9317/20019 [1:09:14<1:19:35,  2.24it/s]"
     ]
    }
   ],
   "source": [
    "\n",
    "##### epoch 시작 #####\n",
    "loss_start_index=0\n",
    "for epoch in range(num_epochs): \n",
    "\n",
    "    ####### train #######\n",
    "    running_loss=0.0\n",
    "    correct_top1 = 0\n",
    "    total = 0\n",
    "    for idx, (images, labels) in enumerate(tqdm(trainloader,desc=f'EPOCH {epoch} ')):\n",
    "        error_index=error_index_make(loss_start_index)\n",
    "        error_index=error_index.cuda()\n",
    "        \n",
    "        #offset = F4F(error_index)\n",
    "        #offset=torch.reshape(offset,[512,3,3])  \n",
    "        #test_filter = original_parameter+offset\n",
    "        test_filter = torch.empty(512,512,3,3)\n",
    "        for name, parameter in new_model.named_parameters():\n",
    "            if name == 'features.34.weight':\n",
    "                weight = torch.reshape(original_parameter,(512,512*3*3)).to(device)\n",
    "                #print(weight.size(),error_index.size())\n",
    "                data = torch.cat( (weight,error_index), 1)\n",
    "                offset = torch.reshape(F4F(data),(512,512,3,3))\n",
    "                new_model.features[34].weight.data = original_parameter[:, :]+offset\n",
    "                test_filter = new_model.features[34].weight\n",
    "                #print(new_model.features[34].weight)\n",
    "                break\n",
    "        \n",
    "        images = images.cuda()\n",
    "        labels = labels.cuda()\n",
    "        with torch.no_grad():\n",
    "            out1=pretrained_model(images)\n",
    "        out2=new_model(images)\n",
    "        test_output = torch.nn.functional.conv2d(activation_input['features.34'].detach(), test_filter, original_bias, 1, 1)\n",
    "\n",
    "        optimizer.zero_grad()\n",
    "        loss = criterion(test_output,activation1['features.34']) \n",
    "        running_loss+=loss.item()\n",
    "        loss.backward() \n",
    "        optimizer.step()\n",
    "        _, predicted=torch.max(out2,1)\n",
    "        total += labels.size(0) \n",
    "        correct_top1 += (predicted == labels).sum().item()\n",
    "        #if idx>1700: \n",
    "        #    break\n",
    "    print(\"train accuracy : {0:0.2f}%\\n\".format(correct_top1/total*100))\n",
    "    file.write(\"===== {0}th Epoch ======\\n\".format(epoch+1))\n",
    "    file.write(\"loss : {0}\\n\".format(running_loss))\n",
    "    file.write(\"train accuracy : {0:0.2f}%\\n\".format(correct_top1/total*100))  \n",
    "        \n",
    "    #### val #####\n",
    "    for name, parameter in new_model.named_parameters():\n",
    "        if name == 'features.34.weight':\n",
    "            weight = torch.reshape(original_parameter,(512,512*3*3)).to(device)\n",
    "                #print(weight.size(),error_index.size())\n",
    "            data = torch.cat( (weight,error_index), 1)\n",
    "            offset = torch.reshape(F4F(data),(512,512,3,3))\n",
    "            new_model.features[34].weight.data = original_parameter[:, :]+offset\n",
    "            test_filter = new_model.features[34].weight\n",
    "            #print(new_model.features[34].weight)\n",
    "            break\n",
    "    new_model.eval()\n",
    "\n",
    "    correct_top1 = 0\n",
    "    total = 0\n",
    "    with torch.no_grad(): \n",
    "        for idx, (images, labels) in enumerate(testloader):\n",
    "            images = images.cuda()\n",
    "            labels = labels.cuda()\n",
    "            outputs = new_model(images)\n",
    "            _, predicted = torch.max(outputs, 1)\n",
    "            total += labels.size(0) \n",
    "            correct_top1 += (predicted == labels).sum().item()\n",
    "    print(\"val top-1 accuracy : {0:0.2f}%\\n\".format(correct_top1 / total * 100))\n",
    "    file.write(\"error channel {0}~{1}, epoch : [{2}/{3}]\\n\".format(loss_start_index,loss_start_index+128-1, epoch+1, num_epochs))        \n",
    "    file.write(\"val top-1 accuracy :  {0:0.2f}%\\n\".format(correct_top1 / total * 100))\n",
    "    # scheduler 부분\n",
    "    if (correct_top1 / total * 100) < before_accuracy:\n",
    "        optimizer = torch.optim.SGD(F4F.parameters(),lr=before_lr*0.5,weight_decay=1e-4)\n",
    "        before_lr=before_lr*0.8\n",
    "    before_accuracy=(correct_top1 / total * 100)\n",
    "    \n",
    "            \n",
    "file.close() "
   ]
  },
  {
   "cell_type": "code",
   "execution_count": null,
   "id": "b781fdb0-565e-4b0f-95f7-e9a75f6ecec0",
   "metadata": {},
   "outputs": [],
   "source": [
    "!ls media/0/Network/0722_dongwhee//only_error_input_F4F/"
   ]
  },
  {
   "cell_type": "code",
   "execution_count": null,
   "id": "bfac6719-dbd8-49e9-9ec5-d9b57121203d",
   "metadata": {},
   "outputs": [],
   "source": [
    "!ls media/0/Network/0722_dongwhee/only_error_input_F4F/"
   ]
  },
  {
   "cell_type": "code",
   "execution_count": null,
   "id": "3509e827-dce7-4045-85d3-ddfc60402932",
   "metadata": {},
   "outputs": [],
   "source": [
    "os.mkdir(\"media/0/Network/0722_dongwhee/only_error_input_F4F\")"
   ]
  },
  {
   "cell_type": "code",
   "execution_count": null,
   "id": "e38dbeea-77ba-4a71-8420-84008b5b2ad4",
   "metadata": {},
   "outputs": [],
   "source": [
    "'''\n",
    "POCH 0 : 100%|██████████| 20019/20019 [2:54:46<00:00,  1.91it/s]  \n",
    "train accuracy : 7.38%\n",
    "\n",
    "\n",
    "EPOCH 1 :   0%|          | 0/20019 [00:00<?, ?it/s]\n",
    "val top-1 accuracy : 66.51%\n",
    "\n",
    "EPOCH 1 : 100%|██████████| 20019/20019 [2:56:36<00:00,  1.89it/s]  \n",
    "train accuracy : 63.75%\n",
    "\n",
    "\n",
    "EPOCH 2 :   0%|          | 0/20019 [00:00<?, ?it/s]\n",
    "val top-1 accuracy : 66.45%\n",
    "\n",
    "EPOCH 2 : 100%|██████████| 20019/20019 [2:56:45<00:00,  1.89it/s]  \n",
    "train accuracy : 64.26%\n",
    "\n",
    "\n",
    "EPOCH 3 :   0%|          | 0/20019 [00:00<?, ?it/s]\n",
    "val top-1 accuracy : 66.42%\n",
    "\n",
    "EPOCH 3 : 100%|██████████| 20019/20019 [2:55:56<00:00,  1.90it/s]  \n",
    "train accuracy : 64.20%\n",
    "\n",
    "\n",
    "EPOCH 4 :   0%|          | 0/20019 [00:00<?, ?it/s]\n",
    "val top-1 accuracy : 66.48%\n",
    "\n",
    "EPOCH 4 : 100%|██████████| 20019/20019 [2:57:15<00:00,  1.88it/s]  \n",
    "train accuracy : 64.30%\n",
    "\n",
    "\n",
    "EPOCH 5 :   0%|          | 0/20019 [00:00<?, ?it/s]\n",
    "val top-1 accuracy : 66.45%\n",
    "\n",
    "EPOCH 5 : 100%|██████████| 20019/20019 [2:56:55<00:00,  1.89it/s]  \n",
    "train accuracy : 64.24%\n",
    "\n",
    "\n",
    "EPOCH 6 :   0%|          | 0/20019 [00:00<?, ?it/s]\n",
    "val top-1 accuracy : 66.47%\n",
    "\n",
    "EPOCH 6 : 100%|██████████| 20019/20019 [2:55:25<00:00,  1.90it/s]  \n",
    "train accuracy : 64.27%\n",
    "\n",
    "\n",
    "EPOCH 7 :   0%|          | 0/20019 [00:00<?, ?it/s]\n",
    "val top-1 accuracy : 66.47%\n",
    "'''"
   ]
  }
 ],
 "metadata": {
  "kernelspec": {
   "display_name": "Python 3",
   "language": "python",
   "name": "python3"
  },
  "language_info": {
   "codemirror_mode": {
    "name": "ipython",
    "version": 3
   },
   "file_extension": ".py",
   "mimetype": "text/x-python",
   "name": "python",
   "nbconvert_exporter": "python",
   "pygments_lexer": "ipython3",
   "version": "3.7.10"
  }
 },
 "nbformat": 4,
 "nbformat_minor": 5
}
